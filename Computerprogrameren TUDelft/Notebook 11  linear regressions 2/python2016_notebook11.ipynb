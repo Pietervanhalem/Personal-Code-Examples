{
 "cells": [
  {
   "cell_type": "markdown",
   "metadata": {},
   "source": [
    "<figure>\n",
    "  <IMG SRC=\"https://raw.githubusercontent.com/mbakker7/exploratory_computing_with_python/master/tudelft_logo.png\" WIDTH=250 ALIGN=\"right\">\n",
    "</figure>\n",
    "\n",
    "# Exploratory Computing with Python\n",
    "*Developed by Mark Bakker*"
   ]
  },
  {
   "cell_type": "markdown",
   "metadata": {},
   "source": [
    "## Notebook 11: Regression analysis II"
   ]
  },
  {
   "cell_type": "code",
   "execution_count": 1,
   "metadata": {
    "collapsed": true
   },
   "outputs": [],
   "source": [
    "import numpy as np\n",
    "import matplotlib.pyplot as plt\n",
    "%matplotlib inline"
   ]
  },
  {
   "cell_type": "markdown",
   "metadata": {},
   "source": [
    "In this Notebook, we learn how to estimate the confidence intervals of estimated parameters, we learn how to fit a straight line through a set of data with outliers, and we learn how to apply the `lmfit` package."
   ]
  },
  {
   "cell_type": "markdown",
   "metadata": {},
   "source": [
    "### How accurate are our parameter estimates?\n",
    "\n",
    "In the first Notebook on regression analysis, we fitted a number of models to several different data sets. The models were fitted by searching for the parameters that gave the best fit, where the best fit was defined as the smallest possible value of the sum of the squares of the errors (the residuals). The optimal parameters are estimates of the true underlying parameters. Since the optimal parameters are estimates, not only their optimal values should be reported but also their (estimated) confidence intervals. "
   ]
  },
  {
   "cell_type": "markdown",
   "metadata": {},
   "source": [
    "The confidence intervals of the parameters of a model can be estimated if we can estimate the standard deviation of the estimates of the parameters and if a few other statistical conditions are met, especially that the errors are normally distributed and independent (the error at one point does not depend on the error at another point), and that \n",
    "the number of observations $N$ is sufficiently large. A common value for large is 40 or more. "
   ]
  },
  {
   "cell_type": "markdown",
   "metadata": {},
   "source": [
    "### Confidence intervals of parameters of a straight line\n",
    "The standard deviations of the parameters of a straight line can be computed as follows. Consider a data set with $N$ values $x_i$ and corresponding values of $y_i$. A straight line is fit through the data with slope $a$ and intercept $b$. \n",
    "\n",
    "$$y = ax + b$$\n",
    "\n",
    "Estimates of the standard deviations of the parameters may be computed as follows:\n",
    "\n",
    "$$s_a = \\sqrt{\\frac{\\sum(y_i-\\hat{y}_i)^2}{N-2}} \\left/ \\sqrt{\\sum{(x_i-\\bar{x})^2}} \\right.$$\n",
    "\n",
    "$$s_b = s_a \\sqrt{\\frac{1}{N}\\sum{x_i^2}}$$\n",
    "\n",
    "where $\\hat{y}_i$ are the fitted values. The 95% confidence interval may now be estimated as plus or minus twice the estimated standard deviation. "
   ]
  },
  {
   "cell_type": "markdown",
   "metadata": {},
   "source": [
    "### Exercise 1. Confidence intervals of the parameters of a straight line using estimated standard deviations\n",
    "Load the $x,y$ values of 20 data points from the file `xydatafit.dat`. Fit a straight line through the data by minimizing the sum of squared errors (using the `linregress` function of `scipy.stats`). Estimate the 95% confidence intervals of the slope and intercept of the straight line using the estimates of the standard deviations of the parameters as given above. "
   ]
  },
  {
   "cell_type": "code",
   "execution_count": 2,
   "metadata": {
    "collapsed": false
   },
   "outputs": [
    {
     "name": "stdout",
     "output_type": "stream",
     "text": [
      "The standard deviation for the slope is: 0.641829720884 and for the intercept: 7.50809393285\n",
      "The the 95% confidence interval for the slope is: 4.79378425854 and 7.36110314208\n",
      "The the 95% confidence interval for the intercept is: 27.5662694931 and 57.5986452245\n"
     ]
    },
    {
     "data": {
      "image/png": "[encoded data removed]",
      "text/plain": [
       "<matplotlib.figure.Figure at 0x1504a416048>"
      ]
     },
     "metadata": {},
     "output_type": "display_data"
    }
   ],
   "source": [
    "from scipy.stats import linregress\n",
    "x, y = np.genfromtxt('xydatafit.dat', delimiter=' ' )\n",
    "z = linregress(x,y)\n",
    "Lx = np.linspace(0,20,100)\n",
    "Ly = z.slope * Lx + z.intercept\n",
    "\n",
    "k1b = 0\n",
    "k2b = 0\n",
    "k3b = 0\n",
    "N = 0\n",
    "k = 0\n",
    "q = 0\n",
    "\n",
    "for i in range(len(x)):\n",
    "    N += 1\n",
    "    k += x[i]\n",
    "    q += y[i]\n",
    "\n",
    "x_ = k/N\n",
    "y_ = q/N\n",
    "    \n",
    "for i in range(len(x)):\n",
    "    k1a = (y[i] - (z.slope * x[i] + z.intercept)) ** 2\n",
    "    k1b += k1a  \n",
    "\n",
    "    k2a = (x[i] - x_) ** 2\n",
    "    k2b += k2a  \n",
    "    \n",
    "    k3a = x[i] ** 2\n",
    "    k3b += k3a\n",
    "\n",
    "sl = np.sqrt((k1b/(N-2))/(k2b))\n",
    "sl2 = sl * np.sqrt((1/N) * k3b)\n",
    "plt.plot(x,y,'rd', Lx,Ly,'b')\n",
    "print('The standard deviation for the slope is:',sl,'and for the intercept:',sl2)\n",
    "print('The the 95% confidence interval for the slope is:',z.slope -2 * sl, 'and', 2 * sl + z.slope)\n",
    "print('The the 95% confidence interval for the intercept is:', -2 * sl2 + z.intercept, 'and', 2 * sl2 + z.intercept)"
   ]
  },
  {
   "cell_type": "markdown",
   "metadata": {},
   "source": [
    "### The bootstrap method\n",
    "\n",
    "What now if we don't have errors that are normally distributed and independent? Or if we have only a few data points (like above, where we only have 20)? Or if we don't have equations to compute the standard deviations of the parameters, for example when we want to fit something else than a straight line? One option is to use a method called bootstrapping. \n",
    "\n",
    "Bootstrapping is a powerful statistical technique to estimate confidence intervals. It is especially useful when the sample size that we are working with is small. Bootstrap techniques work quite well with samples that have less than 40 elements while assuming nothing about the distribution of the data (this information is taken from [here](http://statistics.about.com/od/Applications/a/Example-Of-Bootstrapping.htm)).\n",
    "\n",
    "A great advantage of bootstrap is its simplicity. It is a straightforward way to derive confidence intervals for estimators of complicated parameters of the distribution. Although for most problems it is impossible to know the true confidence intervals, bootstrap is asymptotically more accurate than the standard intervals obtained using sample variance and assumptions of normality.\n",
    "Although bootstrapping is (under some conditions) asymptotically consistent, it does not provide general finite-sample guarantees. There are serveral underlying assumptions for bootstrapping to be valid, including that the errors are independent (this information is taken from <a href=\"https://en.wikipedia.org/wiki/Bootstrapping_(statistics)\">here</a>."
   ]
  },
  {
   "cell_type": "markdown",
   "metadata": {},
   "source": [
    "There are many different flavors of bootstrapping. In this Notebook, we will make use of *resampling residuals* to estimate the confidence intervals of the estimated parameters. The procedure is as follows.\n",
    "\n",
    "Consider a data set with $N$ values $x_i$ and corresponding values $y_i$. A model is fitted to the data and the fitted values are called $\\hat{y}_i$. The residual $r_i$ can be computed as $r_i=y_i - \\hat{y}$. The confidence intervals of the parameters of the model may be obtained with bootstrapping as follows:\n",
    "1. Compute and store the optimal parameters using the regular approach. \n",
    "2. Compute the fitted values $\\hat{y}_i$.\n",
    "3. Compute and store the residuals $r_i$ in an array.\n",
    "4. For every data point, draw a residual at random (with replacement) from the array of residuals using the `numpy.random.choice` function and add it to the fitted value $\\hat{y}_i$. Let's call these values $\\tilde{y}_i$.\n",
    "5. Compute and store the optimal parameters that fit through the $\\tilde{y}_i$ values.\n",
    "6. Repeat steps 4 and 5 $M$ times, for example using $M=1000$. \n",
    "7. Compute the approximate $95$% confidence intervals of the parameters using the `np.percentile` function."
   ]
  },
  {
   "cell_type": "markdown",
   "metadata": {},
   "source": [
    "### Exercise 2. Confidence intervals of the parameters of a straight line using bootstrapping\n",
    "Load the $x,y$ values of 20 data points from the file `xydatafit.dat`. Fit a straight line through the data by minimizing the sum of squared errors (using the `linregress` function of `scipy.stats`). Estimate the 95% confidence intervals of the slope and intercept of the straight line using bootstrapping and $M=1000$. Create a histogram of the 1000 estimates of the slope and a separate histogram of the 1000 estimates of the intercept. Report the 95% intervals of both parameters. How do they compare to the estimates in Exercise 1?\n",
    "\n",
    "Bonus question: On the same histograms, plot the theoretical Normal distributions using your estimates of the slope, intercept, and their standard deviations from Exercise 1. Spoiler: they should match pretty well."
   ]
  },
  {
   "cell_type": "code",
   "execution_count": 3,
   "metadata": {
    "collapsed": false
   },
   "outputs": [
    {
     "name": "stdout",
     "output_type": "stream",
     "text": [
      "The the 95% confidence interval for the slope is: 4.91513208338 and 7.25983712879\n",
      "The the 95% confidence interval for the intercept is: 29.467264321 and 56.4310694964\n",
      "\n",
      "The 95% confidence intervals are smaller\n"
     ]
    },
    {
     "data": {
      "image/png": "[encoded data removed]",
      "text/plain": [
       "<matplotlib.figure.Figure at 0x1504d5320b8>"
      ]
     },
     "metadata": {},
     "output_type": "display_data"
    },
    {
     "data": {
      "image/png": "[encoded data removed]",
      "text/plain": [
       "<matplotlib.figure.Figure at 0x1504d532668>"
      ]
     },
     "metadata": {},
     "output_type": "display_data"
    },
    {
     "data": {
      "image/png": "[encoded data removed]",
      "text/plain": [
       "<matplotlib.figure.Figure at 0x1504d5f76a0>"
      ]
     },
     "metadata": {},
     "output_type": "display_data"
    }
   ],
   "source": [
    "from scipy.stats import linregress\n",
    "from scipy.stats import norm\n",
    "x, y = np.genfromtxt('xydatafit.dat', delimiter=' ' )\n",
    "z = linregress(x,y)\n",
    "Lx = np.linspace(0,20,100)\n",
    "Ly = z.slope * Lx + z.intercept\n",
    "yl = np.zeros(len(x))\n",
    "r = np.zeros(len(x))\n",
    "M = 1000\n",
    "s = np.zeros(M)\n",
    "intc = np.zeros(M)\n",
    "\n",
    "for i in range(len(x)):\n",
    "    yl[i] = z.slope * x[i] + z.intercept\n",
    "    r[i] = y[i] - yl[i]\n",
    "\n",
    "for i in range(M):\n",
    "    yr = np.random.choice(r, len(x))\n",
    "    yr2 = yr + yl\n",
    "    q = linregress(x,yr2)\n",
    "    s[i] = q.slope\n",
    "    intc[i] = q.intercept\n",
    "    \n",
    "smin = np.percentile(s, 2.5)\n",
    "smax = np.percentile(s, 97.5)\n",
    "\n",
    "intcmin = np.percentile(intc, 2.5)\n",
    "intcmax = np.percentile(intc, 97.5)\n",
    "\n",
    "\n",
    "xnorm1 = np.linspace(3,9,100)\n",
    "ynorm1 = norm.pdf(xnorm1, loc = z.slope, scale = sl)\n",
    "\n",
    "xnorm2 = np.linspace(18,70,100)\n",
    "ynorm2 = norm.pdf(xnorm2, loc = z.intercept, scale = sl2)\n",
    "\n",
    "print('The the 95% confidence interval for the slope is:', np.percentile(s, 2.5), 'and',np.percentile(s, 97.5))\n",
    "print('The the 95% confidence interval for the intercept is:', np.percentile(intc, 2.5), 'and',np.percentile(intc, 97.5))\n",
    "print()\n",
    "print('The 95% confidence intervals are smaller')\n",
    "\n",
    "plt.plot(Lx,Ly, x,y,'ro', x, (smin * x + intcmin), 'g--', x, (smax * x + intcmax), 'g--')\n",
    "\n",
    "plt.figure()\n",
    "plt.title('slope')\n",
    "a = plt.hist(s,bins = 30,normed=True)\n",
    "b = plt.plot(xnorm1,ynorm1, 'r')\n",
    "\n",
    "plt.figure()\n",
    "plt.title('intercept')\n",
    "a = plt.hist(intc,bins = 30,normed=True)\n",
    "b = plt.plot(xnorm2,ynorm2, 'r')"
   ]
  },
  {
   "cell_type": "markdown",
   "metadata": {},
   "source": [
    "### Data with outliers\n",
    "It is difficult to fit a reasonable straight line to a data set when that dataset contains several significant outliers (values that are obviously in error and fall way outside the general trend of the data). For example, consider the 20 data points in the file `xydatafit_outliers.dat`. The values at $x=5$ and $x=15$ appear to be outliers and the best fit straight line is above almost all the other data points:"
   ]
  },
  {
   "cell_type": "code",
   "execution_count": 4,
   "metadata": {
    "collapsed": false
   },
   "outputs": [
    {
     "data": {
      "image/png": "[encoded data removed]",
      "text/plain": [
       "<matplotlib.figure.Figure at 0x1504c2d20b8>"
      ]
     },
     "metadata": {},
     "output_type": "display_data"
    }
   ],
   "source": [
    "x, y = np.loadtxt('xydatafit_outliers.dat')\n",
    "slope, intercept, r_value, p_value, sig_a = linregress(x, y)\n",
    "plt.figure(figsize=(6, 4))\n",
    "plt.plot(x, y, 'bo', label='data')\n",
    "plt.plot(x, slope * x + intercept, 'r', label='model')\n",
    "plt.xlabel('x values')\n",
    "plt.ylabel('y values')\n",
    "plt.legend(loc='best', fontsize='small');"
   ]
  },
  {
   "cell_type": "markdown",
   "metadata": {},
   "source": [
    "### Theil-Sen estimator\n",
    "A robust approach to fit a straight line through a data set that contains outliers it the Theil-Sen method (see the wiki [here](https://en.wikipedia.org/wiki/Theil–Sen_estimator)); it also works well when the data is skewed. The idea behind the Theil-Sen method is very simple: the slope and intercept are computed and stored for every pair of data points. The best estimate of the slope and intercept are the median of the computed slopes and intercepts. "
   ]
  },
  {
   "cell_type": "markdown",
   "metadata": {},
   "source": [
    "### Exercise 3. Fit a straight line through a data set with outliers. \n",
    "Fit a straight line through the 20 data points contained in the file `xydatafit_outliers.dat` using the Theil-Sen approach. You need a double loop to compute all the slopes and intercepts for all data pairs. Make sure you don't compute the slope and intercept twice for each data pair. Report the slope and intercept you obtain. Make a graph that shows the data, the best fit straight line using regular linear regression, and the Theil-Sen estimate of the best fit line."
   ]
  },
  {
   "cell_type": "code",
   "execution_count": 5,
   "metadata": {
    "collapsed": false
   },
   "outputs": [
    {
     "name": "stdout",
     "output_type": "stream",
     "text": [
      "The slope with the Theil-Sen approach is: 5.68323324919 The intercept is: 43.738895195\n"
     ]
    },
    {
     "data": {
      "image/png": "[encoded data removed]",
      "text/plain": [
       "<matplotlib.figure.Figure at 0x1504c338eb8>"
      ]
     },
     "metadata": {},
     "output_type": "display_data"
    }
   ],
   "source": [
    "x, y = np.genfromtxt('xydatafit_outliers.dat', delimiter=' ' )\n",
    "z2 = linregress(x,y)\n",
    "Lx2 = np.linspace(0,20,100)\n",
    "Ly2 = z2.slope * Lx + z2.intercept\n",
    "N = -1\n",
    "k = 0\n",
    "q = 0\n",
    "for i in range(len(x) - 1):\n",
    "    k += 1\n",
    "    q += k\n",
    "s = np.zeros(q)\n",
    "intc = np.zeros(q)\n",
    "\n",
    "for i in range(len(x)):\n",
    "    for j in range(len(x)):\n",
    "        if x[j] != x[i] :\n",
    "            N += 1\n",
    "            slp = (y[i] - y[j])/(x[i]-x[j])\n",
    "            intcp = y[i] - x[i]*slp\n",
    "            intc[N] = intcp\n",
    "            s[N] = slp\n",
    "        else:\n",
    "            break\n",
    "\n",
    "intercept = np.median(intc)\n",
    "slope = np.median(s)\n",
    "Lx = np.linspace(0,20,100)\n",
    "Ly = (slope * Lx + intercept)\n",
    "plt.plot(x,y,'ro', Lx,Ly,'b', Lx2,Ly2, 'g')\n",
    "plt.title('x versus y')\n",
    "plt.xlabel('x values')\n",
    "plt.ylabel('y values')\n",
    "plt.legend(('data', 'Theil-Sen approach', 'Linregress approach'),loc='best', fontsize='small');\n",
    "\n",
    "print('The slope with the Theil-Sen approach is:',slope, 'The intercept is:', intercept)"
   ]
  },
  {
   "cell_type": "markdown",
   "metadata": {},
   "source": [
    "### The `lmfit` package\n",
    "In the previous Notebook on linear regression, we learned how to use the `curve_fit` method to fit an arbitrary function to a set of data. The `curve_fit` method works well, but it has some limitations. For example, you cannot set boundaries for your parameters, nor can you fix a parameter during optimization. A versatile package for fitting data is the `lmfit` package. The `lmfit` package does not come with the Anaconda Python distribution (yet), so you have to install it yourself. Open the command prompt on Windows (go to start $\\to$ run and type `cmd`) or the terminal on a Mac (search for `terminal` in spotlight). Then type\n",
    "    \n",
    "    pip install lmfit\n",
    "    \n",
    "and `lmfit` will be installed (you need to be on the internet, of course). "
   ]
  },
  {
   "cell_type": "markdown",
   "metadata": {},
   "source": [
    "The `lmfit` package has an object oriented structure. Here we will learn the basics.\n",
    "Full information on `lmfit` can be found [here](http://lmfit.github.io/lmfit-py/). \n",
    "We start by importing the `Parameters` class and the `minimize` and `fit_report` functions."
   ]
  },
  {
   "cell_type": "code",
   "execution_count": 6,
   "metadata": {
    "collapsed": false
   },
   "outputs": [],
   "source": [
    "from lmfit import Parameters, minimize, fit_report"
   ]
  },
  {
   "cell_type": "markdown",
   "metadata": {},
   "source": [
    "Next, we write a Python function to fit through the data. As an example we will fit a straight line. The first argument of the function is a `Parameters` object, which stores the parameter values in a dictionary. Recall what a dictionary is: A dictionary is a data type that links a word in the dictionary to a value and is specified between braces `{}`. The value can be anything. You can then use the word in the dictionary as the index, just like you would look up a word in a paper dictionary. For example:"
   ]
  },
  {
   "cell_type": "code",
   "execution_count": 7,
   "metadata": {
    "collapsed": false
   },
   "outputs": [
    {
     "name": "stdout",
     "output_type": "stream",
     "text": [
      "20\n",
      "Delft\n"
     ]
    }
   ],
   "source": [
    "example_dict = {'goals': 20, 'city': 'Delft'}\n",
    "print(example_dict['goals'])\n",
    "print(example_dict['city'])"
   ]
  },
  {
   "cell_type": "markdown",
   "metadata": {},
   "source": [
    "The function for a straight line contains two keyword arguments: `xdata`, which are the $x$ values of the data, and `ydata`. If `ydata` is supplied, it is subtracted from the fitted values so that the function returns the residuals. If it is not supplied, the function returns the fitted values. The dictionary of parameter values is obtained from a `Parameters` object with the `valuesdict` function."
   ]
  },
  {
   "cell_type": "code",
   "execution_count": 8,
   "metadata": {
    "collapsed": true
   },
   "outputs": [],
   "source": [
    "def straightline(p, xdata=0, ydata=None):\n",
    "    vals = p.valuesdict()  # store dictionary in variable vals\n",
    "    slope =  vals['slope']\n",
    "    intercept =  vals['intercept']\n",
    "    yfit = slope * xdata + intercept\n",
    "    if ydata is None:\n",
    "        return yfit\n",
    "    else:\n",
    "        return yfit - ydata"
   ]
  },
  {
   "cell_type": "markdown",
   "metadata": {},
   "source": [
    "Now we create a `Parameters` object, add the parameters, and specify an initial value:"
   ]
  },
  {
   "cell_type": "code",
   "execution_count": 9,
   "metadata": {
    "collapsed": true
   },
   "outputs": [],
   "source": [
    "pline = Parameters()\n",
    "pline.add('slope', value=1.0)\n",
    "pline.add('intercept', value=1.0)"
   ]
  },
  {
   "cell_type": "markdown",
   "metadata": {},
   "source": [
    "Finally, we load the data we want to fit, we call the `minimize` function to fit the data, and we print the `fit_report`. The keyword arguments of the function need to be supplied as a dictionary to the keyword argument `kws` of the `minimize` function. "
   ]
  },
  {
   "cell_type": "code",
   "execution_count": 10,
   "metadata": {
    "collapsed": false
   },
   "outputs": [
    {
     "name": "stdout",
     "output_type": "stream",
     "text": [
      "[[Fit Statistics]]\n",
      "    # function evals   = 8\n",
      "    # data points      = 20\n",
      "    # variables        = 2\n",
      "    chi-square         = 5463.697\n",
      "    reduced chi-square = 303.539\n",
      "    Akaike info crit   = 116.203\n",
      "    Bayesian info crit = 118.194\n",
      "[[Variables]]\n",
      "    slope:       6.07744374 +/- 0.641829 (10.56%) (init= 1)\n",
      "    intercept:   42.5824573 +/- 7.508093 (17.63%) (init= 1)\n",
      "[[Correlations]] (unreported correlations are <  0.100)\n",
      "    C(slope, intercept)          = -0.855 \n"
     ]
    }
   ],
   "source": [
    "x, y = np.loadtxt('xydatafit.dat')\n",
    "line_result = minimize(straightline, pline, kws={'xdata':x, 'ydata':y})\n",
    "print(fit_report(line_result))"
   ]
  },
  {
   "cell_type": "markdown",
   "metadata": {},
   "source": [
    "The `minimize` function returns a `MinimizerResult` object. The `fit_report` function may be used to print the most important information of the `MinimizeResult` to the screen. The `chi-square` value is the sum of squared residuals at the optimum. The `+/-` part of the fitted parameters are `+/-` one standard deviation (which is estimated using a numerical derivative). The `Correlations` are a measure of how correlated the parameters are (they are not to be confused with the correlation coefficient $r$ or $r^2$ of the fit). A value of `+1` means they are perfectly correlated, which means that if you multiply both parameters by 2, you get the same answer. A value of `-1` means they are perfectly negatively correlated, which means that if you multiply one parameter by 2 and divide the other by 2, you again get the same answer. You want the correlation between parameters to be small (near zero), but that is not always possible. "
   ]
  },
  {
   "cell_type": "markdown",
   "metadata": {},
   "source": [
    "The `MinimizerResult` object, called `line_result` in the code above, has a number of attributes, including `params`, which is a `Parameters` object with the optimal parameters. The fitted values may be obtained with the `straightline` method defined above, by passing it the optimal parameters and by not supplying it with `ydata`. "
   ]
  },
  {
   "cell_type": "code",
   "execution_count": 11,
   "metadata": {
    "collapsed": false
   },
   "outputs": [
    {
     "name": "stdout",
     "output_type": "stream",
     "text": [
      "[  42.5824573    48.9797665    55.37707571   61.77438492   68.17169412\n",
      "   74.56900333   80.96631253   87.36362174   93.76093095  100.15824015\n",
      "  106.55554936  112.95285856  119.35016777  125.74747698  132.14478618\n",
      "  138.54209539  144.93940459  151.3367138   157.734023    164.13133221]\n"
     ]
    }
   ],
   "source": [
    "yfit = straightline(line_result.params, xdata=x)\n",
    "print(yfit)"
   ]
  },
  {
   "cell_type": "markdown",
   "metadata": {},
   "source": [
    "It is a bit more work to get the estimate standard deviations of the parameters out of the `MinimizerResult` object. The `MinimizerResult` object has an attribute called `covar`, which returns the covariance matrix. The diagonal of the covariance matrix containst the estimated variances of the parameters, and the standard deviations are the square root of the varances. Compare them to the values after the `+/-` sign of the `fit_report` (they are the same):"
   ]
  },
  {
   "cell_type": "code",
   "execution_count": 12,
   "metadata": {
    "collapsed": false
   },
   "outputs": [
    {
     "name": "stdout",
     "output_type": "stream",
     "text": [
      "standard deviations of parameters: [ 0.64182972  7.50809394]\n"
     ]
    }
   ],
   "source": [
    "standard_deviations = np.sqrt(np.diag(line_result.covar))\n",
    "print('standard deviations of parameters:', standard_deviations)"
   ]
  },
  {
   "cell_type": "markdown",
   "metadata": {},
   "source": [
    "### Exercise 4. Check the results of `lmfit`\n",
    "For the straight line fitted with `lmfit` above, compute the standerd deviations of the slope and intercept using the equations supplied at the beginning of this Notebook and make sure they are the same as the result of `lmfit`. Next, compute the sum of squared errors and make sure it is the same as the value of `chi-square` obtained by the `minimize` function. "
   ]
  },
  {
   "cell_type": "code",
   "execution_count": 13,
   "metadata": {
    "collapsed": false
   },
   "outputs": [
    {
     "name": "stdout",
     "output_type": "stream",
     "text": [
      "The s.d. according to the formulas for the slope is: 0.641829720884 and for the intercept: 7.50809393285\n",
      "The s.d. according to lmfit for the slope is: 0.641829722622 and for the intercept: 7.50809394127\n",
      "The squared sum of the errors is: 5463.69675967 This is the same as in lmfit\n"
     ]
    }
   ],
   "source": [
    "x, y = np.genfromtxt('xydatafit.dat', delimiter=' ' )\n",
    "z = linregress(x,y)\n",
    "k1b = 0\n",
    "k2b = 0\n",
    "k3b = 0\n",
    "k4b = 0\n",
    "N = 0\n",
    "k = 0\n",
    "q = 0\n",
    "\n",
    "for i in range(len(x)):\n",
    "    N += 1\n",
    "    k += x[i]\n",
    "    q += y[i]\n",
    "x_ = k/N\n",
    "y_ = q/N\n",
    "    \n",
    "for i in range(len(x)):\n",
    "    k1a = (y[i] - (z.slope * x[i] + z.intercept)) ** 2\n",
    "    k1b += k1a  \n",
    "    k2a = (x[i] - x_) ** 2\n",
    "    k2b += k2a   \n",
    "    k3a = x[i] ** 2\n",
    "    k3b += k3a\n",
    "\n",
    "sl = np.sqrt((k1b/(N-2))/(k2b))\n",
    "sl2 = sl * np.sqrt((1/N) * k3b)\n",
    "sl3 = standard_deviations[0]\n",
    "sl4 = standard_deviations[1]\n",
    "print('The s.d. according to the formulas for the slope is:',sl,'and for the intercept:',sl2)\n",
    "print('The s.d. according to lmfit for the slope is:',sl3,'and for the intercept:',sl4)\n",
    "\n",
    "print('The squared sum of the errors is:',k1b, 'This is the same as in lmfit')"
   ]
  },
  {
   "cell_type": "markdown",
   "metadata": {},
   "source": [
    "### Fixing  parameter\n",
    "A parameter my be fixed by setting the `vary` attribute to `False`. For example, let's fix the value of `b` to 50. "
   ]
  },
  {
   "cell_type": "code",
   "execution_count": 14,
   "metadata": {
    "collapsed": false
   },
   "outputs": [
    {
     "name": "stdout",
     "output_type": "stream",
     "text": [
      "[[Fit Statistics]]\n",
      "    # function evals   = 6\n",
      "    # data points      = 20\n",
      "    # variables        = 1\n",
      "    chi-square         = 5759.958\n",
      "    reduced chi-square = 303.156\n",
      "    Akaike info crit   = 115.259\n",
      "    Bayesian info crit = 116.255\n",
      "[[Variables]]\n",
      "    slope:       5.53539250 +/- 0.332818 (6.01%) (init= 1)\n",
      "    intercept:   50 (fixed)\n",
      "[[Correlations]] (unreported correlations are <  0.100)\n"
     ]
    }
   ],
   "source": [
    "pline['intercept'].value = 50\n",
    "pline['intercept'].vary = False\n",
    "line_result2 = minimize(straightline, pline, kws={'xdata':x, 'ydata':y})\n",
    "print(fit_report(line_result2))"
   ]
  },
  {
   "cell_type": "markdown",
   "metadata": {},
   "source": [
    "### Exercise 5. Fit an exponential function with `lmfit`\n",
    "Use the $x,y$ values of 20 data points from the file `xydatafit.dat`. Fit the function $f(x) = A\\exp(ax) + b$ through the data using `lmfit`. Print a fitting report of the estimated parameters $A$, $a$, and $b$. Plot the data and the fitted function. "
   ]
  },
  {
   "cell_type": "code",
   "execution_count": 15,
   "metadata": {
    "collapsed": false
   },
   "outputs": [],
   "source": [
    "x, y = np.loadtxt('xydatafit.dat')\n",
    "def exp(e, xdata=0, ydata=None):\n",
    "    vals = e.valuesdict()\n",
    "    A =  vals['A']\n",
    "    a =  vals['a']\n",
    "    b =  vals['b']\n",
    "    yfit = A * np.exp(a * xdata) + b\n",
    "    if ydata is None:\n",
    "        return yfit\n",
    "    else:\n",
    "        return yfit - ydata"
   ]
  },
  {
   "cell_type": "code",
   "execution_count": 16,
   "metadata": {
    "collapsed": false
   },
   "outputs": [],
   "source": [
    "eline = Parameters()\n",
    "eline.add('A', value=1)\n",
    "eline.add('a', value=1)\n",
    "eline.add('b', value=1)"
   ]
  },
  {
   "cell_type": "code",
   "execution_count": 17,
   "metadata": {
    "collapsed": false
   },
   "outputs": [
    {
     "name": "stdout",
     "output_type": "stream",
     "text": [
      "[[Fit Statistics]]\n",
      "    # function evals   = 146\n",
      "    # data points      = 20\n",
      "    # variables        = 3\n",
      "    chi-square         = 2381.588\n",
      "    reduced chi-square = 140.093\n",
      "    Akaike info crit   = 101.596\n",
      "    Bayesian info crit = 104.583\n",
      "[[Variables]]\n",
      "    A:   9.76933745 +/- 6.165144 (63.11%) (init= 1)\n",
      "    a:   0.13389950 +/- 0.029816 (22.27%) (init= 1)\n",
      "    b:   52.5007446 +/- 11.00110 (20.95%) (init= 1)\n",
      "[[Correlations]] (unreported correlations are <  0.100)\n",
      "    C(A, a)                      = -0.994 \n",
      "    C(A, b)                      = -0.947 \n",
      "    C(a, b)                      =  0.918 \n"
     ]
    }
   ],
   "source": [
    "x, y = np.loadtxt('xydatafit.dat')\n",
    "line_result = minimize(exp, eline, kws={'xdata':x, 'ydata':y})\n",
    "print(fit_report(line_result))"
   ]
  },
  {
   "cell_type": "code",
   "execution_count": 18,
   "metadata": {
    "collapsed": false
   },
   "outputs": [
    {
     "data": {
      "image/png": "[encoded data removed]",
      "text/plain": [
       "<matplotlib.figure.Figure at 0x1504e4684a8>"
      ]
     },
     "metadata": {},
     "output_type": "display_data"
    }
   ],
   "source": [
    "A = line_result.params['A'].value\n",
    "a = line_result.params['a'].value\n",
    "b = line_result.params['b'].value\n",
    "\n",
    "xfit = np.linspace(0,20,20)\n",
    "yfit = A*np.exp(a*xfit)+b\n",
    "plt.plot(xfit,yfit, x,y, 'ro');"
   ]
  },
  {
   "cell_type": "markdown",
   "metadata": {},
   "source": [
    "# Exercise 6. Use bootstrap to find confidence intervals of parameters of exponential function\n",
    "Apply the bootstrap method with $M=1000$ to estimate the 95% confidence intervals of the parameters $A$, $a$, and $b$ in the exponential function fitted to the data in the previous exercise (hint: this may take a little computation time, so develop your code with $M=100$ and when it works correctly change it to $M=1000$). Draw histograms of all three parameters. Note that they don't all have a bell-shaped curve like a Normal distribution. Report the 95% confidence intervals. \n",
    "\n",
    "Bonus question: report the 95% confidence intervals obtained with the estimated standard deviations computed by `lmfit`. Note that the estimates are by far not as good as for the results of exercise 2, because the distribution of the parameters is not very Normal. "
   ]
  },
  {
   "cell_type": "code",
   "execution_count": 19,
   "metadata": {
    "collapsed": false
   },
   "outputs": [
    {
     "name": "stdout",
     "output_type": "stream",
     "text": [
      "6.16514484139 0.0298162588429 11.001106393\n"
     ]
    }
   ],
   "source": [
    "standard_deviations = np.sqrt(np.diag(line_result.covar))\n",
    "sA = standard_deviations[0]\n",
    "sa = standard_deviations[1]\n",
    "sb = standard_deviations[2]\n",
    "\n",
    "x, y = np.genfromtxt('xydatafit.dat', delimiter=' ' )\n",
    "A = line_result.params['A'].value\n",
    "a = line_result.params['a'].value\n",
    "b = line_result.params['b'].value\n",
    "M = 1000\n",
    "Lx = np.linspace(0,20,100)\n",
    "Ly = A * np.exp(a * Lx) + b\n",
    "yl = np.zeros(len(x))\n",
    "r = np.zeros(len(x))\n",
    "A2 = np.zeros(M)\n",
    "a2 = np.zeros(M)\n",
    "b2 = np.zeros(M)\n",
    "def fexp(x,A,a,b):\n",
    "    return(A*np.exp(a*x)+b)\n",
    "print(sA,sa,sb)"
   ]
  },
  {
   "cell_type": "code",
   "execution_count": 20,
   "metadata": {
    "collapsed": false
   },
   "outputs": [],
   "source": [
    "for i in range(len(x)):\n",
    "    yl[i] = A * np.exp(a * x[i]) + b\n",
    "    r[i] = y[i] - yl[i]\n",
    "    \n",
    "for i in range(M):\n",
    "    yr = np.random.choice(r, len(x))\n",
    "    yr2 = yr + yl\n",
    "    line_result = minimize(exp, eline, kws={'xdata':x, 'ydata':yr2})\n",
    "    A2[i] = line_result.params['A'].value\n",
    "    a2[i] = line_result.params['a'].value\n",
    "    b2[i] = line_result.params['b'].value"
   ]
  },
  {
   "cell_type": "code",
   "execution_count": 21,
   "metadata": {
    "collapsed": false
   },
   "outputs": [
    {
     "name": "stdout",
     "output_type": "stream",
     "text": [
      "The 95% interval with the bootstrap method is: 2.84445900488 But smaler than: 29.8152450384\n",
      "The 95% interval with the standart deviation method is: -2.56095222589 and 22.0996271397\n",
      "\n",
      "The 95% interval with the bootstrap method is: 0.0853030675839 But smaler than: 0.194913233317\n",
      "The 95% interval with the standart deviation method is: 0.074266989736 and 0.193532025107\n",
      "\n",
      "The 95% interval with the bootstrap method is: 25.5660730371 But smaler than: 68.8225857511\n",
      "The 95% interval with the standart deviation method is: 30.4985318458 and 74.502957418\n"
     ]
    },
    {
     "data": {
      "image/png": "[encoded data removed]",
      "text/plain": [
       "<matplotlib.figure.Figure at 0x1504e506ef0>"
      ]
     },
     "metadata": {},
     "output_type": "display_data"
    },
    {
     "data": {
      "image/png": "[encoded data removed]",
      "text/plain": [
       "<matplotlib.figure.Figure at 0x1504e506898>"
      ]
     },
     "metadata": {},
     "output_type": "display_data"
    },
    {
     "data": {
      "image/png": "[encoded data removed]",
      "text/plain": [
       "<matplotlib.figure.Figure at 0x1504d7d3a20>"
      ]
     },
     "metadata": {},
     "output_type": "display_data"
    }
   ],
   "source": [
    "\n",
    "Amin = np.percentile(A2, 2.5)\n",
    "Amax = np.percentile(A2, 97.5)\n",
    "\n",
    "amin = np.percentile(a2, 2.5)\n",
    "amax = np.percentile(a2, 97.5)\n",
    "\n",
    "bmin = np.percentile(b2, 2.5)\n",
    "bmax = np.percentile(b2, 97.5)\n",
    "\n",
    "print('The 95% interval with the bootstrap method is:', Amin, 'But smaler than:',Amax)\n",
    "print('The 95% interval with the standart deviation method is:',(A-2*sA), 'and', (2*sA+A))\n",
    "print('')\n",
    "print('The 95% interval with the bootstrap method is:', amin, 'But smaler than:',amax)\n",
    "print('The 95% interval with the standart deviation method is:', (a - 2*sa), 'and', (2*sa + a))\n",
    "print('')\n",
    "print('The 95% interval with the bootstrap method is:', bmin,'But smaler than:',bmax)\n",
    "print('The 95% interval with the standart deviation method is:',b - 2*sb, 'and',  2*sb + b)\n",
    "\n",
    "plt.figure()\n",
    "plt.title('A')\n",
    "ab = plt.hist(A2,bins = 30,normed=True)\n",
    "\n",
    "plt.figure()\n",
    "plt.title('A')\n",
    "ab = plt.hist(a2,bins = 30,normed=True)\n",
    "\n",
    "plt.figure()\n",
    "plt.title('A')\n",
    "ab = plt.hist(b2,bins = 30,normed=True)"
   ]
  },
  {
   "cell_type": "code",
   "execution_count": null,
   "metadata": {
    "collapsed": true
   },
   "outputs": [],
   "source": []
  }
 ],
 "metadata": {
  "kernelspec": {
   "display_name": "Python 3",
   "language": "python",
   "name": "python3"
  },
  "language_info": {
   "codemirror_mode": {
    "name": "ipython",
    "version": 3
   },
   "file_extension": ".py",
   "mimetype": "text/x-python",
   "name": "python",
   "nbconvert_exporter": "python",
   "pygments_lexer": "ipython3",
   "version": "3.6.0"
  }
 },
 "nbformat": 4,
 "nbformat_minor": 0
}
