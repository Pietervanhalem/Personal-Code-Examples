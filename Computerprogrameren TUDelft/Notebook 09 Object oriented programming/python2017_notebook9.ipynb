{
 "cells": [
  {
   "cell_type": "markdown",
   "metadata": {},
   "source": [
    "<figure>\n",
    "  <IMG SRC=\"https://raw.githubusercontent.com/mbakker7/exploratory_computing_with_python/master/tudelft_logo.png\" WIDTH=250 ALIGN=\"right\">\n",
    "</figure>\n",
    "\n",
    "# Exploratory Computing with Python\n",
    "*Developed by Mark Bakker*\n",
    "## Notebook 9: Object oriented programming"
   ]
  },
  {
   "cell_type": "markdown",
   "metadata": {},
   "source": [
    "In this Notebook, we learn what Object Oriented Programming (OOP) is, what Classes are and how to write our own, and we learn how to make graphs using OOP and and the `matplotlib` package."
   ]
  },
  {
   "cell_type": "code",
   "execution_count": 1,
   "metadata": {
    "collapsed": false
   },
   "outputs": [],
   "source": [
    "import numpy as np\n",
    "import matplotlib.pyplot as plt\n",
    "%matplotlib inline"
   ]
  },
  {
   "cell_type": "markdown",
   "metadata": {},
   "source": [
    "### A Triangle Class\n",
    "So far, we have learned what is called *functional* programming. In functional programming you write or use functions that manipulate data. For example, consider the case where we have to deal with a number of triangles. For each triangle we want to be able to compute its area, and we want to be able to plot it, and fill the inside with a color. Say we have an arbitrary number of $N$ triangles. For each triangle we need to store the $(x,y)$ values of its three corner points. So we create arrays for the $x$ values of each corner point, we create arrays for the $y$ values of each corner point. Then we write a function that computes the area of a triangle given its three corners, and we write a function that plots the triangle given the three corner points and color to fill the triangle, and finally we need to loop through all the corner points. This all sounds like a bit of work, but it is tracktable. It already gets more complicated when we want to change the corner point of one triangle. We have to know its place in the array, and change the correct corner point.\n",
    "\n",
    "It gets even more complicated when we have to deal with both triangles and rectangles. Triangles have three corner points, while rectangles have four corner points. The function to compute the area of a rectangle is very different, hence we have to make sure we call the area function for a triangle when we have a triangle, and the area function for a rectangle when we have a rectangle. The plotting is not much different, but we have to supply it four corner points rather than three. This gets a bit messier already. Wouldn't it be nice if it was possible to organize the data and functions in such a way that the data itself knows how to compute its area or how to plot itself? That may sound magical, but that is exactly what Object Oriented Programming does. \n",
    "\n",
    "Object oriented programming is, in essence, just another way of organizing your data and functions. Rather than defining and storing them separately, the data and functions are stored and bound together in what is called a *Class*. The data that are stored are called *attributes*, and the functions are called *methods*. \n",
    "This is probably easiest understood by writing a class and using it. Consider, for example, the class `Triangle` that stores the coordinates of the three corner points. Don't worry about the syntax yet (we will get back to that). Run the code below so we can start using the class. "
   ]
  },
  {
   "cell_type": "code",
   "execution_count": 2,
   "metadata": {
    "collapsed": false
   },
   "outputs": [],
   "source": [
    "class Triangle:\n",
    "    def __init__(self, x0y0, x1y1, x2y2):\n",
    "        self.x0y0 = x0y0\n",
    "        self.x1y1 = x1y1\n",
    "        self.x2y2 = x2y2"
   ]
  },
  {
   "cell_type": "markdown",
   "metadata": {},
   "source": [
    "Now that the `Triangle` class is defined, we can start creating triangles. We can call the `Triangle` class just like a function and we need to provide it tuples of the three corner points. The `Triangle` class returns what is called an object. An object is an instance of a class. Note also, that when you type \n",
    "\n",
    "`Triangle(` \n",
    "\n",
    "and hit [shift][tab], a small box pops up showing what input arguments are expected (you don't need to provide the `self` argument; more on that later). Let's create a triangle with corners (0,1), (3,0) and (2,3)."
   ]
  },
  {
   "cell_type": "code",
   "execution_count": 3,
   "metadata": {
    "collapsed": false
   },
   "outputs": [],
   "source": [
    "t1 = Triangle((0,1), (3,0), (2,3))"
   ]
  },
  {
   "cell_type": "markdown",
   "metadata": {},
   "source": [
    "`t1` is now an instance of the class `Triangle`. We simply say that `t1` is a triangle. We have stored the three corner points of the triangle. Hence, each `Triangle` object has three attributes. You can find out what attributes an object has by typing \n",
    "\n",
    "`t1.` \n",
    "\n",
    "(don't forget the dot) and then hit the [TAB] key. The attributes can be accessed with the *dot syntax*."
   ]
  },
  {
   "cell_type": "code",
   "execution_count": 4,
   "metadata": {
    "collapsed": false
   },
   "outputs": [
    {
     "name": "stdout",
     "output_type": "stream",
     "text": [
      "<__main__.Triangle object at 0x000002AEFC042048>\n",
      "(0, 1)\n",
      "(3, 0)\n",
      "(2, 3)\n"
     ]
    }
   ],
   "source": [
    "print(t1)  # not very useful\n",
    "print(t1.x0y0)  # first corner point\n",
    "print(t1.x1y1)  # second corner point\n",
    "print(t1.x2y2)  # third corner point"
   ]
  },
  {
   "cell_type": "markdown",
   "metadata": {},
   "source": [
    "Let's get back to the `Triangle` class. When we call the `Triangle` class (official lingo: we create a `Triangle` object, or more officially yet: we create an instance of the `Triangle` class), Python calls the `__init__` function. This function is called the *constructor*. It constructs an object. In the constructor you define what arguments need to be provided to create a triangle. The name `__init__` (that is *two* underscores before and after the word `init`) is required (it is one of the few unfortunate name choices of the Python language). The first argument is `self` and tells Python what the object itself is called inside the class. \n",
    "\n",
    "We saw above that typing `print t1` returns a meaningless message. This can be resolved by including a representation function, which needs to be called `__repr__`. This function is called when the object is printed (or converted to a string)."
   ]
  },
  {
   "cell_type": "code",
   "execution_count": 5,
   "metadata": {
    "collapsed": false
   },
   "outputs": [
    {
     "name": "stdout",
     "output_type": "stream",
     "text": [
      "Triangle with corners:(0, 1)(3, 0)(2, 3)\n"
     ]
    }
   ],
   "source": [
    "class Triangle:\n",
    "    def __init__(self, x0y0, x1y1, x2y2):\n",
    "        self.x0y0 = x0y0\n",
    "        self.x1y1 = x1y1\n",
    "        self.x2y2 = x2y2\n",
    "    def __repr__(self):\n",
    "        return 'Triangle with corners:' + str(self.x0y0) + str(self.x1y1) + str(self.x2y2)\n",
    "t1 = Triangle((0,1), (3,0), (2,3))\n",
    "print(t1)"
   ]
  },
  {
   "cell_type": "markdown",
   "metadata": {},
   "source": [
    "In the Triangle class, the three corner points are stored as three tuples. Hence, the $x$ value of the first corner point is `self.x0y0[0]` and the $y$ value is `self.x0y0[1]`. It may be useful to store one array of the three $x$ values of the three corner points and one array of the three $y$ values of the corner points. If those are stored, it is fairly easy to compute the area $A$ of a triangle using the following formula\n",
    "\n",
    "$A = \\frac{1}{2}|(x_0-x_2)(y_1-y_0) - (x_0-x_1)(y_2-y_0)|$\n",
    "\n",
    "Let's modify the `Triangle` class to include these two additional attributes and an `area` function"
   ]
  },
  {
   "cell_type": "code",
   "execution_count": 6,
   "metadata": {
    "collapsed": false
   },
   "outputs": [],
   "source": [
    "class Triangle:\n",
    "    def __init__(self, x0y0, x1y1, x2y2):\n",
    "        self.x0y0 = x0y0\n",
    "        self.x1y1 = x1y1\n",
    "        self.x2y2 = x2y2\n",
    "        self.x = np.array([self.x0y0[0], self.x1y1[0], self.x2y2[0]])\n",
    "        self.y = np.array([self.x0y0[1], self.x1y1[1], self.x2y2[1]])\n",
    "    def __repr__(self):\n",
    "        return 'Triangle with corners:' + str(self.x0y0) + str(self.x1y1) + str(self.x2y2)\n",
    "    def area(self):\n",
    "        A = 0.5 * np.abs((self.x[0] - self.x[2]) * (self.y[1] - self.y[0]) - \n",
    "                         (self.x[0] - self.x[1]) * (self.y[2] - self.y[0]))\n",
    "        return A"
   ]
  },
  {
   "cell_type": "markdown",
   "metadata": {},
   "source": [
    "Note that the `area` function gets passed the object `self`; once it knows what `self` is, it has access to all its attributes and functions. We can now create a `Triangle` object and compute its area as follows (don't forget to run the new `Triangle` class above first)"
   ]
  },
  {
   "cell_type": "code",
   "execution_count": 7,
   "metadata": {
    "collapsed": false
   },
   "outputs": [
    {
     "name": "stdout",
     "output_type": "stream",
     "text": [
      "4.0\n"
     ]
    }
   ],
   "source": [
    "t1 = Triangle( (0,1), (3,0), (2,3) )\n",
    "print(t1.area())"
   ]
  },
  {
   "cell_type": "markdown",
   "metadata": {},
   "source": [
    "In the code above, the `area` function is called using the *dot* syntax, where `self` in the function is automatically replaced with the variable before the dot (in this case `t1`). The *dot* syntax is short for the much longer"
   ]
  },
  {
   "cell_type": "code",
   "execution_count": 8,
   "metadata": {
    "collapsed": false
   },
   "outputs": [
    {
     "name": "stdout",
     "output_type": "stream",
     "text": [
      "4.0\n"
     ]
    }
   ],
   "source": [
    "print(Triangle.area(t1))"
   ]
  },
  {
   "cell_type": "markdown",
   "metadata": {},
   "source": [
    "Note that classes are very convenient, as the triangle object knows what its own corner points are. When typing `t1.`[TAB], not only all attributes but also all functions of an object are shown. Try it:"
   ]
  },
  {
   "cell_type": "code",
   "execution_count": 9,
   "metadata": {
    "collapsed": false
   },
   "outputs": [],
   "source": [
    "# type t1. and then a tab"
   ]
  },
  {
   "cell_type": "markdown",
   "metadata": {},
   "source": [
    "Let's expand the `Triangle` class by adding a function that plots a filled triangle. The color of the triangle is supplied with a keyword argument in the constructor. Hence, when it is not provided, the default value will be used."
   ]
  },
  {
   "cell_type": "code",
   "execution_count": 10,
   "metadata": {
    "collapsed": false
   },
   "outputs": [],
   "source": [
    "class Triangle:\n",
    "    def __init__(self, x0y0, x1y1, x2y2, color='b'):\n",
    "        self.x0y0 = x0y0\n",
    "        self.x1y1 = x1y1\n",
    "        self.x2y2 = x2y2\n",
    "        self.x = np.array([self.x0y0[0], self.x1y1[0], self.x2y2[0]])\n",
    "        self.y = np.array([self.x0y0[1], self.x1y1[1], self.x2y2[1]])\n",
    "        self.color = color\n",
    "    def __repr__(self):\n",
    "        return 'Triangle with corners:' + str(self.x0y0) + str(self.x1y1) + str(self.x2y2)\n",
    "    def area(self):\n",
    "        A = 0.5 * np.abs((self.x[0]-self.x[2])*(self.y[1]-self.y[0]) - \n",
    "                         (self.x[0]-self.x[1])*(self.y[2]-self.y[0]))\n",
    "        return A\n",
    "    def plot(self):\n",
    "        plt.fill(self.x, self.y, color=self.color)"
   ]
  },
  {
   "cell_type": "markdown",
   "metadata": {},
   "source": [
    "Let's create three triangles and store them in a list. Then we loop through the triangles in the list and plot them in one graph. Note how we can loop through the triangles in the list `tlist`:\n",
    "\n",
    "`for t in tlist:`\n",
    "\n",
    "So every time we go through the loop, `t` is the next triangle in the list `tlist`."
   ]
  },
  {
   "cell_type": "code",
   "execution_count": 11,
   "metadata": {
    "collapsed": false
   },
   "outputs": [
    {
     "data": {
      "image/png": "[encoded data removed]",
      "text/plain": [
       "<matplotlib.figure.Figure at 0x2aefc044550>"
      ]
     },
     "metadata": {},
     "output_type": "display_data"
    }
   ],
   "source": [
    "tlist = []  # start with an empty list\n",
    "t1 = Triangle((0,1), (5,0), (3,3), 'b')\n",
    "tlist.append(t1)  # add t1 to the list\n",
    "t2 = Triangle((3,4), (1,6), (-2,3), 'r')\n",
    "tlist.append(t2)\n",
    "t3 = Triangle((8,-1), (6,4), (2,6), 'g')\n",
    "tlist.append(t3)\n",
    "plt.figure()\n",
    "for t in tlist:\n",
    "    t.plot()\n",
    "plt.axis('scaled');"
   ]
  },
  {
   "cell_type": "markdown",
   "metadata": {},
   "source": [
    "Similarly, the total area of the three triangles is"
   ]
  },
  {
   "cell_type": "code",
   "execution_count": 12,
   "metadata": {
    "collapsed": false
   },
   "outputs": [
    {
     "name": "stdout",
     "output_type": "stream",
     "text": [
      "total area: 20.5\n"
     ]
    }
   ],
   "source": [
    "areatot = 0.0\n",
    "for t in tlist:\n",
    "    areatot += t.area()\n",
    "print('total area:', areatot)"
   ]
  },
  {
   "cell_type": "markdown",
   "metadata": {},
   "source": [
    "### Exercise 1. A Rectangle class\n",
    "Create a `Rectangle` class for rectangles that stand straight up, so that the base is horizontal. Input arguments are the $(x,y)$ values of the lower-left-hand corner, the width of the base and the height. Class functions are: `area`, which returns the area of the rectangle and `plot`, which plots a filled rectangle using a transparancy of 0.5 (i.e., use keyword argument `alpha=0.5` in the `fill` function). Fill the rectangle with the color blue when the width of the rectangle is larger than the height, and fill it with the color red when the width is smaller than the height. Demonstrate that your `Rectangle` class works by plotting two rectangles, one with lower-left-hand corner (0, 0), width 10 and height 5, and the other with lower-left-hand corner (2, 0), width 4 and height 8."
   ]
  },
  {
   "cell_type": "code",
   "execution_count": 13,
   "metadata": {
    "collapsed": false
   },
   "outputs": [],
   "source": [
    "class Rectangle:\n",
    "    def __init__(self, x1, y1, base, height):\n",
    "        self.x1 = x1\n",
    "        self.y1 = y1\n",
    "        self.base = base\n",
    "        self.height = height\n",
    "        self.x = np.array([self.x1, (self.x1 + self.base), (self.x1 + self.base), self.x1])\n",
    "        self.y = np.array([self.y1, self.y1, (self.y1 + self.height), (self.y1 + self.height)])\n",
    "    def plot(self):\n",
    "        if (self.base/self.height) < 1:\n",
    "            color = 'r'\n",
    "        else:\n",
    "            color = 'b'\n",
    "        plt.fill(self.x, self.y, alpha = 0.5, color = color) \n",
    "    def area(self):\n",
    "        A = self.base * self.height\n",
    "        self.plot\n",
    "        return A"
   ]
  },
  {
   "cell_type": "code",
   "execution_count": 14,
   "metadata": {
    "collapsed": false
   },
   "outputs": [
    {
     "name": "stdout",
     "output_type": "stream",
     "text": [
      "50\n",
      "32\n"
     ]
    },
    {
     "data": {
      "image/png": "[encoded data removed]",
      "text/plain": [
       "<matplotlib.figure.Figure at 0x2aefc4a5ba8>"
      ]
     },
     "metadata": {},
     "output_type": "display_data"
    }
   ],
   "source": [
    "r1 = Rectangle(0, 0, 10, 5)\n",
    "r2 = Rectangle(2, 0, 4, 8)\n",
    "print(r1.area())\n",
    "print(r2.area())\n",
    "r1.plot()\n",
    "r2.plot()"
   ]
  },
  {
   "cell_type": "markdown",
   "metadata": {
    "collapsed": false
   },
   "source": [
    "### Exercise 2. Many rectangles\n",
    "Demonstrate that your `Rectangle` class works by loading the text file `rectangle_data.txt`. This file contains the $x$, $y$, width, and height for 20 rectangles. Compute and report the total area of all the rectangles in the file. Make a plot of the 20 rectangles to demonstrate that the colors are assigned correctly."
   ]
  },
  {
   "cell_type": "code",
   "execution_count": 15,
   "metadata": {
    "collapsed": false
   },
   "outputs": [
    {
     "data": {
      "image/png": "[encoded data removed]",
      "text/plain": [
       "<matplotlib.figure.Figure at 0x2aefc051908>"
      ]
     },
     "metadata": {},
     "output_type": "display_data"
    }
   ],
   "source": [
    "r = np.genfromtxt('rectangle_data.txt', delimiter=' ' )\n",
    "rlist = []\n",
    "z = 0\n",
    "\n",
    "for j in range(len(r[:,0])):\n",
    "    t = Rectangle(r[j,0], r[j,1], r[j,2], r[j,3])\n",
    "    t.plot()\n",
    "    plt.axis('scaled');"
   ]
  },
  {
   "cell_type": "markdown",
   "metadata": {},
   "source": [
    "### Arrays are objects\n",
    "Now that you have learned about OOP, you may realize that many of the Python features you use are actually based on OOP. For example, when you create an array, the array is an object. "
   ]
  },
  {
   "cell_type": "code",
   "execution_count": 16,
   "metadata": {
    "collapsed": false
   },
   "outputs": [
    {
     "name": "stdout",
     "output_type": "stream",
     "text": [
      "type of x: <class 'numpy.ndarray'>\n"
     ]
    }
   ],
   "source": [
    "x = np.arange(12)\n",
    "print('type of x:', type(x))"
   ]
  },
  {
   "cell_type": "markdown",
   "metadata": {},
   "source": [
    "Hence, an array has attributes and class methods associated with it. You can type `dir(x)` to find out all attributes and methods (there are many). Some of the attributes of an array include the number of dimensions and the shape. You can even change the shape (as long as you make sure the shape fits the array) by modifying the shape attribute."
   ]
  },
  {
   "cell_type": "code",
   "execution_count": 17,
   "metadata": {
    "collapsed": false
   },
   "outputs": [
    {
     "name": "stdout",
     "output_type": "stream",
     "text": [
      "number of dimensions of x: 1\n",
      "shape of x: (12,)\n",
      "new shape of x: (4, 3)\n",
      "[[ 0  1  2]\n",
      " [ 3  4  5]\n",
      " [ 6  7  8]\n",
      " [ 9 10 11]]\n"
     ]
    }
   ],
   "source": [
    "print('number of dimensions of x:', x.ndim)\n",
    "print('shape of x:', x.shape)\n",
    "x.shape = (4, 3)\n",
    "print('new shape of x:', x.shape)\n",
    "print(x)"
   ]
  },
  {
   "cell_type": "markdown",
   "metadata": {},
   "source": [
    "An array also has a number of functions, including a function that returns the mean value of the array or the maximum value of an array."
   ]
  },
  {
   "cell_type": "code",
   "execution_count": 18,
   "metadata": {
    "collapsed": false
   },
   "outputs": [
    {
     "name": "stdout",
     "output_type": "stream",
     "text": [
      "mean of x:  5.5\n",
      "max  of x:   11\n"
     ]
    }
   ],
   "source": [
    "print('mean of x: ', x.mean())\n",
    "print('max  of x:  ', x.max())"
   ]
  },
  {
   "cell_type": "markdown",
   "metadata": {},
   "source": [
    "### Plotting features are objects\n",
    "All plotting commands we have used so far are functions that are part of the `matplotlib` package. Not surpringly, `matplotlib` has an object-oriented design. Plots may be created by making use of the object-oriented structure. This requires a bit of additional typing, but in the end, we gain additional flexibility and the ability to make animations.\n",
    "\n",
    "Using the OO syntax, we first create a `figure` object and specify the size using the `figsize` keyword argument (the size of the figure is specified in inches), then we add an axis to the figure with the `add_axes` command (note that it is `axes` with an `e`) by specifying the *relative* location of the axis in the figure. The location of the left, bottom, width, and height are specified in relative coordinates (both the horizontal and vertical direction run from 0 to 1). To plot, we use the `plot` method of the axis."
   ]
  },
  {
   "cell_type": "code",
   "execution_count": 19,
   "metadata": {
    "collapsed": false
   },
   "outputs": [
    {
     "data": {
      "image/png": "[encoded data removed]",
      "text/plain": [
       "<matplotlib.figure.Figure at 0x2aefc618b00>"
      ]
     },
     "metadata": {},
     "output_type": "display_data"
    }
   ],
   "source": [
    "x = np.linspace(0, 2, 100)\n",
    "y = x ** 2\n",
    "fig = plt.figure(figsize=(10, 5))\n",
    "ax1 = fig.add_axes([0.1, 0.1, 0.8, 0.8])\n",
    "ax1.plot(x, y, 'b')\n",
    "ax1.set_xlabel('x')\n",
    "ax1.set_ylabel('y')\n",
    "ax1.set_title('Example figure');"
   ]
  },
  {
   "cell_type": "markdown",
   "metadata": {},
   "source": [
    "We can add as many axes to the figure as we want and decide exactly where each axis is located. "
   ]
  },
  {
   "cell_type": "code",
   "execution_count": 20,
   "metadata": {
    "collapsed": false
   },
   "outputs": [],
   "source": [
    "ax2 = fig.add_axes([0.15,0.5,0.4,0.3])\n",
    "ax2.plot(x,-y,'r')\n",
    "ax2.set_title('Second axis');"
   ]
  },
  {
   "cell_type": "markdown",
   "metadata": {},
   "source": [
    "### Matplotlib patches\n",
    "The plotting package `matplotlib` includes a set of classes to define shapes, which are called *patches* in `matplotlib`. There are patches for many different shapes including circles, ellipses, polygons, wedges, and arrows. Here we learn how to draw these patches. We learn how to make them move interactively in a future notebook.\n",
    "\n",
    "The process for adding a patch to a graph is always the same. First you create an axis, then you create a patch object and you add the patch object to the axis. Each patch object has a few input arguments and a number of keyword arguments. The keyword arguments include: `ec` for edge color, `fc` for face color, `alpha` for transparancy, and `zorder` for the order in which they are plotted (the patch with the highest `zorder` value lies on top). The names of all patch classes start with a capital: `Circle`, `Ellipse`, `Polygon`, `Wedge`, `Arrow`. You need to import these classes from `matplotlib.patches` to be able to use them. Use the help system to learn about the required input arguments. The graph below contains two circles, where the smaller one is on top of the larger one. The background color of the graph is set to the same color as the small circle (using the `fc` (facecolor) keyword of the `add_axes` function), so that it looks like the large circle has a hole. The aspect ratio of the axis is set to `'equal'` when the axis is created. The `autoscale` function needs to be called to set the limits of the axis such that the patches fit exactly in the axis. Alternatively, you can call the `ax.set_xlim` and `ax.set_ylim` functions to select limits of your own choice."
   ]
  },
  {
   "cell_type": "code",
   "execution_count": 21,
   "metadata": {
    "collapsed": false
   },
   "outputs": [
    {
     "data": {
      "image/png": "[encoded data removed]",
      "text/plain": [
       "<matplotlib.figure.Figure at 0x2aefc7277b8>"
      ]
     },
     "metadata": {},
     "output_type": "display_data"
    }
   ],
   "source": [
    "from matplotlib.patches import Circle\n",
    "fig = plt.figure()\n",
    "ax = fig.add_axes([.1, .1, .8, .8], fc='violet', aspect='equal')\n",
    "small = Circle(xy=(3, 5), radius=1, fc='violet', ec='violet', zorder=2)\n",
    "big = Circle(xy=(2, 4), radius=3, fc='dodgerblue', ec='dodgerblue', zorder=1)\n",
    "ax.add_patch(small)\n",
    "ax.add_patch(big)\n",
    "ax.autoscale()"
   ]
  },
  {
   "cell_type": "markdown",
   "metadata": {},
   "source": [
    "### Exercise 3. `Circle` patch\n",
    "Create a plot with 20 circles with radius 0.2 using `Circle` pathes, with their centers equally spaced (in $x$) along the line $y=\\sin(x)$ for $x$ going from 0 to $2\\pi$."
   ]
  },
  {
   "cell_type": "code",
   "execution_count": 22,
   "metadata": {
    "collapsed": false
   },
   "outputs": [
    {
     "data": {
      "image/png": "[encoded data removed]",
      "text/plain": [
       "<matplotlib.figure.Figure at 0x2aefc7a2b70>"
      ]
     },
     "metadata": {},
     "output_type": "display_data"
    }
   ],
   "source": [
    "from matplotlib.patches import Circle\n",
    "x = np.linspace(0, 2 * np.pi, 20)\n",
    "y = np.sin(x)\n",
    "r = 0.2\n",
    "\n",
    "fig = plt.figure()\n",
    "ax = fig.add_axes([.1, .1, .8, .8], aspect='equal')\n",
    "for i in range(len(x)):\n",
    "    c = Circle(xy=(x[i], y[i]), radius = r)\n",
    "    ax.add_patch(c)\n",
    "ax.autoscale()\n"
   ]
  },
  {
   "cell_type": "markdown",
   "metadata": {},
   "source": [
    "### Exercise 4. `Arrow` patch\n",
    "Create 20 arrows with width 0.2 using `Arrow` patches. The starting points of the arows are equally spaced (in $x$) along the line $y=\\sin(x)$ for $x$ going from 0 to $2\\pi$. The arrow is 0.2 long in $x$ direction (`dx=0.2`) and the length and sign in $y$ direction (`dy`) needs to be chosen such that the arrow is tangent to the line $y=\\sin(x)$ at its starting point. (Hint: use the derivative of the line.)"
   ]
  },
  {
   "cell_type": "code",
   "execution_count": 23,
   "metadata": {
    "collapsed": false
   },
   "outputs": [
    {
     "data": {
      "image/png": "[encoded data removed]",
      "text/plain": [
       "<matplotlib.figure.Figure at 0x2aefc83d8d0>"
      ]
     },
     "metadata": {},
     "output_type": "display_data"
    }
   ],
   "source": [
    "from matplotlib.patches import Arrow\n",
    "x = np.linspace(0, 2 * np.pi, 20)\n",
    "y = np.sin(x)\n",
    "r = 0.2\n",
    "\n",
    "fig = plt.figure()\n",
    "ax = fig.add_axes([.1, .1, .8, .8], aspect='equal')\n",
    "for i in range(len(x)):\n",
    "    c = Arrow(x[i], y[i], 0.2, np.cos(x[i])*0.2, width = 0.2 )\n",
    "    ax.add_patch(c)\n",
    "ax.autoscale()"
   ]
  },
  {
   "cell_type": "markdown",
   "metadata": {},
   "source": [
    "### Exercise 5. Packing circles in a square\n",
    "Consider trying to put as many non-overlapping circles as possible in a square area. All circles have the same radius. The highest packing density (relative area covered by the circles) is obtained by putting the circles in stacked rows as shown in the figure below, which has a packing density of 0.9069. For more information on circle packing, including circles with different radii, see [here](http://en.wikipedia.org/wiki/Circle_packing).\n",
    "![packing](http://upload.wikimedia.org/wikipedia/commons/6/69/Circle_packing_%28hexagonal%29.svg)  \n",
    "\n",
    "We are going to put circles in a square area by generating locations randomly. Put as many circles with radius 0.05 in a square with sides equal to 1 (lower left-hand corner $(x,y)=(0,0)$, upper right-hand corner $(x,y)=(1,1)$) by randomly generating centers of the circles with the `np.random.rand` function.\n",
    "\n",
    "First, write a function called `overlap` that takes as input arguments two `Circle` patches and returns `True` when the circles overlap and `False` when they don't overlap. Each `Circle` patch has attributes `center` and `radius`. Note that a `Circle` patch stores its center as attribute `center`. Test your code with the following three circles:\n",
    "\n",
    "    c1 = Circle(xy=(0, 0), radius=5)\n",
    "    c2 = Circle(xy=(5, 0), radius=2)\n",
    "    c3 = Circle(xy=(2, 5), radius=1)\n",
    "    print 'overlap(c1, c2):', overlap(c1, c2)  # overlaps\n",
    "    print 'overlap(c2, c3):', overlap(c2, c3)  # doesn't overlap\n",
    "    print 'overlap(c1, c3):', overlap(c1, c3)  # overlaps\n"
   ]
  },
  {
   "cell_type": "code",
   "execution_count": 24,
   "metadata": {
    "collapsed": false
   },
   "outputs": [
    {
     "name": "stdout",
     "output_type": "stream",
     "text": [
      "overlap(c1, c2): True\n",
      "overlap(c2, c3): False\n",
      "overlap(c1, c3): True\n"
     ]
    }
   ],
   "source": [
    "def overlap(c1, c2):\n",
    "    A = None\n",
    "    r1 = c1.radius\n",
    "    r2 = c2.radius\n",
    "    x1 = c1.center[0]\n",
    "    x2 = c2.center[0]\n",
    "    y1 = c1.center[1]\n",
    "    y2 = c2.center[1] \n",
    "    if np.sqrt((x2-x1)**2 + (y2-y1)**2 ) < r1 + r2:\n",
    "        A = True\n",
    "    else:\n",
    "        A = False\n",
    "    return A\n",
    "\n",
    "c1 = Circle(xy=(0, 0), radius=5)\n",
    "c2 = Circle(xy=(5, 0), radius=2)\n",
    "c3 = Circle(xy=(2, 5), radius=1)\n",
    "print ('overlap(c1, c2):', overlap(c1, c2))  # overlaps\n",
    "print ('overlap(c2, c3):', overlap(c2, c3))  # doesn't overlap\n",
    "print ('overlap(c1, c3):', overlap(c1, c3))  # overlaps    "
   ]
  },
  {
   "cell_type": "markdown",
   "metadata": {},
   "source": [
    "### Exercise 6. \n",
    "Create a list to store all circles that fit inside the unit square. Generate random locations of the circles with the `np.random.rand` function, which returns random values between 0 and 1. All circles have radius 0.05. Check whether a generated circle fits entirely inside the unit square. If it fits inside the square, use the `overlap` function that you wrote in the previous exercise to determine whether it overlaps with any of the circles in the list. If it doesn't overlap with any of the other circles, then add it to the list. Stop when you have generated 50 circles (it is very difficult to fit more non-overlapping circles inside the square with this procedure). Create a plot showing your 50 circles. "
   ]
  },
  {
   "cell_type": "code",
   "execution_count": 25,
   "metadata": {
    "collapsed": false
   },
   "outputs": [
    {
     "data": {
      "image/png": "[encoded data removed]",
      "text/plain": [
       "<matplotlib.figure.Figure at 0x2aefc93e208>"
      ]
     },
     "metadata": {},
     "output_type": "display_data"
    }
   ],
   "source": [
    "from matplotlib.patches import Circle\n",
    "fig = plt.figure()\n",
    "ax = fig.add_axes([.1, .1, .8, .8], aspect='equal')\n",
    "clist = []\n",
    "r = 0.05\n",
    "clist.append(Circle(xy = (0.9 * np.random.rand(2,1) + 0.05), radius = r))\n",
    "\n",
    "while len(clist) < 50:\n",
    "    k = 0\n",
    "    g = False\n",
    "    z = Circle(xy = (0.9 * np.random.rand(2,1) + 0.05), radius = r)\n",
    "    for i in range(len(clist)): \n",
    "        if overlap(clist[i], z) == True:\n",
    "            g = True\n",
    "            break\n",
    "    if g == False:\n",
    "        clist.append(z)\n",
    "        ax.add_patch(z)"
   ]
  },
  {
   "cell_type": "code",
   "execution_count": null,
   "metadata": {
    "collapsed": true
   },
   "outputs": [],
   "source": []
  }
 ],
 "metadata": {
  "kernelspec": {
   "display_name": "Python 3",
   "language": "python",
   "name": "python3"
  },
  "language_info": {
   "codemirror_mode": {
    "name": "ipython",
    "version": 3
   },
   "file_extension": ".py",
   "mimetype": "text/x-python",
   "name": "python",
   "nbconvert_exporter": "python",
   "pygments_lexer": "ipython3",
   "version": "3.6.0"
  }
 },
 "nbformat": 4,
 "nbformat_minor": 0
}
