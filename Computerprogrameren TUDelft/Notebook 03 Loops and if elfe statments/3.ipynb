{
 "cells": [
  {
   "cell_type": "markdown",
   "metadata": {},
   "source": [
    "<figure>\n",
    "  <IMG SRC=\"https://raw.githubusercontent.com/mbakker7/exploratory_computing_with_python/master/tudelft_logo.png\" WIDTH=250 ALIGN=\"right\">\n",
    "</figure>\n",
    "\n",
    "# Exploratory Computing with Python\n",
    "*Developed by Mark Bakker*"
   ]
  },
  {
   "cell_type": "markdown",
   "metadata": {},
   "source": [
    "## Notebook 3: Loops and `if/else` Statements\n",
    "As we will again be using `numpy` and `matplotlib`, we start by importing them"
   ]
  },
  {
   "cell_type": "code",
   "execution_count": 4,
   "metadata": {
    "collapsed": false
   },
   "outputs": [],
   "source": [
    "import matplotlib.pyplot as plt\n",
    "import numpy as np\n",
    "%matplotlib inline"
   ]
  },
  {
   "cell_type": "markdown",
   "metadata": {},
   "source": [
    "### Basic `for` loop\n",
    "Loops are used to execute a command repeatedly. The syntax for a loop is as follows"
   ]
  },
  {
   "cell_type": "code",
   "execution_count": 5,
   "metadata": {
    "collapsed": false
   },
   "outputs": [
    {
     "name": "stdout",
     "output_type": "stream",
     "text": [
      "0 Hello world\n",
      "1 Hello world\n",
      "2 Hello world\n",
      "3 Hello world\n",
      "4 Hello world\n"
     ]
    }
   ],
   "source": [
    "for i in range(5):\n",
    "    print i,'Hello world'"
   ]
  },
  {
   "cell_type": "markdown",
   "metadata": {},
   "source": [
    "The first thing to understand about the syntax shown above is that `range(5)` produces a list of 5 values starting with the number 0. It is the equivalent of `arange` but returns a list rather than an array:"
   ]
  },
  {
   "cell_type": "code",
   "execution_count": 9,
   "metadata": {
    "collapsed": false
   },
   "outputs": [
    {
     "name": "stdout",
     "output_type": "stream",
     "text": [
      "[0, 1, 2, 3, 4]\n"
     ]
    }
   ],
   "source": [
    "print range(5)"
   ]
  },
  {
   "cell_type": "markdown",
   "metadata": {},
   "source": [
    "Hence, the line \n",
    "\n",
    "`for i in range(5):` \n",
    "\n",
    "is equivalent to \n",
    "\n",
    "`for i in [0,1,2,3,4]:`\n",
    "\n",
    "A colon (`:`) needs to be placed at the \n",
    "end of the line starting with `for`. The loop starts after the colon. The next line needs to be indented. It doesn't matter how much you indent, as long as you are consistent. The notebook indents automatically for you, so stick with that. The entire block of indented code is executed before it goes to the next value in the list. To indicate the end of the loop, you simply stop indenting. \n",
    "\n"
   ]
  },
  {
   "cell_type": "code",
   "execution_count": 10,
   "metadata": {
    "collapsed": false
   },
   "outputs": [
    {
     "name": "stdout",
     "output_type": "stream",
     "text": [
      "x,xsquare 0 0\n",
      "x,xsquare 1 1\n",
      "x,xsquare 2 4\n",
      "x,xsquare 3 9\n",
      "x,xsquare 4 16\n",
      "We are done with the loop\n"
     ]
    }
   ],
   "source": [
    "for x in [0, 1, 2, 3, 4]:  # same as: for x in range(5):\n",
    "    xsquare = x**2\n",
    "    print 'x,xsquare', x, xsquare\n",
    "print 'We are done with the loop'"
   ]
  },
  {
   "cell_type": "markdown",
   "metadata": {},
   "source": [
    "A loop can be used to fill an array. Let's compute $y=\\cos(x)$ where $x$ is an array that varies from 0 to $2\\pi$ with 100 points. We already know, of course, that this can be done with the statement `y=cos(x)`. Sometimes this is not possible, however, and we need to fill an array with a loop. First we have to create the array `y` (for example filled with zeros using the `zeros_like` function) and then fill it with the correct values by looping through all values of `x`. The counter in the loop (the variable `i` in the code below) is used as the index of the array that is filled."
   ]
  },
  {
   "cell_type": "code",
   "execution_count": 6,
   "metadata": {
    "collapsed": false
   },
   "outputs": [
    {
     "data": {
      "image/png": "[encoded data removed]",
      "text/plain": [
       "<matplotlib.figure.Figure at 0x27f8780>"
      ]
     },
     "metadata": {},
     "output_type": "display_data"
    }
   ],
   "source": [
    "x = np.linspace(0, 2 * np.pi, 100)\n",
    "y = np.zeros_like(x)  # similar to zeros(shape(x))\n",
    "for i in range(len(x)):\n",
    "    y[i] = np.cos(x[i])\n",
    "\n",
    "plt.plot(x,y);"
   ]
  },
  {
   "cell_type": "markdown",
   "metadata": {},
   "source": [
    "Loops are very useful constructs in a programming script. Whenever you need to do a computation multiple times you should automatically think: *loop !*. "
   ]
  },
  {
   "cell_type": "markdown",
   "metadata": {},
   "source": [
    "### Exercise 1. First `for` loop\n",
    "Consider the following list of the ten largest countries by area:\n",
    "Russia, Canada, China, USA, Brazil, Australia, India, Argentina, Kazakhstan, Algeria.\n",
    "The corresponding areas (in $10^3$ km$^2$) are:\n",
    "17098, 9889, 9388, 9147, 8515, 7692, 3287, 2780, 2717, 2381.\n",
    "Loop through the list of country names and a list (or array) of the areas and for each country print to the screen:\n",
    "\n",
    "`CountryName has an area of XXX square kilometers`\n",
    "\n",
    "with the appropriate CountryName and number of square kilometers, of course. Make sure the printed units are square kilometers. "
   ]
  },
  {
   "cell_type": "code",
   "execution_count": 339,
   "metadata": {
    "collapsed": false,
    "scrolled": true
   },
   "outputs": [
    {
     "name": "stdout",
     "output_type": "stream",
     "text": [
      "Russia has an area of 17098 *10^3 square kilometers.\n",
      "Canada has an area of 9889 *10^3 square kilometers.\n",
      "China has an area of 9388 *10^3 square kilometers.\n",
      "USA has an area of 9147 *10^3 square kilometers.\n",
      "Brazil has an area of 8515 *10^3 square kilometers.\n",
      "Australia has an area of 7692 *10^3 square kilometers.\n",
      "India has an area of 3287 *10^3 square kilometers.\n",
      "Argentina has an area of 2780 *10^3 square kilometers.\n",
      "Kazakhstan has an area of 2717 *10^3 square kilometers.\n",
      "Algeria has an area of 2381 *10^3 square kilometers.\n"
     ]
    }
   ],
   "source": [
    "x=['Russia', 'Canada', 'China', 'USA', 'Brazil','Australia', 'India', 'Argentina', 'Kazakhstan', 'Algeria']\n",
    "y=['17098', '9889', '9388', '9147', '8515', '7692', '3287', '2780', '2717', '2381']\n",
    "\n",
    "  \n",
    "\n",
    "for i in range(len(x)):\n",
    "\n",
    "    print x[i], 'has an area of', y[i],'*10^3 square kilometers.'\n",
    "\n"
   ]
  },
  {
   "cell_type": "markdown",
   "metadata": {},
   "source": [
    "### `if`/`else` statements\n",
    "As we have seen, a basic `if` statement can be used to perform a task based on whether a condition is `True`. The `if` statement can be followed by an `else` statement, which is executed when the condition after `if` is `False`. For example"
   ]
  },
  {
   "cell_type": "code",
   "execution_count": 9,
   "metadata": {
    "collapsed": false
   },
   "outputs": [
    {
     "name": "stdout",
     "output_type": "stream",
     "text": [
      "a is not smaller than 3\n"
     ]
    }
   ],
   "source": [
    "a = 4\n",
    "if a < 3:\n",
    "    print 'a is smaller than 3'\n",
    "else:\n",
    "    print 'a is not smaller than 3'\n",
    "    "
   ]
  },
  {
   "cell_type": "markdown",
   "metadata": {},
   "source": [
    "You can even extend the `else` by adding one or more conditions with the `elif` command which is short for 'else if'"
   ]
  },
  {
   "cell_type": "code",
   "execution_count": 10,
   "metadata": {
    "collapsed": false
   },
   "outputs": [
    {
     "name": "stdout",
     "output_type": "stream",
     "text": [
      "a is equal to 4\n"
     ]
    }
   ],
   "source": [
    "a = 4\n",
    "if a < 4:\n",
    "    print 'a is smaller than 4'\n",
    "elif a > 4:\n",
    "    print 'a is larger than 4'\n",
    "else:\n",
    "    print 'a is equal to 4'"
   ]
  },
  {
   "cell_type": "markdown",
   "metadata": {},
   "source": [
    "Rather than specifying the value of variable `a` at the top of the code cell, you can ask the user to enter a value and store that value in the variable `a` using the `input` function. Run the code cell below multiple times to see if it works when the entered value is larger than 4, smaller than 4, or equal to 4"
   ]
  },
  {
   "cell_type": "code",
   "execution_count": 11,
   "metadata": {
    "collapsed": false,
    "scrolled": true
   },
   "outputs": [
    {
     "name": "stdout",
     "output_type": "stream",
     "text": [
      "Enter a value 5\n",
      "the value is larger than 4\n"
     ]
    }
   ],
   "source": [
    "a = input('Enter a value ')\n",
    "if a < 4:\n",
    "    print 'the value is smaller than 4'\n",
    "elif a > 4:\n",
    "    print 'the value is larger than 4'\n",
    "else:\n",
    "    print 'the value is equal to 4'\n",
    "    "
   ]
  },
  {
   "cell_type": "markdown",
   "metadata": {},
   "source": [
    "### Exercise 2. Combination of `for` loop with `if` statement\n",
    "\n",
    "Consider the following squence of random numbers between 0 and 10 (Run the code cell below): "
   ]
  },
  {
   "cell_type": "code",
   "execution_count": 26,
   "metadata": {
    "collapsed": false
   },
   "outputs": [
    {
     "name": "stdout",
     "output_type": "stream",
     "text": [
      "[4 7 5 2 3 2 3 7 8 6 7 4 1 3 7 7 4 7 3 8]\n"
     ]
    }
   ],
   "source": [
    "n = np.random.randint(0, 10, 20)\n",
    "print n"
   ]
  },
  {
   "cell_type": "markdown",
   "metadata": {},
   "source": [
    "Create an new array with the same length as `numbers`. Loop through all values in `numbers` and store the positive value of `numbers`  in the new array when the value is even, and the negative value when it is odd.  You can determine whether a value is odd or even by using  the remainder operator `%`, which determines the remainder of a division. (Hint: try, for example, `3 % 2` and `4 % 2` to find out what the remainder operator does.)\n",
    "Plot the new array with blue dots.  "
   ]
  },
  {
   "cell_type": "code",
   "execution_count": 342,
   "metadata": {
    "collapsed": false
   },
   "outputs": [
    {
     "name": "stdout",
     "output_type": "stream",
     "text": [
      "[ 4 -7 -5  2 -3  2 -3 -7  8  6 -7  4 -1 -3 -7 -7  4 -7 -3  8]\n"
     ]
    },
    {
     "data": {
      "text/plain": [
       "[<matplotlib.lines.Line2D at 0xdf766d8>]"
      ]
     },
     "execution_count": 342,
     "metadata": {},
     "output_type": "execute_result"
    },
    {
     "data": {
      "image/png": "[encoded data removed]",
      "text/plain": [
       "<matplotlib.figure.Figure at 0xd1e4780>"
      ]
     },
     "metadata": {},
     "output_type": "display_data"
    }
   ],
   "source": [
    "for i in range(len(n)): \n",
    "    if n[i]%2==0: \n",
    "        n[i]=n[i]\n",
    "    else: \n",
    "        n[i]=-n[i]    \n",
    "\n",
    "print n\n",
    "\n",
    "plt.plot (n,'bo')\n",
    "    "
   ]
  },
  {
   "cell_type": "markdown",
   "metadata": {},
   "source": [
    "### Exercise 3. <a name=\"back3\"></a>Load and loop through data\n",
    "The monthly number of visitors for a themepark is given in the file `visitors.dat`. \n",
    "A month with less then 10,000 visitors is considered as a quiet month. If the number of visitors is between 10,000 and 20,000, it is a moderate month, and if the number of visitors is more than 20,000, it is a busy month.\n",
    "\n",
    "For each month, determine whether the theme park has a quiet, a moderate, or a busy month. Print for each month the name of the month, the number of visitors, and wheter it's a quiet, moderate or busy month. For example, something like: `January  had  4190 visitors and was a quiet month`, etc."
   ]
  },
  {
   "cell_type": "code",
   "execution_count": 341,
   "metadata": {
    "collapsed": false,
    "scrolled": true
   },
   "outputs": [
    {
     "name": "stdout",
     "output_type": "stream",
     "text": [
      "January had 4190.0 visitors and it was a quiet month.\n",
      "February had 3200.0 visitors and it was a quiet month.\n",
      "March had 6000.0 visitors and it was a quiet month.\n",
      "April had 12000.0 visitors and it was a moderate month.\n",
      "May had 17000.0 visitors and it was a moderate month.\n",
      "June had 20500.0 visitors and it was a busy month.\n",
      "July had 21000.0 visitors and it was a busy month.\n",
      "August had 35000.0 visitors and it was a busy month.\n",
      "September had 15000.0 visitors and it was a moderate month.\n",
      "October had 5000.0 visitors and it was a quiet month.\n",
      "November had 2300.0 visitors and it was a quiet month.\n",
      "December had 3000.0 visitors and it was a quiet month.\n"
     ]
    }
   ],
   "source": [
    "z=np.loadtxt('visitors.dat')\n",
    "u=('January','February','March','April','May','June','July','August','September','October','November','December')\n",
    "\n",
    "for i in range(len(z)):\n",
    "    if z[i]<10000:\n",
    "        print u[i],'had', z[i], 'visitors and it was a quiet month.'\n",
    "    elif z[i]>20000:\n",
    "        print u[i],'had', z[i], 'visitors and it was a busy month.'\n",
    "    else:\n",
    "        print u[i],'had', z[i], 'visitors and it was a moderate month.'"
   ]
  },
  {
   "cell_type": "markdown",
   "metadata": {},
   "source": [
    "### Looping and summation\n",
    "One application of a loop is to compute the sum of all the values in an array. Consider, for example, the array `data` with 8 values. We will compute the sum of all values in `data`. We first define a variable `datasum` and assign it the value 0. Next, we loop through all the values in `data` and add the value to `datasum`:"
   ]
  },
  {
   "cell_type": "code",
   "execution_count": 43,
   "metadata": {
    "collapsed": false
   },
   "outputs": [
    {
     "name": "stdout",
     "output_type": "stream",
     "text": [
      "[1 3 2 5 7 3 4 2]\n",
      "i,datasum:  0 1\n",
      "i,datasum:  1 4\n",
      "i,datasum:  2 6\n",
      "i,datasum:  3 11\n",
      "i,datasum:  4 18\n",
      "i,datasum:  5 21\n",
      "i,datasum:  6 25\n",
      "i,datasum:  7 27\n",
      "total sum of data:  27\n"
     ]
    }
   ],
   "source": [
    "data = np.array([1,3,2,5,7,3,4,2])\n",
    "print data\n",
    "datasum = 0\n",
    "for i in range(len(data)):\n",
    "    datasum =datasum + data[i]\n",
    "    print 'i,datasum: ',i,datasum\n",
    "print 'total sum of data: ',datasum\n",
    "\n"
   ]
  },
  {
   "cell_type": "markdown",
   "metadata": {},
   "source": [
    "Note that the statement \n",
    "\n",
    "`datasum = datasum + data[i]` \n",
    "\n",
    "means that `data[i]` is added to the current value of `datasum` and that the result is assigned to `datasum`. There is actually a shorter syntax for the same statement: \n",
    "\n",
    "`datasum += data[i]`\n",
    "\n",
    "The `+=` command means: add whatever is on the right side of the `+=` sign to whatever is on the left side. You can use whichever syntax you are most comfortable with (although `+=` is considered to be better and in some cases more efficient)."
   ]
  },
  {
   "cell_type": "markdown",
   "metadata": {},
   "source": [
    "### Exercise 4.  <a name=\"back4\"></a>Running total\n",
    "Create a list with the names of the months in a year, and a separate list or array with the number of days in each month (for a regular year). Create a loop that prints to the screen \n",
    "\n",
    "`at the end of MONTH XX days have passed this year`\n",
    "\n",
    "where you fill in the name of the month and `XX` is the corresponding number of days that have passed at the end of that month in that year. Make sure `XX` is computed by your code."
   ]
  },
  {
   "cell_type": "code",
   "execution_count": 44,
   "metadata": {
    "collapsed": false
   },
   "outputs": [
    {
     "name": "stdout",
     "output_type": "stream",
     "text": [
      "[31, 28, 31, 30, 31, 30, 31, 31, 30, 31, 30, 31]\n",
      "At the end of January 31 have passed this year\n",
      "At the end of February 59 have passed this year\n",
      "At the end of March 90 have passed this year\n",
      "At the end of April 120 have passed this year\n",
      "At the end of May 151 have passed this year\n",
      "At the end of June 181 have passed this year\n",
      "At the end of July 212 have passed this year\n",
      "At the end of August 243 have passed this year\n",
      "At the end of September 273 have passed this year\n",
      "At the end of October 304 have passed this year\n",
      "At the end of November 334 have passed this year\n",
      "At the end of December 365 have passed this year\n"
     ]
    }
   ],
   "source": [
    "month = ['January','February','March','April','May','June','July','August','September','October','November','December']\n",
    "dat=[31,28,31,30,31,30,31,31,30,31,30,31]\n",
    "\n",
    "print dat\n",
    "datsum = 0\n",
    "for i in range(len(dat)):\n",
    "    datsum =datsum + dat[i]\n",
    "    print 'At the end of',month[i],datsum,'have passed this year'\n"
   ]
  },
  {
   "cell_type": "markdown",
   "metadata": {},
   "source": [
    "### Finding the maximum value the hard way\n",
    "Next, let's find the maximum in the array `data` and the index of the maximum value. For illustration purposes, we will do this the hard way by using a loop and an if statement. First we create a variable `maxvalue` that contains the maximum value and set it initially to a very small number, and a variable `maxindex` that is the index of the maximum value and is initially set to `None`. Then we loop through all values in `data` and update the `maxvalue` and `maxindex` everytime we find a larger value than the current `maxvalue`"
   ]
  },
  {
   "cell_type": "code",
   "execution_count": 45,
   "metadata": {
    "collapsed": false
   },
   "outputs": [
    {
     "name": "stdout",
     "output_type": "stream",
     "text": [
      "the maximum value is  7\n",
      "the index of the maximum value is  4\n"
     ]
    }
   ],
   "source": [
    "maxvalue = -1e8\n",
    "maxindex = None\n",
    "for i in range(len(data)):\n",
    "    if data[i] > maxvalue:\n",
    "        maxvalue = data[i]\n",
    "        maxindex = i\n",
    "print 'the maximum value is ',maxvalue\n",
    "print 'the index of the maximum value is ',maxindex"
   ]
  },
  {
   "cell_type": "markdown",
   "metadata": {},
   "source": [
    "For this example, it is easy to check whether these numbers are correct by looking at the `data` array. But there are, of course, functions available (in the numpy package) to find the maximum value and the index of the maximum value: `amax` returns the maximum value of an array, and `argmax` returns the index of the maximum of the array. There are similar functions if you are interested in the mimimum value."
   ]
  },
  {
   "cell_type": "code",
   "execution_count": 47,
   "metadata": {
    "collapsed": false
   },
   "outputs": [
    {
     "name": "stdout",
     "output_type": "stream",
     "text": [
      "the maximum value is  7\n",
      "the index of the maximum value is  4\n"
     ]
    }
   ],
   "source": [
    "print 'the maximum value is ',np.amax(data)\n",
    "print 'the index of the maximum value is ',np.argmax(data)"
   ]
  },
  {
   "cell_type": "markdown",
   "metadata": {},
   "source": [
    "### Exercise 5, Minimum and maximum wave height\n",
    "The file `waves2014.dat` contains the significant wave heights (defined as the average height of the highest one-third of the waves) in cm at a buoy in the North Sea recorded in 2014. Load the data and plot it. Add a title and labels to the axes. Use numbers along the axis."
   ]
  },
  {
   "cell_type": "code",
   "execution_count": 69,
   "metadata": {
    "collapsed": false
   },
   "outputs": [
    {
     "data": {
      "text/plain": [
       "<matplotlib.text.Text at 0xd7610b8>"
      ]
     },
     "execution_count": 69,
     "metadata": {},
     "output_type": "execute_result"
    },
    {
     "data": {
      "image/png": "[encoded data removed]",
      "text/plain": [
       "<matplotlib.figure.Figure at 0xd303208>"
      ]
     },
     "metadata": {},
     "output_type": "display_data"
    }
   ],
   "source": [
    "w= np.loadtxt('waves2014.dat')\n",
    "plt.plot (w)\n",
    "plt.ylabel ('average height of waves in cm')\n",
    "plt.xlabel('time')\n",
    "plt.title ( 'Average height of the highest one-third of the waves at a buoy in the North Sea in 2014')"
   ]
  },
  {
   "cell_type": "markdown",
   "metadata": {},
   "source": [
    "When you look at the timeseries, you can see the highest and lowest recorded significant wave height.\n",
    "Write a `for` loop to find the highest and lowest significant wave height in the data set and print the values to the screen. Next, use the `np.max` and `np.min` functions to determine the same."
   ]
  },
  {
   "cell_type": "code",
   "execution_count": 84,
   "metadata": {
    "collapsed": false
   },
   "outputs": [
    {
     "name": "stdout",
     "output_type": "stream",
     "text": [
      "The maximum value is  261.0\n",
      "The minimum value is  9.0\n",
      "The maximum value is  261.0\n",
      "The minimum value is  9.0\n"
     ]
    }
   ],
   "source": [
    "maxvalue = -1e8\n",
    "\n",
    "for i in range(len(w)):\n",
    "   if w[i] > maxvalue:\n",
    "        maxvalue = w[i]\n",
    "        maxindex = i\n",
    "print 'The maximum value is ',maxvalue\n",
    "\n",
    "\n",
    "minvalue = 1e8\n",
    "\n",
    "for i in range(len(w)):\n",
    "    if w[i] < minvalue:\n",
    "        minvalue = w[i]\n",
    "        minindex = i\n",
    "print 'The minimum value is ',minvalue\n",
    "\n",
    "\n",
    "\n",
    "print 'The maximum value is ',np.amax(w)\n",
    "\n",
    "\n",
    "print 'The minimum value is ',np.amin(w)\n"
   ]
  },
  {
   "cell_type": "markdown",
   "metadata": {},
   "source": [
    "### Nested loops\n",
    "It is also possible to have loops inside loops. These are called nested loops. For example, consider the array `data` with 3 rows and 4 columns shown below. We want to compute the sum of the values in each row and we are going to do this using a double loop. First, we make an array of zeros called `rowtotal` of length 3 (one value for each row of the array `data`). Next, we loop through each row. For each row inside the loop, we start another loop that goes through all the columns and adds the value to the array rowtotal for that row."
   ]
  },
  {
   "cell_type": "code",
   "execution_count": 87,
   "metadata": {
    "collapsed": false
   },
   "outputs": [
    {
     "name": "stdout",
     "output_type": "stream",
     "text": [
      "[[1 2 3 5]\n",
      " [4 8 6 4]\n",
      " [3 5 4 6]]\n",
      "[ 0.  0.  0.]\n",
      "[ 11.  22.  18.]\n"
     ]
    }
   ],
   "source": [
    "data = np.array([[1,2,3,5],\n",
    "              [4,8,6,4],\n",
    "              [3,5,4,6]])\n",
    "print data\n",
    "rowtotal = np.zeros(3)\n",
    "print rowtotal\n",
    "for irow in range(3):\n",
    "    for jcol in range(4):\n",
    "        rowtotal[irow] += data[irow,jcol]\n",
    "        # longer alternative:\n",
    "        #rowtotal[irow] = rowtotal[irow] + data[irow,jcol]\n",
    "print rowtotal"
   ]
  },
  {
   "cell_type": "markdown",
   "metadata": {},
   "source": [
    "After running the code above, first make sure that the answer is correct. Next, note that it is important to set the values of `rowtotal` to 0 before starting the loops, as we added to these values to compute the sum of each row. In the code, we use two loops, so we indented twice. "
   ]
  },
  {
   "cell_type": "markdown",
   "metadata": {},
   "source": [
    "### Breaks and while\n",
    "A common task is to find the position of a value in a sorted table (e.g., a list or array). \n",
    "For example, determine between which two numbers the number 6 falls in the sequence `[1,4,5,8,9]`. \n",
    "I know, it is between `5` and `8`, but what if the list is long? Then you really want a routine to do that.\n",
    "To find the position in the list, we need to loop through the list and break out of the loop once we have found the position.\n",
    "For this, Python has the command `break`."
   ]
  },
  {
   "cell_type": "code",
   "execution_count": 89,
   "metadata": {
    "collapsed": false
   },
   "outputs": [
    {
     "name": "stdout",
     "output_type": "stream",
     "text": [
      "a is between  5  and  8\n"
     ]
    }
   ],
   "source": [
    "x = [1,4,5,8,9]\n",
    "a = 6\n",
    "for i in range(len(x)):\n",
    "    if a < x[i]:\n",
    "        break\n",
    "print 'a is between ',x[i-1],' and ',x[i]"
   ]
  },
  {
   "cell_type": "markdown",
   "metadata": {},
   "source": [
    "There is another way of coding this using a `while` loop. Let's first look at the while loop for the same code as above"
   ]
  },
  {
   "cell_type": "code",
   "execution_count": 90,
   "metadata": {
    "collapsed": false
   },
   "outputs": [
    {
     "name": "stdout",
     "output_type": "stream",
     "text": [
      "a is between  5  and  8\n"
     ]
    }
   ],
   "source": [
    "x = [1,4,5,8,9]\n",
    "a = 6\n",
    "i = 0\n",
    "while a >= x[i]:\n",
    "    i = i + 1\n",
    "print 'a is between ',x[i-1],' and ',x[i]"
   ]
  },
  {
   "cell_type": "markdown",
   "metadata": {},
   "source": [
    "In the `while` loop, the comparison is done at the beginning of the loop, while the counter (in this case `i`) is updated inside the loop. Either a loop with a break or a while loop with a counter works fine, but `while` loops may be tricky in some cases, as they can result in infinite loops when you have an error in your code. Once you are in an infinite loop (one that never stops), click on the [Kernel] menu item at the top of the window and select [Restart]. This will end your Python session and start a new one. When you print something to the screen in your while loop, it may not be possible to break out of the loop and you may need to end your IPython session (and potentially lose some of your work). "
   ]
  },
  {
   "cell_type": "markdown",
   "metadata": {},
   "source": [
    "### Strings\n",
    "Strings are a very versatile data type, and we can easily spend an entire Notebook on strings. \n",
    "We will only make limited use of strings, so we keep treatment here to a bare minimum. We already used strings to specify names along axes of a graph, or in the legend of a graph. Strings are like tuples in that every character in a string has an index. Each character or range of characters can be accessed, just like for tuples, but they cannot be changed. A string also has a length. "
   ]
  },
  {
   "cell_type": "code",
   "execution_count": 91,
   "metadata": {
    "collapsed": false
   },
   "outputs": [
    {
     "name": "stdout",
     "output_type": "stream",
     "text": [
      "21\n",
      "G\n",
      "Goodmorning \n"
     ]
    }
   ],
   "source": [
    "text1 = 'Goodmorning everybody'\n",
    "print len(text1)\n",
    "print text1[0]\n",
    "print text1[0:12]"
   ]
  },
  {
   "cell_type": "markdown",
   "metadata": {},
   "source": [
    "When you add two strings, they are put back to back, just like tuples. When you want to combine text with a variable, you first need to change the variable to a string and then add the two strings"
   ]
  },
  {
   "cell_type": "code",
   "execution_count": 96,
   "metadata": {
    "collapsed": false
   },
   "outputs": [
    {
     "name": "stdout",
     "output_type": "stream",
     "text": [
      "Goodmorning everybody in the class\n",
      "The magic number is 7\n"
     ]
    }
   ],
   "source": [
    "newtext = text1 + ' in the class'  # Adding two srings\n",
    "print newtext\n",
    "a = 7\n",
    "mes = 'The magic number is ' + str(a)  # Combining strings and numbers\n",
    "print mes\n"
   ]
  },
  {
   "cell_type": "markdown",
   "metadata": {},
   "source": [
    "Comparisons work on strings just like they work on numbers. The comparison starts with the first character in a string and only goes to the next character when the first characters of both strings are equal. The letter 'a' is smaller than 'b', 'b' is smaller than 'c', etc. But be careful, in the order of things, the upper case characters are smaller than all lower case characters! So 'A' is smaller than 'a', but also than 'm' or any other lower case character. Make sure you understand the following statements"
   ]
  },
  {
   "cell_type": "code",
   "execution_count": 97,
   "metadata": {
    "collapsed": false,
    "scrolled": true
   },
   "outputs": [
    {
     "name": "stdout",
     "output_type": "stream",
     "text": [
      "True\n",
      "True\n",
      "False\n",
      "True\n",
      "True\n"
     ]
    }
   ],
   "source": [
    "print 'delft' < 'eindhoven'  # True as 'd' is smaller than 'e'\n",
    "print 'dalft' < 'delft'      # True as 'a' is smaller than 'e'\n",
    "print 'delft' == 'Delft'     # False as lower and upper case are not equal\n",
    "print 'Delft' < 'delft'      # True as 'D' is smaller than 'd'\n",
    "print 'delft' > 'Eindhoven'  # Also True, as 'd' is larger than 'E' or any other upper case character"
   ]
  },
  {
   "cell_type": "markdown",
   "metadata": {},
   "source": [
    "Strings can be converted to upper or lower case"
   ]
  },
  {
   "cell_type": "code",
   "execution_count": 98,
   "metadata": {
    "collapsed": false
   },
   "outputs": [
    {
     "name": "stdout",
     "output_type": "stream",
     "text": [
      "TU Delft\n",
      "tu delft\n",
      "TU DELFT\n"
     ]
    }
   ],
   "source": [
    "TU = 'TU Delft'\n",
    "print TU\n",
    "print TU.lower()\n",
    "print TU.upper()"
   ]
  },
  {
   "cell_type": "markdown",
   "metadata": {},
   "source": [
    "A string conisting of multiple words can be converted into a list that of words using `split`"
   ]
  },
  {
   "cell_type": "code",
   "execution_count": 99,
   "metadata": {
    "collapsed": false
   },
   "outputs": [
    {
     "name": "stdout",
     "output_type": "stream",
     "text": [
      "This is the sentence:\n",
      "This is a sentence of a number of words\n",
      "This is the split sentence:\n",
      "['This', 'is', 'a', 'sentence', 'of', 'a', 'number', 'of', 'words']\n",
      "All words may be printed seperately:\n",
      "This\n",
      "is\n",
      "a\n",
      "sentence\n",
      "of\n",
      "a\n",
      "number\n",
      "of\n",
      "words\n"
     ]
    }
   ],
   "source": [
    "sentence = 'This is a sentence of a number of words'\n",
    "print 'This is the sentence:'\n",
    "print sentence\n",
    "wordlist = sentence.split()\n",
    "print 'This is the split sentence:'\n",
    "print wordlist\n",
    "print 'All words may be printed seperately:'\n",
    "for word in wordlist:\n",
    "    print word"
   ]
  },
  {
   "cell_type": "markdown",
   "metadata": {},
   "source": [
    "### Exercise 6, Count letters using a nested loop\n",
    "Consider the following text about Hendrik Lorentz (the first paragraph of his <a href=\"https://en.wikipedia.org/wiki/Hendrik_Lorentz\" target=\"parent\">Wikipedia</a> page):"
   ]
  },
  {
   "cell_type": "code",
   "execution_count": 199,
   "metadata": {
    "collapsed": false
   },
   "outputs": [
    {
     "name": "stdout",
     "output_type": "stream",
     "text": [
      "Hendrik Lorentz was born in Arnhem Gelderland (The Netherlands), the son of Gerrit Frederik Lorentz (1822–1893), a well-off nurseryman, and Geertruida van Ginkel (1826–1861). In 1862, after his mothers death, his father married Luberta Hupkes. Despite being raised as a Protestant, he was a freethinker in religious matters. From 1866 to 1869 he attended the \"Hogere Burger School\" in Arnhem, a new type of public high school recently established by Johan Rudolph Thorbecke His results in school were exemplary; not only did he excel in the exact sciences but also in English, French, and German. In 1870 he passed the exams in classical languages which were then required for admission to University\n"
     ]
    }
   ],
   "source": [
    "text = 'Hendrik Lorentz was born in Arnhem Gelderland (The Netherlands), the son of Gerrit Frederik Lorentz (1822–1893), a well-off nurseryman, and Geertruida van Ginkel (1826–1861). In 1862, after his mothers death, his father married Luberta Hupkes. Despite being raised as a Protestant, he was a freethinker in religious matters. From 1866 to 1869 he attended the \"Hogere Burger School\" in Arnhem, a new type of public high school recently established by Johan Rudolph Thorbecke His results in school were exemplary; not only did he excel in the exact sciences but also in English, French, and German. In 1870 he passed the exams in classical languages which were then required for admission to University'\n",
    "print text"
   ]
  },
  {
   "cell_type": "markdown",
   "metadata": {},
   "source": [
    "Count how many times each letter of the alphabet appears in the text about Lorentz. Store the number of times each letter appears in an array of length 26 (the number of letters in the alphabet) using a nested loop. For each letter, print to the screen `LETTER is present XX times`, where you print each `LETTER` of the alphabet and the corresponding number of times `XX` it appears in the text."
   ]
  },
  {
   "cell_type": "code",
   "execution_count": 311,
   "metadata": {
    "collapsed": false
   },
   "outputs": [
    {
     "name": "stdout",
     "output_type": "stream",
     "text": [
      "[ 38.   9.  14.  21.  78.  11.  13.  36.  37.   1.   6.  26.  11.  42.  28.\n",
      "   8.   1.  45.  36.  36.  13.   2.   7.   4.   7.   2.]\n",
      "the letter a is present 38.0 time\n",
      "the letter b is present 9.0 time\n",
      "the letter c is present 14.0 time\n",
      "the letter d is present 21.0 time\n",
      "the letter e is present 78.0 time\n",
      "the letter f is present 11.0 time\n",
      "the letter g is present 13.0 time\n",
      "the letter h is present 36.0 time\n",
      "the letter i is present 37.0 time\n",
      "the letter j is present 1.0 time\n",
      "the letter k is present 6.0 time\n",
      "the letter l is present 26.0 time\n",
      "the letter m is present 11.0 time\n",
      "the letter n is present 42.0 time\n",
      "the letter o is present 28.0 time\n",
      "the letter p is present 8.0 time\n",
      "the letter q is present 1.0 time\n",
      "the letter r is present 45.0 time\n",
      "the letter s is present 36.0 time\n",
      "the letter t is present 36.0 time\n",
      "the letter u is present 13.0 time\n",
      "the letter v is present 2.0 time\n",
      "the letter w is present 7.0 time\n",
      "the letter x is present 4.0 time\n",
      "the letter y is present 7.0 time\n",
      "the letter z is present 2.0 time\n"
     ]
    }
   ],
   "source": [
    "text1= text.lower()\n",
    "\n",
    "lettrs=['a','b','c','d','e','f','g','h','i','j','k','l','m','n','o','p','q','r','s','t','u','v','w','x','y','z']\n",
    "sum =0    \n",
    "\n",
    "rowtotal = np.zeros(26)\n",
    "\n",
    "for irow in range(len(lettrs)):\n",
    "    for i in range(len(text1)):\n",
    "        if lettrs[irow] == text1[i]:\n",
    "            rowtotal[irow]=rowtotal[irow]+sum+1\n",
    "            \n",
    "    sum=0\n",
    "print rowtotal\n",
    "\n",
    "for i in range(len(lettrs)):\n",
    "    print 'the letter',lettrs[i],'is present', rowtotal[i],'time'"
   ]
  },
  {
   "cell_type": "markdown",
   "metadata": {},
   "source": [
    "### Exercise 7. Count how many time you can make a word\n",
    "Using the text about Lorentz of the previous Exercise, count how many times you can make the word `bouwplaats` with the letters in te text using a nested loop. You can use the result of the previous exercise. You can use each letter only once. So if there are 10 letters 'b' in the text, you can make at most 10 times the words `bouwplaats`."
   ]
  },
  {
   "cell_type": "code",
   "execution_count": 344,
   "metadata": {
    "collapsed": false
   },
   "outputs": [
    {
     "name": "stdout",
     "output_type": "stream",
     "text": [
      "[  9.  28.  13.   7.   8.  26.  19.  19.  36.  36.]\n",
      "I cam make at most 7.0 times the word bouwplaats.\n"
     ]
    }
   ],
   "source": [
    "text1= 'bouwplaats'\n",
    "rowss = np.zeros(len (text1))\n",
    "for irow in range(len(lettrs)):\n",
    "    for i in range(len(text1)):\n",
    "        if lettrs[irow] == text1[i]:\n",
    "            rowss[i]=rowtotal[irow]\n",
    "            \n",
    "rowss[6] = rowss[6]/2.\n",
    "rowss[7] = rowss[7]/2.\n",
    "\n",
    "print rowss\n",
    "\n",
    "print 'I cam make at most',np.amin(rowss),'times the word bouwplaats.'"
   ]
  },
  {
   "cell_type": "code",
   "execution_count": null,
   "metadata": {
    "collapsed": true
   },
   "outputs": [],
   "source": []
  }
 ],
 "metadata": {
  "kernelspec": {
   "display_name": "Python 3",
   "language": "python",
   "name": "python3"
  },
  "language_info": {
   "codemirror_mode": {
    "name": "ipython",
    "version": 3
   },
   "file_extension": ".py",
   "mimetype": "text/x-python",
   "name": "python",
   "nbconvert_exporter": "python",
   "pygments_lexer": "ipython3",
   "version": "3.6.0"
  }
 },
 "nbformat": 4,
 "nbformat_minor": 0
}
