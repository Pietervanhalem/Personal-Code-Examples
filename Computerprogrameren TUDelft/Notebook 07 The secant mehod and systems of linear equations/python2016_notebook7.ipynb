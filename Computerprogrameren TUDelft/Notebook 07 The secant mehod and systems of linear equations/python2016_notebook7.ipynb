{
 "cells": [
  {
   "cell_type": "markdown",
   "metadata": {},
   "source": [
    "<figure>\n",
    "  <IMG SRC=\"https://raw.githubusercontent.com/mbakker7/exploratory_computing_with_python/master/tudelft_logo.png\" WIDTH=250 ALIGN=\"right\">\n",
    "</figure>\n",
    "\n",
    "# Exploratory Computing with Python\n",
    "*Developed by Mark Bakker*\n",
    "## Notebook 8: The Secant method and Systems of linear equations"
   ]
  },
  {
   "cell_type": "markdown",
   "metadata": {},
   "source": [
    "In this Notebook, we start with a small review by implementing the Secant method for finding the zero of a function. After that, we learn how to build and solve systems of linear equations."
   ]
  },
  {
   "cell_type": "code",
   "execution_count": 1,
   "metadata": {
    "collapsed": true
   },
   "outputs": [],
   "source": [
    "import numpy as np\n",
    "import matplotlib.pyplot as plt\n",
    "%matplotlib inline\n",
    "\n",
    "## In de titel staat notebook 8 ipv notebook  7"
   ]
  },
  {
   "cell_type": "markdown",
   "metadata": {},
   "source": [
    "### Exercise 1\n",
    "Write a Python function for $f(x)=x^3+6x^2+11x-6$. Call the function `fbouw`. Plot $f(x)$ for $x$ varying from -10 to 10. Notice that $f(x)$ has a zero somewhere on the plotted interval. Plot a horizontal dashed line at $y=0$ using the `plt.axhline` function. "
   ]
  },
  {
   "cell_type": "code",
   "execution_count": 2,
   "metadata": {
    "collapsed": false
   },
   "outputs": [
    {
     "data": {
      "image/png": "[encoded data removed]",
      "text/plain": [
       "<matplotlib.figure.Figure at 0x20d843200b8>"
      ]
     },
     "metadata": {},
     "output_type": "display_data"
    }
   ],
   "source": [
    "def fbouw(x):\n",
    "    y = x ** 3 + 6 * x ** 2 + 11 * x - 6\n",
    "    return y\n",
    "\n",
    "x = np.linspace(-10,10,100)\n",
    "plt.plot(x,fbouw(x),'r')\n",
    "plt.axhline(0, linestyle='dashed', color='black');"
   ]
  },
  {
   "cell_type": "markdown",
   "metadata": {},
   "source": [
    "### Exercise 2,  Secant method\n",
    "\n",
    "You are asked to implement the Secant method to determine the (approximate) zero of an arbitrary function $f(x)$, so you are trying to find the value of $x$ for which $f(x)=0$. More information on the Secant method can be found [here](https://en.wikipedia.org/wiki/Secant_method). The Secant method is a very old method and works as follows. You start with two $x$ values, let's call them $x_0$ and $x_1$, and compute $f(x_0)$ and $f(x_1)$. Next, you draw a straight line between $f(x_0)$ and $f(x_1)$ and find the $x$ value where this straight line intersects the $y$-axis. This value is called $x_2$ (see the figure below) and is your next best estimate of the zero of the function. Next, you repeat this process, but now with $x_1$ and $x_2$. You compute $f(x_1)$ and $f(x_2)$, draw a straight line through these two function values and call the intersection of the straight line with the $y$-axis $x_3$. \n",
    "\n",
    "<img src=\"351px-Secant_method.PNG\">\n",
    "\n",
    "In summary, the Secant method works as follows:\n",
    "1. Choose two values $x_0$ and $x_1$ (the closer these values are to the root (the zero of the function), the better the Secant method works, of course). \n",
    "2. Compute $x_n$ (starting with $n=2$), which is the intersection of the straight line with the $y$-axis:\n",
    "$x_n =x_{n-1}-f(x_{n-1} ) \\frac{x_{n-1}-x_{n-2}} {f(x_{n-1})-f(x_{n-2})}$\n",
    "3. Compute $f(x_n)$\n",
    "4. Check if $f(x_n)$ lies within a specified tolerance. If so, you have found the approximate $x$ root of $f$. \n",
    "5. If not, return to step 2 with the next value of $n$\n",
    "\n",
    "Implement the Secant method in a function called `secant`. Your `secant` function should take the following input arguments:\n",
    "* The function for which you want to find the root.\n",
    "* Starting values $x_0$ and $x_1$ . \n",
    "* The maximum number of iterations `nmax`. Make `nmax` a keyword argument with a default value of 10. \n",
    "* The tolerance `tol` used as a stopping criterion. Make `tol` a keyword argument with a default value of 0.001.\n",
    "\n",
    "Your function should return the value of $x$ where $f(x)$ equals (approximately) zero. Your function should print a warning to the screen when the maximum number of iterations is reached before the tolerance is met.\n",
    "\n",
    "In writing your code it is advisable to print the value of $x_n$ and $f(x_n)$ to the screen every iteration, so you can see how your `secant` function performs (or whether you have any bugs left). Turn this printing off when your function works correctly.\n",
    "\n",
    "Use your `secant` method to find the zero of the function $f(x)$ you programmed in Step 1 and make sure it is within `tol=0.001` of the exact value.\n",
    "\n",
    "Run the following three lines of code to demonstrate that your function works correctly (the third call to the `secant` method should not converge before the tolerance is met).\n",
    "\n",
    "    solution = secant(fbouw, 0, 1.)\n",
    "    print('The solution is', solution, 'and the function value is', fbouw(solution))\n",
    "\n",
    "    solution = secant(fbouw, 0, 1., tol=1e-6)\n",
    "    print('The solution is', solution, 'and the function value is', fbouw(solution))\n",
    "\n",
    "    solution = secant(fbouw, 0, 1., nmax=4, tol=1e-6)\n",
    "    print('The solution is', solution, 'and the function value is', fbouw(solution))"
   ]
  },
  {
   "cell_type": "code",
   "execution_count": 3,
   "metadata": {
    "collapsed": false
   },
   "outputs": [
    {
     "name": "stdout",
     "output_type": "stream",
     "text": [
      "The solution is 0.434831828092 and the function value is -0.000160133746954\n",
      "The solution is 0.434841364069 and the function value is -6.96301958314e-08\n",
      "the maximum number of itarations is reached\n",
      "The solution is 0.434831828092 and the function value is -0.000160133746954\n"
     ]
    }
   ],
   "source": [
    "def secant(f, x0, x1, nmax=10, tol = 0.001, ):\n",
    "    x = np.zeros(nmax+2)\n",
    "    x[0] = x0\n",
    "    x[1] = x1\n",
    "    z = 1\n",
    "    for i in range(2, nmax+2):\n",
    "        x[i] = x[i-1] - f(x[i-1])*(x[i-1]-x[i-2])/(f(x[i-1])-f(x[i-2]))\n",
    "        z += 1\n",
    "        if np.abs(f(x[i])) < tol:\n",
    "            break \n",
    "    if z == (nmax + 1):\n",
    "        print('the maximum number of itarations is reached')\n",
    "    \n",
    "    return(x[z])\n",
    "\n",
    "solution = secant(fbouw, 0, 1.)\n",
    "print('The solution is', solution, 'and the function value is', fbouw(solution))\n",
    "\n",
    "solution = secant(fbouw, 0, 1., tol=1e-6)\n",
    "print('The solution is', solution, 'and the function value is', fbouw(solution))\n",
    "\n",
    "solution = secant(fbouw, 0, 1., nmax=4, tol=1e-6)\n",
    "print('The solution is', solution, 'and the function value is', fbouw(solution))"
   ]
  },
  {
   "cell_type": "markdown",
   "metadata": {},
   "source": [
    "### Building and solving a system of linear equations\n",
    "A parabola is defined by three points (provided they are not on a straight line). \n",
    "The equation for a parabola is $y=ax^2+bx+c$, where $a$, $b$, and $c$ are constants.\n",
    "Given three points $(x_1,y_1)$, $(x_2,y_2)$, $(x_3,y_3)$, the following system of three linear equations may be compiled\n",
    "\n",
    "$\n",
    "\\begin{split}\n",
    "x_1^2a+x_1b+c&=y_1 \\\\\n",
    "x_2^2a+x_2b+c&=y_2 \\\\\n",
    "x_3^2a+x_3b+c&=y_3 \\\\\n",
    "\\end{split}\n",
    "$\n",
    "\n",
    "Or in matrix form\n",
    "\n",
    "$\n",
    "\\left(\n",
    "\\begin{array}{ccc}\n",
    "x_1^2 & x_1 & 1 \\\\\n",
    "x_2^2 & x_2 & 1 \\\\\n",
    "x_3^2 & x_3 & 1 \\\\\n",
    "\\end{array}\n",
    "\\right)\n",
    "\\left(\n",
    "\\begin{array}{c}\n",
    "a \\\\b \\\\c \\\\\n",
    "\\end{array}\n",
    "\\right)\n",
    "=\n",
    "\\left(\n",
    "\\begin{array}{c}\n",
    "y_1 \\\\\n",
    "y_2 \\\\\n",
    "y_3 \\\\\n",
    "\\end{array}\n",
    "\\right)\n",
    "$\n",
    "\n",
    "To solve this problem, we build a two-dimensional array containing the matrix (called `A`) and a one-dimensional array containing the right-hand side (called `rhs`).\n",
    "Let's do that for the three points $(x_1,y_1)=(-2,2)$, $(x_2,y_2)=(1,-1)$, $(x_3,y_3)=(4,4)$"
   ]
  },
  {
   "cell_type": "code",
   "execution_count": 4,
   "metadata": {
    "collapsed": false
   },
   "outputs": [
    {
     "name": "stdout",
     "output_type": "stream",
     "text": [
      "Array A:\n",
      "[[  4.  -2.   1.]\n",
      " [  1.   1.   1.]\n",
      " [ 16.   4.   1.]]\n",
      "rhs: [ 2. -1.  4.]\n"
     ]
    }
   ],
   "source": [
    "xp = np.array([-2, 1, 4])\n",
    "yp = np.array([2, -1, 4])\n",
    "A = np.zeros((3, 3))\n",
    "rhs = np.zeros(3)\n",
    "for i in range(3):\n",
    "    A[i] = xp[i] ** 2, xp[i], 1  # Store one row at a time\n",
    "    rhs[i] = yp[i]\n",
    "print('Array A:')\n",
    "print(A)\n",
    "print('rhs:',rhs)"
   ]
  },
  {
   "cell_type": "markdown",
   "metadata": {},
   "source": [
    "The system may be solved with the `solve` method, which is part of the `linalg` subpackage of `numpy`. The `solve` method takes as input a two-dimensional array (the matrix) and a one-dimensional array (the right-hand side) and returns the solution. To check whether the solution is correct, we need to do a matrix multiply of the matrix stored in the array `A` and the obtained solution, which we call `sol`. As we learned the line\n",
    "\n",
    "`A * sol`\n",
    "\n",
    "does a term-by-term multiply. For a matrix multiply, the `@` symbol needs to be used (alternatively, the `np.dot` function can be used; the `@` symbol does not work in Python 2)."
   ]
  },
  {
   "cell_type": "code",
   "execution_count": 5,
   "metadata": {
    "collapsed": false
   },
   "outputs": [
    {
     "name": "stdout",
     "output_type": "stream",
     "text": [
      "solution is: [ 0.44444444 -0.55555556 -0.88888889]\n",
      "specified values of y: [ 2 -1  4]\n",
      "A @ sol: [ 2. -1.  4.]\n"
     ]
    }
   ],
   "source": [
    "sol = np.linalg.solve(A, rhs)\n",
    "print('solution is:', sol)\n",
    "print('specified values of y:', yp)\n",
    "print('A @ sol:', A @ sol)"
   ]
  },
  {
   "cell_type": "markdown",
   "metadata": {},
   "source": [
    "We can also visually check whether we solved the problem correctly by drawing the three points and the parabola. "
   ]
  },
  {
   "cell_type": "code",
   "execution_count": 6,
   "metadata": {
    "collapsed": false
   },
   "outputs": [
    {
     "data": {
      "image/png": "[encoded data removed]",
      "text/plain": [
       "<matplotlib.figure.Figure at 0x20d84738320>"
      ]
     },
     "metadata": {},
     "output_type": "display_data"
    }
   ],
   "source": [
    "plt.plot(xp, yp, 'ro')\n",
    "x = np.linspace(-3, 5, 100)\n",
    "y = sol[0] * x ** 2 + sol[1] * x + sol[2]\n",
    "plt.plot(x, y, 'b');"
   ]
  },
  {
   "cell_type": "markdown",
   "metadata": {},
   "source": [
    "### Exercise 3. Fitting a wave\n",
    "Consider the following four measurements of the quantity $y$ at time $t$: $(t_0,y_0)=(0,3)$, $(t_1,y_1)=(0.25,1)$, $(t_2,y_2)=(0.5,-3)$, $(t_3,y_3)=(0.75,1)$. The measurements are part of a wave that may be written as\n",
    "\n",
    "$y = a\\cos(\\pi t) + b\\cos(2\\pi t) + c\\cos(3\\pi t) + d\\cos(4\\pi t)$\n",
    "\n",
    "where $a$, $b$, $c$, and $d$ are parameters. Build a system of four linear equations and solve for the four parameters. Print the values of the four parameters to the screen. In addition, print the matrix times the solution to the screen to demonstrate that you solved the system correctly."
   ]
  },
  {
   "cell_type": "code",
   "execution_count": 7,
   "metadata": {
    "collapsed": false
   },
   "outputs": [
    {
     "name": "stdout",
     "output_type": "stream",
     "text": [
      "the value of a = 1.0\n",
      "the value of b = 2.0\n",
      "the value of c = 1.0\n",
      "the value of d = -1.0\n",
      "The matrix B times the cooficients a,b,c & d is: [ 3.  1. -3.  1.]\n"
     ]
    }
   ],
   "source": [
    "tp = np.array([0, 0.25, 0.5, 0.75])\n",
    "yp = np.array([3, 1, -3, 1])\n",
    "B = np.zeros((4, 4))\n",
    "rhs2 = np.zeros(4)\n",
    "for i in range(4):\n",
    "    B[i] = np.cos(np.pi*tp[i]), np.cos(2*np.pi*tp[i]), np.cos(3*np.pi*tp[i]), np.cos(4*np.pi*tp[i])\n",
    "    rhs2[i] = yp[i]\n",
    "sol2 = np.linalg.solve(B, rhs2)\n",
    "a = sol2[0]\n",
    "b = sol2[1]\n",
    "c = sol2[2]\n",
    "d = sol2[3]\n",
    "\n",
    "print('the value of a =', a)\n",
    "print('the value of b =', b)\n",
    "print('the value of c =', c)\n",
    "print('the value of d =', d)\n",
    "print('The matrix B times the cooficients a,b,c & d is:', B @ sol2)"
   ]
  },
  {
   "cell_type": "markdown",
   "metadata": {},
   "source": [
    "### Exercise 4\n",
    "For the problem of Exercise 3, plot the wave for $t$ going from 0 to 1 and show the four measurements with dots. Add a legend."
   ]
  },
  {
   "cell_type": "code",
   "execution_count": 8,
   "metadata": {
    "collapsed": false,
    "scrolled": true
   },
   "outputs": [
    {
     "data": {
      "image/png": "[encoded data removed]",
      "text/plain": [
       "<matplotlib.figure.Figure at 0x20d84757d68>"
      ]
     },
     "metadata": {},
     "output_type": "display_data"
    }
   ],
   "source": [
    "def func1(x):\n",
    "    y = a * np.cos(1*np.pi*x) + b * np.cos(2*np.pi*x) + c * np.cos(3*np.pi*x) + d * np.cos(4*np.pi*x)\n",
    "    return y \n",
    "x = np.linspace(0, 1, 100)\n",
    "z = func1(x)\n",
    "\n",
    "\n",
    "plt.plot(x,z,'k', tp[0],yp[0], 'rd', tp[1],yp[1], 'bd', tp[2],yp[2], 'gd', tp[3],yp[3], 'yd',)\n",
    "plt.legend(['Fitted line', 't=0', 't=0.25', 't=0.5', 't=0,75'], loc='best')\n",
    "plt.xlabel('t-axis')\n",
    "plt.ylabel('y-axis');"
   ]
  },
  {
   "cell_type": "markdown",
   "metadata": {},
   "source": [
    "### More equations than unknowns"
   ]
  },
  {
   "cell_type": "markdown",
   "metadata": {},
   "source": [
    "What now if you have more equations than unkonwns? For example, what if you have 6 points in time where you have measured the quantity $y$, but you still want to fit a wave with four periods (and four parameters). In general, there is no solution to a system of 6 equations with 4 unknowns, unless you are very lucky. A common approach is to try to find the four parameters that fit the 6 equations as good as possible. One way to do this is to find the four parameters such that the sum of the squares of the errors between the specified right-hand-side and the computed right-hand-side is as small as possible. It is very easy to do this with `numpy`. You can simply specify a matrix with $M$ rows and $N$ colums, where $M>N$. And specify a right-hand-side with $M$ values. Then you can use the `np.linalg.lstsq` function to compute a solution. Note that the `np.linalg.lstsq` solution returns four things, of which the first one is the least squares solution (use `np.linalg.lstsq?` to find out what else is returned)."
   ]
  },
  {
   "cell_type": "markdown",
   "metadata": {},
   "source": [
    "### Exercise 5. More equations than unknowns\n",
    "Redo exercises 3 and 4, but now the value of $y$ is given at six values of $t$: $(t_0,y_0)=(0,3)$, $(t_1,y_1)=(0.25,1)$, $(t_2,y_2)=(0.5,-3)$, $(t_3,y_3)=(0.75,1)$, $(t_4,y_4)=(0.4,-1)$, $(t_5,y_5)=(0.6,-2)$. Compute the four parameters $a, b, c, d$ using the least squares approach. Plot the wave for $t$ going from 0 to 1 and show the six measurements with dots. Add a legend."
   ]
  },
  {
   "cell_type": "code",
   "execution_count": 9,
   "metadata": {
    "collapsed": false
   },
   "outputs": [
    {
     "name": "stdout",
     "output_type": "stream",
     "text": [
      "the value of a = 1.15828478862\n",
      "the value of b = 1.90621349063\n",
      "the value of c = 0.524778622951\n",
      "the value of d = -0.872589472321\n",
      "The matrix B times the cooficients a,b,c & d is: [ 2.71668743  1.32054598 -2.77880296  0.42463297 -1.87842923 -1.74517894]\n"
     ]
    },
    {
     "data": {
      "image/png": "[encoded data removed]",
      "text/plain": [
       "<matplotlib.figure.Figure at 0x20d849055f8>"
      ]
     },
     "metadata": {},
     "output_type": "display_data"
    }
   ],
   "source": [
    "tp3 = np.array([0, 0.25, 0.5, 0.75, 0.4, 0.6])\n",
    "yp3 = np.array([3, 1, -3, 1, -1, -2])\n",
    "C = np.zeros((6, 4))\n",
    "rhs3 = np.zeros(6)\n",
    "for i in range(6):\n",
    "    C[i] = np.cos(np.pi*tp3[i]), np.cos(2*np.pi*tp3[i]), np.cos(3*np.pi*tp3[i]), np.cos(4*np.pi*tp3[i])\n",
    "    rhs3[i] = yp3[i]\n",
    "sol3 = np.linalg.lstsq(C, rhs3)\n",
    "sol4 = sol3[0]\n",
    "\n",
    "print('the value of a =', sol4[0])\n",
    "print('the value of b =', sol4[1])\n",
    "print('the value of c =', sol4[2])\n",
    "print('the value of d =', sol4[3])\n",
    "print('The matrix B times the cooficients a,b,c & d is:', C @ sol4)\n",
    "\n",
    "x = np.linspace(0, 1, 100)\n",
    "y = sol4[0] * np.cos(1*np.pi*x) + sol4[1] * np.cos(2*np.pi*x) + sol4[2] * np.cos(3*np.pi*x) + sol4[3] * np.cos(4*np.pi*x)\n",
    "\n",
    "\n",
    "plt.plot(x,y,'k', \n",
    "         tp3[0],yp3[0], 'rd', \n",
    "         tp3[1],yp3[1], 'bd', \n",
    "         tp3[2],yp3[2], 'gd', \n",
    "         tp3[3],yp3[3], 'yd', \n",
    "         tp3[4],yp3[4], 'md',\n",
    "         tp3[5],yp3[5], 'cd',)\n",
    "plt.legend(['y(t)', 't=0', 't=0.25', 't=0.5', 't=0,75', 't=0,4', 't=0,6'], loc='best')\n",
    "plt.xlabel('t-axis')\n",
    "plt.ylabel('y-axis');\n"
   ]
  },
  {
   "cell_type": "markdown",
   "metadata": {},
   "source": [
    "### The inverse of a matrix\n",
    "Sometimes it is beneficial to compute and store the inverse of a matrix rather than only the solution of the system of equations, for example when the inverse is used to compute many solutions. The inverse of a matrix may be computed with the `inv` function of the `linalg` package. If the inverse of matrix `A` is called `Ainv`, the solution may be obtained through matrix multiplication of `Ainv` with the right-hand side. For example, for the example of fitting a parabola through three points, the inverse of the matrix can be computed to obtain a solution as follows: "
   ]
  },
  {
   "cell_type": "code",
   "execution_count": 10,
   "metadata": {
    "collapsed": false
   },
   "outputs": [
    {
     "name": "stdout",
     "output_type": "stream",
     "text": [
      "sol with solve:   [ 0.44444444 -0.55555556 -0.88888889]\n",
      "sol with inverse: [ 0.44444444 -0.55555556 -0.88888889]\n"
     ]
    }
   ],
   "source": [
    "A = np.array([[ 4, -2, 1],\n",
    "              [ 1,  1, 1],\n",
    "              [16,  4, 1]])\n",
    "rhs = np.array([2, -1, 4])\n",
    "sol = np.linalg.solve(A, rhs)\n",
    "print('sol with solve:  ', sol)\n",
    "Ainv = np.linalg.inv(A)\n",
    "sol = Ainv @ rhs\n",
    "print('sol with inverse:', sol)"
   ]
  },
  {
   "cell_type": "markdown",
   "metadata": {},
   "source": [
    "### Exercise 6. Buying cucumbers\n",
    "\n",
    "Five friends are going to the supermarket to buy cucumbers. When they are done they count how many cucumbers they have.\n",
    "\n",
    "Aafje, Bernard and Cedric together have a total of 18 cucumbers.\n",
    "\n",
    "Bernard, Cedric and Damian together have a total of 9 cucumbers.\n",
    "\n",
    "Cedric, Damian and Evin together have a total of 12 cucumbers.\n",
    "\n",
    "Bernard, Cedric, and Evin together have a total of 17 cucumbers.\n",
    "\n",
    "All five friends together have a total of 26 cucumbers.\n",
    "\n",
    "Build a system of five equations and five unknowns. Compute the inverse of the matrix an use the inverse of the matrix to compute how many cucumbers each friend has. Print the solution to the screen using a loop, showing something like:\n",
    "\n",
    "    Aafje hax xx cucumbers\n",
    "    Bernard has xx cucumbers\n",
    "    etc.\n",
    "    \n",
    "Recall that the `int` function can be used to convert a float to an integer."
   ]
  },
  {
   "cell_type": "code",
   "execution_count": 11,
   "metadata": {
    "collapsed": false
   },
   "outputs": [
    {
     "name": "stdout",
     "output_type": "stream",
     "text": [
      "Aafje has 9 cucumbers\n",
      "Bernard has 5 cucumbers\n",
      "Cedric has 4 cucumbers\n",
      "Damian has 0 cucumbers\n",
      "Evin has 8 cucumbers\n"
     ]
    }
   ],
   "source": [
    "E = np.array([[1, 1, 1, 0, 0],\n",
    "              [0, 1, 1, 1, 0],\n",
    "              [0, 0, 1, 1, 1],\n",
    "              [0, 1, 1, 0, 1],\n",
    "              [1, 1, 1, 1, 1]])\n",
    "Einv = np.linalg.inv(E)\n",
    "rhs = np.array([18, 9, 12, 17, 26])\n",
    "sol = Einv @ rhs\n",
    "\n",
    "print('Aafje has', int(sol[0]), 'cucumbers')\n",
    "print('Bernard has', int(sol[1]), 'cucumbers')\n",
    "print('Cedric has', int(sol[2]), 'cucumbers')\n",
    "print('Damian has', int(sol[3]), 'cucumbers')\n",
    "print('Evin has', int(sol[4]), 'cucumbers')"
   ]
  },
  {
   "cell_type": "code",
   "execution_count": null,
   "metadata": {
    "collapsed": true
   },
   "outputs": [],
   "source": []
  }
 ],
 "metadata": {
  "kernelspec": {
   "display_name": "Python 3",
   "language": "python",
   "name": "python3"
  },
  "language_info": {
   "codemirror_mode": {
    "name": "ipython",
    "version": 3
   },
   "file_extension": ".py",
   "mimetype": "text/x-python",
   "name": "python",
   "nbconvert_exporter": "python",
   "pygments_lexer": "ipython3",
   "version": "3.6.0"
  }
 },
 "nbformat": 4,
 "nbformat_minor": 0
}
