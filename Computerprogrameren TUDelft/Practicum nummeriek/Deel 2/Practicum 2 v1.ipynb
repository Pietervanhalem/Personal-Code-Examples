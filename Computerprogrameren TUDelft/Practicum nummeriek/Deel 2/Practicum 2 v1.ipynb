{
 "cells": [
  {
   "cell_type": "code",
   "execution_count": null,
   "metadata": {
    "collapsed": false
   },
   "outputs": [],
   "source": []
  },
  {
   "cell_type": "code",
   "execution_count": 19,
   "metadata": {
    "collapsed": true
   },
   "outputs": [],
   "source": [
    "import numpy as np\n",
    "import scipy.sparse.linalg as sp_lg\n",
    "import scipy.sparse as sp\n",
    "import numpy.linalg as lg\n",
    "import matplotlib.pyplot as plt\n",
    "\n",
    "EI = 2 * 10 ** 11 * (1/12) * 0.04 * 0.2 ** 3\n",
    "L = 10\n",
    "s = 2\n",
    "xleft = 0.0\n",
    "xright = L\n",
    "yleft = 0.0\n",
    "yright = 0.0"
   ]
  },
  {
   "cell_type": "code",
   "execution_count": 20,
   "metadata": {
    "collapsed": true
   },
   "outputs": [],
   "source": [
    "def A(h, N): \n",
    "    d0 = np.ones(N)\n",
    "    d1 = np.ones(N-1)\n",
    "    d2 = np.ones(N-2)\n",
    "    A = (6*np.diag(d0,0) + -4*np.diag(d1,-1) + -4*np.diag(d1,1) + 1*np.diag(d2,-2) + 1*np.diag(d2,2))\n",
    "    A[0,0] = 5\n",
    "    A[N-1,N-1] = 5\n",
    "    return A * EI/(h ** 4)\n",
    "\n",
    "def b(h,N,x,yleft,yright):\n",
    "    result = 611.52*np.ones(N)\n",
    "    if(((L/2-s/2)/h).is_integer() == True):\n",
    "        for i in range(int((L/2-s/2)/h),int((L/2+s/2)/h)):\n",
    "            result[i] = result[i] + 2450.0\n",
    "    return result \n",
    "\n",
    "def solve(h,N,x,yleft,yright):\n",
    "    AA = A(h,N)\n",
    "    bb = b(h,N,x,yleft,yright)\n",
    "    y = lg.solve(AA,bb)\n",
    "    result = np.concatenate(([yleft],y,[yright]))\n",
    "    return result\n",
    "\n",
    "def main(N):\n",
    "    h = (xright  - xleft)/(N+1)\n",
    "    print(\"Stepsize (h): {:.2f}\".format(h))\n",
    "    x = np.linspace(xleft,xright,N+2)                                 \n",
    "    y = solve(h,N,x,yleft,yright)\n",
    "    return x,y\n",
    "\n",
    "def plot(x,y):\n",
    "    plt.figure(\"Boundary value problem\")\n",
    "    plt.plot(x,y,\"k\")\n",
    "    plt.xlabel(\"x\")\n",
    "    plt.ylabel(\"y\")\n",
    "    plt.title(\"De graph of the function y\")\n",
    "    plt.legend(\"y\", loc=\"best\")\n",
    "    plt.gca().invert_yaxis()\n",
    "    plt.show()\n",
    "    \n",
    "def table(x,y,N):    \n",
    "    print (\"{:>4}{:>11}{:>21}\".format(\"k\", \"x_k\", \"y(x_k)\"))\n",
    "    for k in range(0, N+2):\n",
    "        print (\"{:4.0f}{:11.2f}{:23.7e}\".format(k, x[k], y[k]))"
   ]
  },
  {
   "cell_type": "markdown",
   "metadata": {},
   "source": [
    "# Assignment 2.11\n"
   ]
  },
  {
   "cell_type": "code",
   "execution_count": 21,
   "metadata": {
    "collapsed": false
   },
   "outputs": [
    {
     "name": "stdout",
     "output_type": "stream",
     "text": [
      "Stepsize (h): 1.00\n",
      "   k        x_k               y(x_k)\n",
      "   0       0.00          0.0000000e+00\n",
      "   1       1.00          1.0173319e-02\n",
      "   2       2.00          1.9417230e-02\n",
      "   3       3.00          2.6916986e-02\n",
      "   4       4.00          3.1972500e-02\n",
      "   5       5.00          3.3998344e-02\n",
      "   6       6.00          3.2523750e-02\n",
      "   7       7.00          2.7651986e-02\n",
      "   8       8.00          2.0060355e-02\n",
      "   9       9.00          1.0540819e-02\n",
      "  10      10.00          0.0000000e+00\n"
     ]
    }
   ],
   "source": [
    "N = 9\n",
    "x,y = main(N)\n",
    "#plot(x,y)\n",
    "table(x,y,len(y)-2)"
   ]
  },
  {
   "cell_type": "code",
   "execution_count": 18,
   "metadata": {
    "collapsed": false
   },
   "outputs": [
    {
     "name": "stdout",
     "output_type": "stream",
     "text": [
      "Stepsize (h): 0.05\n"
     ]
    },
    {
     "data": {
      "image/png": "[encoded data removed]",
      "text/plain": [
       "<matplotlib.figure.Figure at 0x1c0e9d0d208>"
      ]
     },
     "metadata": {},
     "output_type": "display_data"
    }
   ],
   "source": [
    "N = 199\n",
    "x,y = main(N)\n",
    "plot(x,y)\n",
    "#table(x,y,len(y)-2)"
   ]
  },
  {
   "cell_type": "code",
   "execution_count": 10,
   "metadata": {
    "collapsed": false
   },
   "outputs": [
    {
     "name": "stdout",
     "output_type": "stream",
     "text": [
      "True\n"
     ]
    }
   ],
   "source": [
    "print((0.90/0.05).is_integer())"
   ]
  },
  {
   "cell_type": "code",
   "execution_count": 11,
   "metadata": {
    "collapsed": false
   },
   "outputs": [
    {
     "ename": "SyntaxError",
     "evalue": "invalid syntax (<ipython-input-11-6fcd428c742f>, line 1)",
     "output_type": "error",
     "traceback": [
      "\u001b[0;36m  File \u001b[0;32m\"<ipython-input-11-6fcd428c742f>\"\u001b[0;36m, line \u001b[0;32m1\u001b[0m\n\u001b[0;31m    3pri1()\u001b[0m\n\u001b[0m        ^\u001b[0m\n\u001b[0;31mSyntaxError\u001b[0m\u001b[0;31m:\u001b[0m invalid syntax\n"
     ]
    }
   ],
   "source": [
    "/3pri1"
   ]
  }
 ],
 "metadata": {
  "kernelspec": {
   "display_name": "Python 3",
   "language": "python",
   "name": "python3"
  },
  "language_info": {
   "codemirror_mode": {
    "name": "ipython",
    "version": 3
   },
   "file_extension": ".py",
   "mimetype": "text/x-python",
   "name": "python",
   "nbconvert_exporter": "python",
   "pygments_lexer": "ipython3",
   "version": "3.6.0"
  }
 },
 "nbformat": 4,
 "nbformat_minor": 2
}
