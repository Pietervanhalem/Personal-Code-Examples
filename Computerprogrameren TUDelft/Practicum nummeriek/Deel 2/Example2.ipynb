#
# Example program, boundary value problem
#

import numpy as np

### imports necessary for alternative 1 and 2
##import scipy.sparse.linalg as sp_lg
##import scipy.sparse as sp

import numpy.linalg as lg
import matplotlib.pyplot as plt

def main():
    
    # set interval, boundary values and mesh size; determine grid, the number of unknowns
    xleft = 0.0
    xright = 1.0
    yleft = 3.0
    yright = 1.0
    
    N = 9                                                            # leading to h = 0.1, number of intervals = N+1 = 10
    h = (xright  - xleft)/(N+1)                                      # h: stepsize
    x = np.linspace(xleft,xright,N+2)                                 
    
    y = solve(h,N,x,yleft,yright)
    
    
    plt.figure("Boundary value problem")
    plt.plot(x,y,"k")
    plt.xlabel("x")
    plt.ylabel("y")
    plt.title("De graph of the function y")
    plt.legend("y", loc="upper right")
    plt.show()
            
    # print table of function values
    print ("{:>4}{:>11}{:>21}".format("k", "x_k", "y(x_k)"))
    for k in range(0, N+2):
        print ("{:4.0f}{:11.2f}{:23.7e}".format(k, x[k], y[k]))
    
##    # Alternative: print table of function values
##    table = "   k        x_k               y(x_k)\n"               
##    for k in range(0,N+2):
##        table = table + " %3.0f      %5.2f        %15.7e\n" %(k,x[k],y[k])
##    print (table)
        





def A(h,N):

    # build the tridiagonal matrix A using diag    
    d0 = np.ones(N)                                                 # main diagonal of length N
    d1 = np.ones(N-1)                                               # subdiagonals of length N-1
    A1 = 1/h**2*(-2*np.diag(d0,0) + np.diag(d1,-1) + np.diag(d1,1))
    A2 = 2*np.diag(d0,0)
    A = -A1 + A2
    return A

##    # Alternative: build the tridiagonal matrix A, using loops    
##    A1 = np.zeros((N,N))                                            # create a N x N matrix filled with zeros
##    for i in range(0,N):                                            # fill main diagonal
##        A1[i,i] = -2                                                # fill subdiagonals
##    for i in range(0,N-1):
##        A1[i,i+1] = 1
##        A1[i+1,i] = 1
##        
##    A1 = A1/h**2
##    A2 = 2*np.eye(N)
##    A = -A1 + A2
##    return A

def b(h,N,x,yleft,yright):
    
    # build the right-hand side of the system Ax = b
    result = np.cos(x[1:N+1])                                       # x[0] contains xleft, x[N+1] contains xright
    result[0] = result[0] + yleft/h**2                              # account for boundary terms
    result[N-1] = result[N-1] + yright/h**2 
    return result 

    
def solve(h,N,x,yleft,yright):
    
    AA = A(h,N)
    bb = b(h,N,x,yleft,yright)

    # solve the system Ax = b
    y = lg.solve(AA,bb)                                             # use solve

##    # Alternative 1: solve the system Ax = b (more efficient)  
##    sp_AA = sp.csr_matrix(AA)                                      # use the fact that A is a sparse matrix
##    y = sp_lg.spsolve(sp_AA,bb)                                    # use spsolve

##    # Alternative 2: solve the system Ax = b (more efficient)  
##    [LU,piv] = lg.lu_factor(AA)                                    # use LU-decomposition (A = PLU)
##    y = lg.lu_solve([LU,piv],bb)                                   # use lu_solve
    
    
    # include the boundary
    result = np.concatenate(([yleft],y,[yright]))
    return result

                                  
main()
