{
 "cells": [
  {
   "cell_type": "markdown",
   "metadata": {
    "collapsed": true
   },
   "source": [
    "# Equilibrium analysis Chemical reaction\n",
    "Number (code) of assignment: 2N4\n",
    "\n",
    "Description of activity:\n",
    "\n",
    "Report on behalf of:\n",
    "\n",
    "name  : Pieter van Halem\n",
    "student number : 4597591\n",
    "\n",
    "name : Dennis Dane\n",
    "student number :4592239\n",
    "\n",
    "\n",
    "\n",
    "Data of student taking the role of contact person:\n",
    "\n",
    "name  :\n",
    "\n",
    "email address  :"
   ]
  },
  {
   "cell_type": "code",
   "execution_count": null,
   "metadata": {
    "collapsed": true
   },
   "outputs": [],
   "source": [
    "import numpy as np\n",
    "import matplotlib.pyplot as plt"
   ]
  },
  {
   "cell_type": "markdown",
   "metadata": {},
   "source": [
    "# Function definitons:\n",
    "\n",
    "In the following block the function that are used for the numerical analysis are definend. These are functions for calculation the various time steps, functions for plotting tables ands functions for plotting graphs."
   ]
  },
  {
   "cell_type": "code",
   "execution_count": 2,
   "metadata": {
    "collapsed": false
   },
   "outputs": [],
   "source": [
    "def  f(y,a,b):\n",
    "    du = a-(b+1)*y[0,0]+y[0,0]**2*y[0,1]\n",
    "    dv = b*y[0,0]-y[0,0]**2*y[0,1]    \n",
    "    return np.matrix([du,dv])\n",
    "\n",
    "def FE(y,h,a,b):\n",
    "    f1 = f(y,a,b)\n",
    "    pred = y + f1*h\n",
    "    corr = y + (h/2)*(f(pred,a,b) + f1)\n",
    "    return corr\n",
    "\n",
    "def Integrate(y0, t0, tend, N,a,b):\n",
    "    h = (tend-t0)/N\n",
    "\n",
    "    t_arr = np.zeros(N+1)\n",
    "    t_arr[0] = t0\n",
    "\n",
    "    w_arr = np.zeros((2,N+1))\n",
    "    w_arr[:,0] = y0\n",
    "\n",
    "    t = t0\n",
    "    y = y0\n",
    "    for k in range(1,N+1):\n",
    "        y = FE(y,h,a,b)\n",
    "        w_arr[:,k] = y\n",
    "        t = t + h\n",
    "        t_arr[k] = t\n",
    "        \n",
    "    return t_arr, w_arr\n",
    "\n",
    "def PrintTable(t_arr, w_arr):\n",
    "    print (\"%6s %6s: %17s %17s\" % (\"index\", \"t\", \"u(t)\", \"v(t)\"))\n",
    "    for k in range(0,N+1):\n",
    "        print (\"{:6d} {:6.2f}: {:17.7e} {:17.7e}\".format(k,t_arr[k],\n",
    "                                                        w_arr[0,k],w_arr[1,k]))    \n",
    "\n",
    "def PlotGraphs(t_arr, w_arr):\n",
    "    plt.figure(\"Initial value problem\")\n",
    "    plt.plot(t_arr,w_arr[0,:],'r',t_arr,w_arr[1,:],'--')\n",
    "    plt.legend((\"$u(t)$\", \"$v(t)$\"),loc=\"best\", shadow=True)\n",
    "    plt.xlabel(\"$t$\")\n",
    "    plt.ylabel(\"$u$ and $v$\")\n",
    "    plt.title(\"Graphs of $u(t)$ and $v(t)$\")\n",
    "    plt.show()\n",
    "    \n",
    "def PlotGraphs2(t_arr, w_arr):\n",
    "    plt.figure(\"Initial value problem\")\n",
    "    plt.plot(w_arr[0,:],w_arr[1,:],'g')\n",
    "    plt.legend((\"$u,v$\",\"\"),loc=\"best\", shadow=True)\n",
    "    plt.xlabel(\"$u(t)$\")\n",
    "    plt.ylabel(\"$v(t)$\")\n",
    "    plt.title(\"$Phase$ $plane$ $(u,v)$\")\n",
    "    plt.axis(\"scaled\")\n",
    "    plt.show()\n",
    "    \n",
    "def PlotGraphs3(t_arr, w_arr,t_arr2, w_arr2):\n",
    "    plt.figure(\"Initial value problem\")\n",
    "    plt.plot(t_arr,w_arr[0,:],'r',t_arr,w_arr[1,:],'b--')\n",
    "    plt.plot(t_arr2,w_arr2[0,:],'r',t_arr2,w_arr2[1,:],'b--')\n",
    "    #plt.plot([t_array[80],t_array2[0]],[w_array[0,80],w_array2[0,0]],'r')\n",
    "    plt.legend((\"$u(t)$\", \"$v(t)$\"),loc=\"best\", shadow=True)\n",
    "    plt.xlabel(\"$t$\")\n",
    "    plt.ylabel(\"$u$ and $v$\")\n",
    "    plt.title(\"Graphs of $u(t)$ and $v(t)$\")\n",
    "    plt.show()\n",
    "\n",
    "def PlotGraphs4(t_arr, w_arr,t_arr2, w_arr2):\n",
    "    #plt.figure(\"Initial value problem\")\n",
    "    plt.plot(w_arr[0,:],w_arr[1,:],'g')\n",
    "    plt.plot(w_arr2[0,:],w_arr2[1,:],'g')\n",
    "    #plt.legend((\"$u,v$\",\"\"),loc=\"best\", shadow=True)\n",
    "    plt.xlabel(\"$u(t)$\")\n",
    "    plt.ylabel(\"$v(t)$\")\n",
    "    plt.title(\"$Phase$ $plane$ $(u,v)$\")\n",
    "    plt.axis(\"scaled\")\n",
    "    plt.show()"
   ]
  },
  {
   "cell_type": "markdown",
   "metadata": {},
   "source": [
    "# Assignment 2.9\n",
    "Integrate the system with Modified Euler and time step h = 0.15. Make a table of u and v on the time interval 0 ≤ t ≤ 1.5. The table needs to give u and v in an 8-digit floating-point format."
   ]
  },
  {
   "cell_type": "code",
   "execution_count": 3,
   "metadata": {
    "collapsed": false
   },
   "outputs": [
    {
     "name": "stdout",
     "output_type": "stream",
     "text": [
      "The integrated system using Modified Euler with time step h = 0.15 is shown in the following table: \n",
      "\n",
      " index      t:              u(t)              v(t)\n",
      "     0   0.00:     0.0000000e+00     0.0000000e+00\n",
      "     1   0.15:     1.7625000e-01     1.0125000e-01\n",
      "     2   0.30:     2.6892423e-01     2.7050835e-01\n",
      "     3   0.45:     3.1921278e-01     4.7380077e-01\n",
      "     4   0.60:     3.4812212e-01     6.9371767e-01\n",
      "     5   0.75:     3.6633149e-01     9.2138423e-01\n",
      "     6   0.90:     3.7927846e-01     1.1522633e+00\n",
      "     7   1.05:     3.8975403e-01     1.3839990e+00\n",
      "     8   1.20:     3.9921620e-01     1.6153246e+00\n",
      "     9   1.35:     4.0845332e-01     1.8455103e+00\n",
      "    10   1.50:     4.1792028e-01     2.0740846e+00\n"
     ]
    }
   ],
   "source": [
    "y0 = np.matrix([0.0,0.0])\n",
    "t0 = 0.0\n",
    "tend = 1.5\n",
    "N = 10\n",
    "\n",
    "t_array, w_array = Integrate(y0, t0, tend, N,2,4.5)\n",
    "print(\"The integrated system using Modified Euler with time step h = 0.15 is shown in the following table: \\n\")\n",
    "PrintTable(t_array, w_array)\n",
    "\n"
   ]
  },
  {
   "cell_type": "markdown",
   "metadata": {},
   "source": [
    "# Assignmet 2.10\n",
    "Integrate the system with Modified Euler and time step h = 0.05 for the interval [0,20]. Make plots of u and v as functions of t (put them in one figure). Also make a plot of u and v in the phase plane (u,v-plane). Do your plots correspond to your results of part 2?"
   ]
  },
  {
   "cell_type": "code",
   "execution_count": 10,
   "metadata": {
    "collapsed": false
   },
   "outputs": [
    {
     "name": "stdout",
     "output_type": "stream",
     "text": [
      "In this assignment the system has to be integrated using Modified Euler with a time step of h = 0.05 on \n",
      "a interval of [0,20].\n",
      "The first graph is u(t) and v(t) versus time (t).\n"
     ]
    },
    {
     "data": {
      "image/png": "[encoded data removed]",
      "text/plain": [
       "<matplotlib.figure.Figure at 0x1ea9641b7f0>"
      ]
     },
     "metadata": {},
     "output_type": "display_data"
    },
    {
     "name": "stdout",
     "output_type": "stream",
     "text": [
      "The second graph shows the u-v plane\n"
     ]
    },
    {
     "data": {
      "image/png": "[encoded data removed]",
      "text/plain": [
       "<matplotlib.figure.Figure at 0x1ea95edf198>"
      ]
     },
     "metadata": {},
     "output_type": "display_data"
    },
    {
     "name": "stdout",
     "output_type": "stream",
     "text": [
      "\n",
      " The system is stable and a spiral. Therefor is consistent with the conclusion from assignment 1.3.\n"
     ]
    }
   ],
   "source": [
    "y0 = np.matrix([0.0,0.0])\n",
    "t0 = 0.0\n",
    "tend = 20\n",
    "N = 400\n",
    "\n",
    "t_array, w_array = Integrate(y0, t0, tend, N,2,4.5)\n",
    "\n",
    "print(\"In this assignment the system has to be integrated using Modified Euler with a time step of h = 0.05 on \\na interval of [0,20].\")\n",
    "print(\"The first graph is u(t) and v(t) versus time (t).\")\n",
    "PlotGraphs(t_array, w_array)\n",
    "print(\"The second graph shows the u-v plane\")\n",
    "PlotGraphs2(t_array, w_array)\n",
    "print(\"\\n The system is stable and a spiral. Therefor is consistent with the conclusion from assignment 1.3.\")"
   ]
  },
  {
   "cell_type": "markdown",
   "metadata": {},
   "source": [
    "# Assignment 2.11\n",
    "Using the formula derived in question 7, estimate the accuracy of u and v computed with h = 0.05 at t = 8. Hence, integrate once more with time step h = 0.1."
   ]
  },
  {
   "cell_type": "markdown",
   "metadata": {},
   "source": [
    "The error can be estimated with Richardsons methode. were we use α = 1/3 found in assignment 7. here the estimated error is: E ≈ α( w(h) - w(2h) )."
   ]
  },
  {
   "cell_type": "code",
   "execution_count": 42,
   "metadata": {
    "collapsed": false
   },
   "outputs": [
    {
     "name": "stdout",
     "output_type": "stream",
     "text": [
      "The value for u and v at t = 8 with h = 0.05 is: 8.0 [ 2.22947774  2.14650174]\n",
      "The value for u and v at t = 8 with h = 0.10 is: 8.0 [ 2.21871063  2.15839871]\n"
     ]
    }
   ],
   "source": [
    "y0 = np.matrix([0.0,0.0])\n",
    "t0 = 0.0\n",
    "tend = 20\n",
    "N = 400\n",
    "\n",
    "t_array, w_array = Integrate(y0, t0, tend, N, 2, 4.5)\n",
    "\n",
    "y0 = np.matrix([0.0,0.0])\n",
    "t0 = 0.0\n",
    "tend = 20\n",
    "N = 200\n",
    "\n",
    "t_array2, w_array2 = Integrate(y0, t0, tend, N, 2, 4.5)\n",
    "\n",
    "print(\"The value for u and v at t = 8 with h = 0.05 is:\",t_array[160], w_array[:,160])\n",
    "print(\"The value for u and v at t = 8 with h = 0.10 is:\",t_array2[80], w_array2[:,80])"
   ]
  },
  {
   "cell_type": "code",
   "execution_count": 44,
   "metadata": {
    "collapsed": false
   },
   "outputs": [
    {
     "name": "stdout",
     "output_type": "stream",
     "text": [
      "The estimated acuracy for u is: 0.0035890365757\n",
      "The estimated acuracy for v is: -0.00396565753436\n"
     ]
    }
   ],
   "source": [
    "E1 = (w_array[0,160]-w_array2[0,80])*(1/3)\n",
    "E2 = (w_array[1,160]-w_array2[1,80])*(1/3)\n",
    "print(\"The estimated acuracy for u is:\", E1)\n",
    "print(\"The estimated acuracy for v is:\", E2)"
   ]
  },
  {
   "cell_type": "markdown",
   "metadata": {},
   "source": [
    "# Assignment 2.12\n",
    "Apply Modified Euler with h = 0.05. For 0 ≤ t ≤ t1 it holds that a = 2. At t = t1 the supply of materials A fails, and therefore a = 0 for t > t1. Take t1 = 4.0. Make plot of u and v as a function of t on the intervals [0, 10] in one figure and a plot of u and v in the uv-plane. Evaluate your results by comparing them to your findings form part 8."
   ]
  },
  {
   "cell_type": "code",
   "execution_count": 48,
   "metadata": {
    "collapsed": false
   },
   "outputs": [
    {
     "data": {
      "image/png": "[encoded data removed]",
      "text/plain": [
       "<matplotlib.figure.Figure at 0x1ea964a8198>"
      ]
     },
     "metadata": {},
     "output_type": "display_data"
    },
    {
     "data": {
      "image/png": "[encoded data removed]",
      "text/plain": [
       "<matplotlib.figure.Figure at 0x1ea964a85c0>"
      ]
     },
     "metadata": {},
     "output_type": "display_data"
    }
   ],
   "source": [
    "\n",
    "y0 = np.matrix([0.0,0.0])\n",
    "t0 = 0.0\n",
    "tend = 4.05\n",
    "N = 81\n",
    "\n",
    "t_array, w_array = Integrate(y0, t0, tend, N, 2, 4.5)\n",
    "\n",
    "y80 = np.matrix(w_array[:,N])\n",
    "\n",
    "t0 = 4.05\n",
    "tend =10.0\n",
    "N = 119\n",
    "\n",
    "t_array2, w_array2 = Integrate(y80, t0, tend, N, 0, 4.5)\n",
    "\n",
    "PlotGraphs3(t_array, w_array,t_array2, w_array2)\n",
    "PlotGraphs4(t_array, w_array,t_array2, w_array2)"
   ]
  },
  {
   "cell_type": "markdown",
   "metadata": {},
   "source": [
    "The first plot shows that u and v indeed converges to a certain value, as predicted in assignment 8. The phase plane shows that uv goes to a point on the u-axis. This was as well predicted in assignment 8.\n",
    "The first plot shows a corner in the u and v graph (a discontinuity in the first derivative). This does not contradict the theory because the system of differential equations changes the first derivatives does not have to be continuous.  The line itself is continuous because it is given in the initial values. \n"
   ]
  },
  {
   "cell_type": "markdown",
   "metadata": {
    "collapsed": false
   },
   "source": [
    "# Assignment 2.13\n",
    "Take t1 = 3.0, 3.5, 4.0, 4.5, 5.0, 5.5, 6.0. Make a table of the value of v-tilda and t-tilda. Evaluate your rsults."
   ]
  },
  {
   "cell_type": "code",
   "execution_count": 49,
   "metadata": {
    "collapsed": false
   },
   "outputs": [
    {
     "name": "stdout",
     "output_type": "stream",
     "text": [
      "    t1           t_tilde:           v_tilde \n",
      "  3.00              3.90     4.6222497e+00\n",
      "  3.50              4.50     5.2162406e+00\n",
      "  4.00              6.25     3.2824526e+00\n",
      "  4.50              6.30     3.1001560e+00\n",
      "  5.00              6.55     3.1126000e+00\n",
      "  5.50              6.90     3.1873758e+00\n",
      "  6.00              7.30     3.3397740e+00\n"
     ]
    }
   ],
   "source": [
    "y0 = np.matrix([0.0,0.0])\n",
    "t0 = 0.0\n",
    "tend = 6.0\n",
    "N = 120\n",
    "t_array, w_array = Integrate(y0, t0, tend, N, 2, 4.5)\n",
    "\n",
    "for i in np.arange(3,6.1,0.5):\n",
    "    t0 = i\n",
    "    tend = 10\n",
    "    N = int((tend - i) / 0.05)\n",
    "    y80 = np.matrix(w_array[:,int(i*20)])\n",
    "    t_array2, w_array2 = Integrate(y80, t0, tend, N, 0, 4.5)\n",
    "    indices = np.nonzero(w_array2[0,:] >= 0.01)\n",
    "    index = np.max(indices[0])\n",
    "    t_tilde = i + t_array[index+1]\n",
    "    v_tilde = w_array2[1,N]\n",
    "    if i == 3: \n",
    "        print(\"%6s %17s: %17s \" % (\"t1\", \"t_tilde\", \"v_tilde\"))\n",
    "    print(\"{:6.2f} {:17.2f} {:17.7e}\".format(i,t_tilde,v_tilde)) \n"
   ]
  },
  {
   "cell_type": "markdown",
   "metadata": {
    "collapsed": true
   },
   "source": [
    "lkksdndglnsldkgknlsdagn"
   ]
  },
  {
   "cell_type": "code",
   "execution_count": null,
   "metadata": {
    "collapsed": true
   },
   "outputs": [],
   "source": []
  }
 ],
 "metadata": {
  "kernelspec": {
   "display_name": "Python 3",
   "language": "python",
   "name": "python3"
  },
  "language_info": {
   "codemirror_mode": {
    "name": "ipython",
    "version": 3
   },
   "file_extension": ".py",
   "mimetype": "text/x-python",
   "name": "python",
   "nbconvert_exporter": "python",
   "pygments_lexer": "ipython3",
   "version": "3.6.0"
  }
 },
 "nbformat": 4,
 "nbformat_minor": 2
}
