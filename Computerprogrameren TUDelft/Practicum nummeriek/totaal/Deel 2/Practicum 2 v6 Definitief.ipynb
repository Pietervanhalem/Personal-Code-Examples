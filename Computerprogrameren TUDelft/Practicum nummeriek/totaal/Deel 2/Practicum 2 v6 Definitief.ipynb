{
 "cells": [
  {
   "cell_type": "markdown",
   "metadata": {
    "collapsed": false
   },
   "source": [
    "# Numerical evaluation of the deflection of the beam\n",
    "Number (code) of assignment: 5R4\n",
    "\n",
    "Description of activity: H2 & H3\n",
    "\n",
    "Report on behalf of:\n",
    "\n",
    "name  : Pieter van Halem\n",
    "student number (4597591)\n",
    "\n",
    "name : Dennis Dane\n",
    "student number (4592239)\n",
    "\n",
    "\n",
    "\n",
    "Data of student taking the role of contact person:\n",
    "\n",
    "name  : Pieter van Halem\n",
    "\n",
    "email address  : pietervanhalem@hotmail.com"
   ]
  },
  {
   "cell_type": "markdown",
   "metadata": {},
   "source": [
    "# Function definition\n",
    "\n",
    "In the first block are all the packages imported and constants defined. In the second block are all the functions for the numerical analyses  defined. And the third block contains the two function for the bisect method. This is used in assignment 2.13."
   ]
  },
  {
   "cell_type": "code",
   "execution_count": 1,
   "metadata": {
    "collapsed": true
   },
   "outputs": [],
   "source": [
    "import numpy as np\n",
    "import scipy.sparse.linalg as sp_lg\n",
    "import scipy.sparse as sp\n",
    "import scipy as scp\n",
    "import numpy.linalg as lg\n",
    "import matplotlib.pyplot as plt\n",
    "%matplotlib inline\n",
    "\n",
    "EI = 2 * 10 ** 11 * (1/12) * 0.04 * 0.2 ** 3\n",
    "L = 10\n",
    "s = 2\n",
    "xleft = 0.0\n",
    "xright = L\n",
    "yleft = 0.0\n",
    "yright = 0.0\n",
    "g = 9.8"
   ]
  },
  {
   "cell_type": "code",
   "execution_count": 2,
   "metadata": {
    "collapsed": false
   },
   "outputs": [],
   "source": [
    "def A(h, N): \n",
    "    d0 = np.ones(N)\n",
    "    d1 = np.ones(N-1)\n",
    "    d2 = np.ones(N-2)\n",
    "    A = (6*np.diag(d0,0) + -4*np.diag(d1,-1) + -4*np.diag(d1,1) + 1*np.diag(d2,-2) + 1*np.diag(d2,2))\n",
    "    A[0,0] = 5\n",
    "    A[N-1,N-1] = 5\n",
    "    return A * EI/(h ** 4)\n",
    "\n",
    "def beig(h,N,x,yleft,yright, qM):\n",
    "    result = qM*np.ones(N)\n",
    "    return result \n",
    "\n",
    "def bm(h,N,x,yleft,yright, qm):\n",
    "    result = np.zeros(N)\n",
    "    if(((L/2-s/2)/h).is_integer() == True):\n",
    "        for i in range(int((L/2-s/2)/h - 1),int((L/2+s/2)/h)):\n",
    "            if (i==int((L/2-s/2)/h - 1) or i == int((L/2+s/2)/h - 1)):\n",
    "                result[i] = result[i] + qm/2\n",
    "            else:\n",
    "                result[i] = result[i] + qm\n",
    "    return result \n",
    "\n",
    "def bn(h,N,x):\n",
    "    result = np.zeros(N)\n",
    "    for i in range(int((L/2-s/2)/h -1),int((L/2+s/2)/h -1)):\n",
    "        result[i] = result[i] + 125 * np.pi* g * np.sin(np.pi*((h*(i+1)-4)/2))\n",
    "    return result\n",
    "    \n",
    "\n",
    "def solve(h,N,x,yleft,yright, k, qM, qm):\n",
    "    AA = A(h,N)\n",
    "    if k == 1:\n",
    "        bb = beig(h,N,x,yleft,yright, qM)\n",
    "    elif k == 2:\n",
    "        bb = bm(h,N,x,yleft,yright, qm)\n",
    "    elif k==3:\n",
    "        bb = beig(h,N,x,yleft,yright, qM)\n",
    "        bb = bb + bm(h,N,x,yleft,yright, qm)\n",
    "    elif k == 4:\n",
    "        bb = beig(h,N,x,yleft,yright, qM)\n",
    "        bb = bb + bn(h,N,x) \n",
    "    y = lg.solve(AA,bb)\n",
    "    result = np.concatenate(([yleft],y,[yright]))\n",
    "    return result\n",
    "\n",
    "def main(N, k, qM = 611.52, qm = 2450.0):\n",
    "    h = (xright  - xleft)/(N+1)\n",
    "    x = np.linspace(xleft,xright,N+2)                                 \n",
    "    y = solve(h,N,x,yleft,yright,k, qM, qm)\n",
    "    return x,y\n",
    "\n",
    "def plot(x,y):\n",
    "    plt.figure(\"Boundary value problem\")\n",
    "    plt.plot(x,y,\"k\")\n",
    "    plt.xlabel(\"x\")\n",
    "    plt.ylabel(\"y\")\n",
    "    plt.title(\"De graph of the function y\")\n",
    "    plt.legend(\"y\", loc=\"best\")\n",
    "    \n",
    "def table(x,y,N):    \n",
    "    print (\"{:>4}{:>11}{:>21}\".format(\"k\", \"x_k\", \"y(x_k)\"))\n",
    "    for k in range(0, N+2):\n",
    "        print (\"{:4.0f}{:11.2f}{:23.7e}\".format(k, x[k], y[k]))"
   ]
  },
  {
   "cell_type": "code",
   "execution_count": 3,
   "metadata": {
    "collapsed": true
   },
   "outputs": [],
   "source": [
    "def func(qm):\n",
    "    N = 199\n",
    "    x,y = main(N, 3,611.52, qm)\n",
    "    return np.max(y) - 0.03\n",
    "\n",
    "def bisection(func, x1, x2, tol=0.01, nmax=10):\n",
    "    i = 0\n",
    "    for i in range(nmax):\n",
    "        xm = (1/2)*(x1 + x2)\n",
    "        fm = func(xm)\n",
    "        if func(xm) * func(x2) <= 0:\n",
    "            x1 = xm\n",
    "        else:\n",
    "            x2 = xm\n",
    "        i += 1\n",
    "        if np.abs(func(x1)) < tol:\n",
    "            break    \n",
    "    if i == nmax:\n",
    "        a = str('Warning: the nmax is exeeded')\n",
    "        print(a)\n",
    "    return x1"
   ]
  },
  {
   "cell_type": "markdown",
   "metadata": {},
   "source": [
    "# Assignment 2.11\n",
    "Choose $h=1.0$ as grid size and make a table f the obtained numerical   approximation of y. The table must give the deflection in 8-digit floating point format."
   ]
  },
  {
   "cell_type": "code",
   "execution_count": 4,
   "metadata": {
    "collapsed": false
   },
   "outputs": [
    {
     "name": "stdout",
     "output_type": "stream",
     "text": [
      "   k        x_k               y(x_k)\n",
      "   0       0.00          0.0000000e+00\n",
      "   1       1.00          1.0357069e-02\n",
      "   2       2.00          1.9738792e-02\n",
      "   3       3.00          2.7284486e-02\n",
      "   4       4.00          3.2248125e-02\n",
      "   5       5.00          3.3998344e-02\n",
      "   6       6.00          3.2248125e-02\n",
      "   7       7.00          2.7284486e-02\n",
      "   8       8.00          1.9738792e-02\n",
      "   9       9.00          1.0357069e-02\n",
      "  10      10.00          0.0000000e+00\n"
     ]
    }
   ],
   "source": [
    "N = 9\n",
    "x,y = main(N, 3)\n",
    "table(x,y,len(y)-2)"
   ]
  },
  {
   "cell_type": "markdown",
   "metadata": {},
   "source": [
    "# Assignment 2.12\n",
    "Take $h=0.05$. Compute both $y$ and $yeig$. plot the obtained approximation of y as a function of x. plot $yeig$ in the same picture, distinguishing the different graphs visually. Where is the maximal deflection attain? With values take y and yeig at the midpoint of the beam?"
   ]
  },
  {
   "cell_type": "code",
   "execution_count": 5,
   "metadata": {
    "collapsed": false
   },
   "outputs": [
    {
     "data": {
      "image/png": "[encoded data removed]",
      "text/plain": [
       "<matplotlib.figure.Figure at 0x1c8e77d9898>"
      ]
     },
     "metadata": {},
     "output_type": "display_data"
    },
    {
     "name": "stdout",
     "output_type": "stream",
     "text": [
      "The maximal deflection of yeig occurs at: x= 5.0\n",
      "The maximal deflection of y occurs at: x= 5.0\n",
      "\n",
      "The deflection in the midpoint of the beam is: yeig(5)= 1.4929986e-02\n",
      "The deflection in the midpoint of the beam is: y(5)= 3.3707370e-02\n"
     ]
    }
   ],
   "source": [
    "N = 199\n",
    "x,y = main(N, 1)\n",
    "x2,y2222 = main(N, 3)\n",
    "plt.figure(\"Boundary value problem\")\n",
    "plt.plot(x,y,\"b\", x2,y2222,\"r\")\n",
    "plt.plot(x[np.argmax(y)],np.max(y),\"xk\", x2[np.argmax(y2222)],np.max(y2222),\"xk\")\n",
    "plt.xlabel(\"x\")\n",
    "plt.ylabel(\"y\")\n",
    "plt.title(\"De graph of the function y\")\n",
    "plt.legend({\"yeig\",\"y\", \"maximal deflection\"}, loc=\"best\")\n",
    "plt.gca().invert_yaxis()\n",
    "plt.show()\n",
    "\n",
    "print(\"The maximal deflection of yeig occurs at: x=\",x[(np.argmax(y))])\n",
    "print(\"The maximal deflection of y occurs at: x=\",x2[(np.argmax(y2222))])\n",
    "print()\n",
    "print(\"The deflection in the midpoint of the beam is: yeig(5)= {:.7e}\".format(np.max(y)))\n",
    "print(\"The deflection in the midpoint of the beam is: y(5)= {:.7e}\".format(np.max(y2222)))"
   ]
  },
  {
   "cell_type": "markdown",
   "metadata": {},
   "source": [
    "\n",
    "# assignment 2.13\n",
    "Determine the maximal mass $m$ allowed for, i.e. the mass leading to a deflection in the midpoint of the beam with a magnitude 0.03 (see original goal, formulated at the beginning of the assignment)."
   ]
  },
  {
   "cell_type": "code",
   "execution_count": 6,
   "metadata": {
    "collapsed": false
   },
   "outputs": [],
   "source": [
    "qmopt = bisection(func, 1000, 30000, tol = 1e-15, nmax = 100)"
   ]
  },
  {
   "cell_type": "code",
   "execution_count": 7,
   "metadata": {
    "collapsed": false
   },
   "outputs": [
    {
     "name": "stdout",
     "output_type": "stream",
     "text": [
      "The max value for m is:4.0128099e+02[kg] the deflection for this m is:3.0000000e-02\n",
      "The truncation error is smaller than: 1e-15\n"
     ]
    }
   ],
   "source": [
    "x,y = main(N, 3, qm =  qmopt)\n",
    "qmopt = qmopt*2/g\n",
    "ymaxx = np.max(y)\n",
    "print(\"The max value for m is:{:.7e}[kg] the deflection for this m is:{:.7e}\".format(qmopt, ymaxx))\n",
    "print(\"The truncation error is smaller than: 1e-15\")"
   ]
  },
  {
   "cell_type": "markdown",
   "metadata": {},
   "source": [
    "The maximal load $m$ is obtained with the bisect method. In this method we choose a tolerance of $1e-15$, such that the error is not visible in this notebook. We choose the Bisect method because it always converges. We couldn’t use the Newton Raphson method because the derivatives of the function are not known.\n",
    "\n",
    "the defined functions are given in $ln[3]$"
   ]
  },
  {
   "cell_type": "markdown",
   "metadata": {},
   "source": [
    "# Assignment 2.14\n",
    "Determine $Am$ such that the total additional mass is again 500 kg. sketch the original load $qm$, i.e. (6) with m = 500, and the load qm in one figure."
   ]
  },
  {
   "cell_type": "markdown",
   "metadata": {},
   "source": [
    "To determine the value of Am we need to solve the following equation:\n",
    "\n",
    "$$\\int_{L/2-s/2}^{L/2+s/2} (Am*\\sin(\\pi*\\frac{x-(L/2-s/2)}{s})) dx = 500$$\n",
    "\n",
    "solving this equation results in:\n",
    "\n",
    "$$ \\frac{4}{\\pi}Am = 500$$\n",
    "\n",
    "$$ Am = 125\\pi$$"
   ]
  },
  {
   "cell_type": "code",
   "execution_count": 8,
   "metadata": {
    "collapsed": false
   },
   "outputs": [
    {
     "data": {
      "image/png": "[encoded data removed]",
      "text/plain": [
       "<matplotlib.figure.Figure at 0x1c8e77d9320>"
      ]
     },
     "metadata": {},
     "output_type": "display_data"
    }
   ],
   "source": [
    "x = np.linspace(4,6,100)\n",
    "x2 = 4*np.ones(100)\n",
    "x3 = 6*np.ones(100)\n",
    "x4 = np.linspace(0,4,100)\n",
    "x5 = np.linspace(6,10,100)\n",
    "y1 = (500 * g / s)*np.ones(100)\n",
    "y2 = 125 * np.pi* g * np.sin(np.pi*((x-4)/2))\n",
    "y3 = np.linspace(0,500 * g / s,100)\n",
    "y4 = np.zeros(100)\n",
    "\n",
    "plt.plot(x,y2, 'r', x,y1, 'b', x2,y3,'b',x3,y3,'b', x4,y4,'b',x5,y4,'b')\n",
    "plt.legend({\"original\",\"adapted\"}, loc=\"best\")\n",
    "plt.xlim(0, 10);"
   ]
  },
  {
   "cell_type": "markdown",
   "metadata": {},
   "source": [
    "# Assignment 2.15 \n",
    "Determine (using $h = 0.05$) the maximal deflection of the beam with the new load. Check whether this value is significantly different from the one obtained in exercise 12."
   ]
  },
  {
   "cell_type": "code",
   "execution_count": 9,
   "metadata": {
    "collapsed": false
   },
   "outputs": [
    {
     "name": "stdout",
     "output_type": "stream",
     "text": [
      "y(L/2) = 3.3853569e-02\n",
      "y2(L/2)-y1(L/2) = 1.4619928e-04 [m] = 4.3185782e-01 %\n"
     ]
    }
   ],
   "source": [
    "N=199\n",
    "x,y = main(N, 4)\n",
    "print(\"y(L/2) = {:.7e}\".format(np.max(y)))\n",
    "print(\"y2(L/2)-y1(L/2) = {:.7e} [m] = {:.7e} %\".format(np.max(y) - np.max(y2222),(np.max(y) - np.max(y2222))/np.max(y) * 100 ) )"
   ]
  },
  {
   "cell_type": "markdown",
   "metadata": {
    "collapsed": true
   },
   "source": [
    "The deflection increases with approximately 0.14 mm with is 0.43% witch is not significant. However it is very logical that the deflection increases. because the load concentrates more in the centre, a larger moment is caused. This increases the deflection of the beam."
   ]
  }
 ],
 "metadata": {
  "kernelspec": {
   "display_name": "Python 3",
   "language": "python",
   "name": "python3"
  },
  "language_info": {
   "codemirror_mode": {
    "name": "ipython",
    "version": 3
   },
   "file_extension": ".py",
   "mimetype": "text/x-python",
   "name": "python",
   "nbconvert_exporter": "python",
   "pygments_lexer": "ipython3",
   "version": "3.6.0"
  }
 },
 "nbformat": 4,
 "nbformat_minor": 2
}
