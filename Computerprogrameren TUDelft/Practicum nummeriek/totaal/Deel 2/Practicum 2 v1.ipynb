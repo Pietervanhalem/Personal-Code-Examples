{
 "cells": [
  {
   "cell_type": "code",
   "execution_count": 70,
   "metadata": {
    "collapsed": false
   },
   "outputs": [],
   "source": [
    "#\n",
    "# Example program, boundary value problem\n",
    "#\n",
    "\n",
    "import numpy as np\n",
    "\n",
    "### imports necessary for alternative 1 and 2\n",
    "##import scipy.sparse.linalg as sp_lg\n",
    "##import scipy.sparse as sp\n",
    "\n",
    "import numpy.linalg as lg\n",
    "import matplotlib.pyplot as plt\n",
    "\n",
    "def plot(x,y):\n",
    "    plt.figure(\"Boundary value problem\")\n",
    "    plt.plot(x,y,\"k\")\n",
    "    plt.xlabel(\"x\")\n",
    "    plt.ylabel(\"y\")\n",
    "    plt.title(\"De graph of the function y\")\n",
    "    plt.legend(\"y\", loc=\"best\")\n",
    "    plt.gca().invert_yaxis()\n",
    "    plt.show()\n",
    "    \n",
    "    \n",
    "def table(x,y,N):    \n",
    "    print (\"{:>4}{:>11}{:>21}\".format(\"k\", \"x_k\", \"y(x_k)\"))\n",
    "    for k in range(0, N+2):\n",
    "        print (\"{:4.0f}{:11.2f}{:23.7e}\".format(k, x[k], y[k]))\n",
    "\n",
    "def Q(h,po,s = 2, d = 0.2, B = 0.04, rho = 7800, g = 9.8, m = 500):\n",
    "    \n",
    "    if (po == 0):\n",
    "        q = rho*B*d*g + m*g/s\n",
    "    elif (po == 1):\n",
    "        q = rho*B*d*g\n",
    "    return q\n",
    "\n",
    "def main(N):\n",
    "\n",
    "    # set interval, boundary values and mesh size; determine grid, the number of unknowns\n",
    "    xleft = 0.0\n",
    "    xright = 10.0\n",
    "    yleft = 0.0\n",
    "    yright = 0.0\n",
    "                                                              # leading to h = 0.1, number of intervals = N+1 = 10\n",
    "    h = (xright  - xleft)/(N+1)                                      # h: stepsize\n",
    "    print(\"Stepsize (h): {:.2f}\".format(h))\n",
    "    x = np.linspace(xleft,xright,N+2)                                 \n",
    "    y = solve(h,N,x,yleft,yright)\n",
    "    return x,y\n",
    "\n",
    "def A(h, N): \n",
    "    d0 = np.ones(N)\n",
    "    d1 = np.ones(N-1)\n",
    "    d2 = np.ones(N-2)\n",
    "    A = ((2*10**11)/h**4)*(6*np.diag(d0,0) + -4*np.diag(d1,-1) + -4*np.diag(d1,1) + 1*np.diag(d2,-2) + 1*np.diag(d2,2))\n",
    "    A[0,0] = (1/h**4)*5\n",
    "    A[N-1,N-1] = (1/h**4)*5\n",
    "    return A\n",
    "\n",
    "def b(h,N,x,yleft,yright):\n",
    "    # build the right-hand side of the system Ax = b\n",
    "    #for i in range(N):\n",
    "    #    result = \n",
    "    result = Q(h,1)*np.ones(N)#np.cos(x[1:N+1])                                       # x[0] contains xleft, x[N+1] contains xright\n",
    "    #result[0] = result[0] + yleft/h**2                              # account for boundary terms\n",
    "    #result[N-1] = result[N-1] + yright/h**2 \n",
    "    return result \n",
    "\n",
    "    \n",
    "def solve(h,N,x,yleft,yright):\n",
    "    AA = A(h,N)\n",
    "    bb = b(h,N,x,yleft,yright)\n",
    "\n",
    "    # solve the system Ax = b\n",
    "    y = lg.solve(AA,bb)                                             # use solve\n",
    "   \n",
    "    # include the boundary\n",
    "    result = np.concatenate(([yleft],y,[yright]))\n",
    "    return result"
   ]
  },
  {
   "cell_type": "code",
   "execution_count": 73,
   "metadata": {
    "collapsed": false
   },
   "outputs": [
    {
     "name": "stdout",
     "output_type": "stream",
     "text": [
      "Stepsize (h): 1.00\n",
      "   k        x_k               y(x_k)\n",
      "   0       0.00          0.0000000e+00\n",
      "   1       1.00         -5.8663256e-09\n",
      "   2       2.00          3.8397767e-09\n",
      "   3       3.00          1.8416707e-08\n",
      "   4       4.00          3.0220465e-08\n",
      "   5       5.00          3.4664651e-08\n",
      "   6       6.00          3.0220465e-08\n",
      "   7       7.00          1.8416707e-08\n",
      "   8       8.00          3.8397767e-09\n",
      "   9       9.00         -5.8663256e-09\n",
      "  10      10.00          0.0000000e+00\n"
     ]
    }
   ],
   "source": [
    "N = 9\n",
    "x,y = main(N)\n",
    "#plot(x,y)\n",
    "table(x,y,len(y)-2)"
   ]
  },
  {
   "cell_type": "code",
   "execution_count": 72,
   "metadata": {
    "collapsed": false
   },
   "outputs": [
    {
     "name": "stdout",
     "output_type": "stream",
     "text": [
      "Stepsize (h): 0.05\n"
     ]
    },
    {
     "data": {
      "image/png": "[encoded data removed]",
      "text/plain": [
       "<matplotlib.figure.Figure at 0x296d4b75668>"
      ]
     },
     "metadata": {},
     "output_type": "display_data"
    }
   ],
   "source": [
    "N = 199\n",
    "x,y = main(N)\n",
    "plot(x,y)\n",
    "#table(x,y,len(y)-2)"
   ]
  },
  {
   "cell_type": "code",
   "execution_count": 54,
   "metadata": {
    "collapsed": false
   },
   "outputs": [
    {
     "name": "stdout",
     "output_type": "stream",
     "text": [
      "False\n"
     ]
    }
   ],
   "source": [
    "print((0.90/0.05).is_integer())"
   ]
  },
  {
   "cell_type": "code",
   "execution_count": null,
   "metadata": {
    "collapsed": true
   },
   "outputs": [],
   "source": []
  }
 ],
 "metadata": {
  "kernelspec": {
   "display_name": "Python 3",
   "language": "python",
   "name": "python3"
  },
  "language_info": {
   "codemirror_mode": {
    "name": "ipython",
    "version": 3
   },
   "file_extension": ".py",
   "mimetype": "text/x-python",
   "name": "python",
   "nbconvert_exporter": "python",
   "pygments_lexer": "ipython3",
   "version": "3.6.0"
  }
 },
 "nbformat": 4,
 "nbformat_minor": 2
}
