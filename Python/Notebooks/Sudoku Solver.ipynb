{
 "cells": [
  {
   "cell_type": "code",
   "execution_count": 5,
   "metadata": {},
   "outputs": [],
   "source": [
    "def block_condition(S):\n",
    "    for i in range(3):\n",
    "        for j in range(3):\n",
    "            uniques = []\n",
    "            for k in range(3):\n",
    "                for l in range(3):\n",
    "                    if S[i*3 + k][j*3 + l] in uniques and S[i*3 + k][j*3 + l] != 0:\n",
    "                        return False\n",
    "                    elif S[i*3 + k][j*3 + l] != 0:\n",
    "                        uniques.append(S[i*3 + k][j*3 + l])         \n",
    "    return True\n",
    "\n",
    "def count_uniques(a):\n",
    "    d = {x:a.count(x) for x in a}\n",
    "    for key in d.keys():\n",
    "        if key != 0:\n",
    "            if d[key] > 1:\n",
    "                return False\n",
    "    return True\n",
    "\n",
    "def row_condition(S):\n",
    "    for i in range(9):\n",
    "        a = count_uniques(S[i])\n",
    "        P = []\n",
    "        for j in range(9):\n",
    "            P.append(S[j][i])\n",
    "            \n",
    "        b = count_uniques(P)\n",
    "        if a and b:\n",
    "            None\n",
    "        else:\n",
    "            return False\n",
    "    return True\n",
    "\n",
    "def C(S):\n",
    "    if row_condition(S) == True and block_condition(S) == True:\n",
    "        return True\n",
    "    else:\n",
    "        return False\n",
    "\n",
    "def count_zeros(S):\n",
    "    count = 0\n",
    "    for i in range(9):\n",
    "        count = count + S[i].count(0)\n",
    "    return count\n",
    "\n",
    "def back_track(S, List):\n",
    "    if len(List) > 0:\n",
    "        r,t = List[-2]\n",
    "        if S[r][t] == 9:\n",
    "            S[r][t] = 0\n",
    "            return back_track(S, List[:-1])\n",
    "        else:\n",
    "            S[r][t] = S[r][t] + 1\n",
    "            if C(S) == True:\n",
    "                return S, List\n",
    "            else:\n",
    "                return back_track(S, List)\n",
    "    else:\n",
    "        return False\n",
    "            \n",
    "def upgrade(S,i,j, previous):\n",
    "    while S[i][j] < 10:\n",
    "        if C(S) == False:\n",
    "            S[i][j] = S[i][j] + 1\n",
    "        elif C(S) == True:\n",
    "            return S, previous, True\n",
    "        \n",
    "    S[i][j] = 0\n",
    "    S, previous = back_track(S, previous)\n",
    "    if S ==False:\n",
    "        return False\n",
    "    else:\n",
    "        return S, previous , False\n",
    "    \n",
    "def solve(S):\n",
    "    counter = 0\n",
    "    i=0\n",
    "    j=0\n",
    "    previous = [[-1,-1]]\n",
    "    \n",
    "    while count_zeros(S) != 0 and S != False:\n",
    "        counter = counter + 1\n",
    "        if S[i][j] == 0:\n",
    "            if previous[-1] != [i,j]:\n",
    "                previous.append([i,j])\n",
    "\n",
    "            S[i][j] = S[i][j] + 1\n",
    "            S,previous, continiue  = upgrade(S,i,j, previous)\n",
    "            i,j = previous[-1]\n",
    "            if continiue:\n",
    "                if i < 8:\n",
    "                    i = i + 1\n",
    "                elif j < 8:\n",
    "                    i = 0\n",
    "                    j = j + 1\n",
    "        else:\n",
    "            if i < 8:\n",
    "                i = i + 1\n",
    "            elif j < 8:\n",
    "                i = 0\n",
    "                j = j + 1\n",
    "                \n",
    "    print('Sudoku solved in {} iteration'.format(counter))\n",
    "    return S"
   ]
  },
  {
   "cell_type": "code",
   "execution_count": 9,
   "metadata": {},
   "outputs": [],
   "source": [
    "S = [\n",
    "    [0,0,0,0,0,0,0,0,0],\n",
    "    [0,0,0,0,0,0,0,0,0],\n",
    "    [0,0,0,0,0,0,0,0,0],\n",
    "    [0,0,0,0,0,0,0,0,0],\n",
    "    [0,0,0,0,0,0,0,0,0],\n",
    "    [0,0,0,0,0,0,0,0,0],\n",
    "    [0,0,0,0,0,0,0,0,0],\n",
    "    [0,0,0,0,0,0,0,0,0],\n",
    "    [0,0,0,0,0,0,0,0,0]\n",
    "]\n",
    "\n",
    "S = [\n",
    "    [8,0,0,0,0,0,0,0,0],\n",
    "    [0,0,3,6,0,0,0,0,0],\n",
    "    [0,7,0,0,9,0,2,0,0],\n",
    "    [0,5,0,0,0,7,0,0,0],\n",
    "    [0,0,0,0,4,5,7,0,0],\n",
    "    [0,0,0,1,0,0,0,3,0],\n",
    "    [0,0,1,0,0,0,0,6,8],\n",
    "    [0,0,8,5,0,0,0,1,0],\n",
    "    [0,9,0,0,0,0,4,0,0]\n",
    "]\n"
   ]
  },
  {
   "cell_type": "code",
   "execution_count": 10,
   "metadata": {},
   "outputs": [
    {
     "name": "stdout",
     "output_type": "stream",
     "text": [
      "Sudoku solved in 2428879 iteration\n",
      "Wall time: 14min 21s\n"
     ]
    }
   ],
   "source": [
    "%%time\n",
    "S = solve(S)"
   ]
  },
  {
   "cell_type": "code",
   "execution_count": 11,
   "metadata": {
    "scrolled": true
   },
   "outputs": [
    {
     "data": {
      "text/plain": [
       "(True,\n",
       " [[8, 1, 2, 7, 5, 3, 6, 4, 9],\n",
       "  [9, 4, 3, 6, 8, 2, 1, 7, 5],\n",
       "  [6, 7, 5, 4, 9, 1, 2, 8, 3],\n",
       "  [1, 5, 4, 2, 3, 7, 8, 9, 6],\n",
       "  [3, 6, 9, 8, 4, 5, 7, 2, 1],\n",
       "  [2, 8, 7, 1, 6, 9, 5, 3, 4],\n",
       "  [5, 2, 1, 9, 7, 4, 3, 6, 8],\n",
       "  [4, 3, 8, 5, 2, 6, 9, 1, 7],\n",
       "  [7, 9, 6, 3, 1, 8, 4, 5, 2]])"
      ]
     },
     "execution_count": 11,
     "metadata": {},
     "output_type": "execute_result"
    }
   ],
   "source": [
    "C(S), S"
   ]
  },
  {
   "cell_type": "code",
   "execution_count": null,
   "metadata": {},
   "outputs": [],
   "source": []
  },
  {
   "cell_type": "code",
   "execution_count": null,
   "metadata": {},
   "outputs": [],
   "source": []
  }
 ],
 "metadata": {
  "kernelspec": {
   "display_name": "Python 3",
   "language": "python",
   "name": "python3"
  },
  "language_info": {
   "codemirror_mode": {
    "name": "ipython",
    "version": 3
   },
   "file_extension": ".py",
   "mimetype": "text/x-python",
   "name": "python",
   "nbconvert_exporter": "python",
   "pygments_lexer": "ipython3",
   "version": "3.6.5"
  }
 },
 "nbformat": 4,
 "nbformat_minor": 2
}
