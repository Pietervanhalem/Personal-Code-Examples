{
 "cells": [
  {
   "cell_type": "code",
   "execution_count": 1,
   "metadata": {},
   "outputs": [],
   "source": [
    "import random"
   ]
  },
  {
   "cell_type": "code",
   "execution_count": 2,
   "metadata": {},
   "outputs": [],
   "source": [
    "def monty_hall(swiched, not_swiched):\n",
    "    doors =[False, False, False]\n",
    "    price = int(random.random() * 3)\n",
    "    doors[price] = True\n",
    "    \n",
    "    choice = 0\n",
    "    if doors[choice]:\n",
    "        not_swiched = not_swiched + 1\n",
    "        return swiched, not_swiched\n",
    "\n",
    "    revealed = list(set([0,1,2]) - set([price, choice]))[0]\n",
    "    new_choice = list(set([0,1,2]) - set([revealed,choice]))[0]\n",
    "    swiched = swiched + 1 if doors[new_choice] else swiched\n",
    "\n",
    "    return swiched, not_swiched"
   ]
  },
  {
   "cell_type": "code",
   "execution_count": 3,
   "metadata": {},
   "outputs": [
    {
     "name": "stdout",
     "output_type": "stream",
     "text": [
      "0.66671585 0.33328415\n",
      "Wall time: 2min 39s\n"
     ]
    }
   ],
   "source": [
    "%%time\n",
    "\n",
    "swiched = 0\n",
    "not_swiched = 0\n",
    "N = 100_000_000\n",
    "\n",
    "for i in range(N):\n",
    "    swiched, not_swiched = monty_hall(swiched, not_swiched)\n",
    "    \n",
    "print(swiched/N, not_swiched/N)"
   ]
  },
  {
   "cell_type": "code",
   "execution_count": 4,
   "metadata": {},
   "outputs": [
    {
     "name": "stdout",
     "output_type": "stream",
     "text": [
      "0.66707 0.33293\n",
      "Wall time: 1.56 s\n"
     ]
    }
   ],
   "source": [
    "%%time\n",
    "\n",
    "swiched = 0\n",
    "not_swiched = 0\n",
    "N = 1_000_000\n",
    "\n",
    "for i in range(N):\n",
    "    swiched, not_swiched = monty_hall(swiched, not_swiched)\n",
    "    \n",
    "print(swiched/N, not_swiched/N)"
   ]
  },
  {
   "cell_type": "code",
   "execution_count": 5,
   "metadata": {},
   "outputs": [
    {
     "name": "stdout",
     "output_type": "stream",
     "text": [
      "Wall time: 173 ms\n"
     ]
    }
   ],
   "source": [
    "%%time\n",
    "for i in range(N):\n",
    "    r = random.getrandbits(2)"
   ]
  },
  {
   "cell_type": "code",
   "execution_count": 6,
   "metadata": {},
   "outputs": [
    {
     "name": "stdout",
     "output_type": "stream",
     "text": [
      "Wall time: 283 ms\n"
     ]
    }
   ],
   "source": [
    "%%time\n",
    "for i in range(N):\n",
    "    r = int(random.random() * 3)"
   ]
  },
  {
   "cell_type": "code",
   "execution_count": 12,
   "metadata": {},
   "outputs": [
    {
     "name": "stdout",
     "output_type": "stream",
     "text": [
      "0.66669701 0.33330299\n",
      "Wall time: 35.4 s\n"
     ]
    }
   ],
   "source": [
    "%%time\n",
    "\n",
    "swiched = 0\n",
    "not_swiched = 0\n",
    "N = 100_000_000\n",
    "\n",
    "for i in range(N):\n",
    "    if int(random.random() * 3) < 1:\n",
    "        not_swiched += 1\n",
    "    else:\n",
    "        swiched += 1\n",
    "    \n",
    "print(swiched/N, not_swiched/N)"
   ]
  },
  {
   "cell_type": "code",
   "execution_count": null,
   "metadata": {},
   "outputs": [],
   "source": []
  }
 ],
 "metadata": {
  "kernelspec": {
   "display_name": "Python 3",
   "language": "python",
   "name": "python3"
  },
  "language_info": {
   "codemirror_mode": {
    "name": "ipython",
    "version": 3
   },
   "file_extension": ".py",
   "mimetype": "text/x-python",
   "name": "python",
   "nbconvert_exporter": "python",
   "pygments_lexer": "ipython3",
   "version": "3.7.4"
  }
 },
 "nbformat": 4,
 "nbformat_minor": 2
}
