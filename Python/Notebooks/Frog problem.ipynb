{
 "cells": [
  {
   "cell_type": "code",
   "execution_count": 1,
   "metadata": {},
   "outputs": [],
   "source": [
    "import numpy as np\n",
    "import matplotlib.pyplot as plt"
   ]
  },
  {
   "cell_type": "code",
   "execution_count": 2,
   "metadata": {},
   "outputs": [],
   "source": [
    "L = 10\n",
    "N = 1_000_000\n",
    "\n",
    "def fact(n):\n",
    "    fact = 1\n",
    "    for i in range(1,n+1): \n",
    "        fact = fact * i \n",
    "    return fact\n",
    "\n",
    "def rnd_int(L):\n",
    "    r = np.random.rand()*L\n",
    "    r = np.ceil(r)\n",
    "    return int(r)\n",
    "\n",
    "def frog(L):\n",
    "    steps = 0\n",
    "    p = 0\n",
    "    l = 10\n",
    "    while p != L:\n",
    "        l = L - p\n",
    "        p = p + rnd_int(l)\n",
    "        steps = steps + 1\n",
    "    return steps\n",
    "\n",
    "s = []\n",
    "\n",
    "for i in range(N):\n",
    "    s.append(frog(L))"
   ]
  },
  {
   "cell_type": "code",
   "execution_count": 6,
   "metadata": {},
   "outputs": [
    {
     "name": "stdout",
     "output_type": "stream",
     "text": [
      "2.92993\n"
     ]
    },
    {
     "data": {
      "image/png": "[encoded data removed]",
      "text/plain": [
       "<Figure size 432x288 with 1 Axes>"
      ]
     },
     "metadata": {},
     "output_type": "display_data"
    }
   ],
   "source": [
    "print(np.mean(s))\n",
    "plt.hist(s, density=True, bins=np.arange(1,L,1))\n",
    "plt.show()"
   ]
  },
  {
   "cell_type": "code",
   "execution_count": 7,
   "metadata": {},
   "outputs": [
    {
     "data": {
      "text/plain": [
       "2.9290436732142857"
      ]
     },
     "execution_count": 7,
     "metadata": {},
     "output_type": "execute_result"
    }
   ],
   "source": [
    "(2.9296454 + 2.9283384 + 10*2.92910138 +100* 2.929038938)/112"
   ]
  }
 ],
 "metadata": {
  "kernelspec": {
   "display_name": "Python 3",
   "language": "python",
   "name": "python3"
  },
  "language_info": {
   "codemirror_mode": {
    "name": "ipython",
    "version": 3
   },
   "file_extension": ".py",
   "mimetype": "text/x-python",
   "name": "python",
   "nbconvert_exporter": "python",
   "pygments_lexer": "ipython3",
   "version": "3.6.5"
  }
 },
 "nbformat": 4,
 "nbformat_minor": 2
}
