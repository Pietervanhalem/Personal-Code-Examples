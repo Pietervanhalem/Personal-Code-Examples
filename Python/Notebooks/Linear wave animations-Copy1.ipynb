{
 "cells": [
  {
   "cell_type": "code",
   "execution_count": 1,
   "metadata": {},
   "outputs": [],
   "source": [
    "import numpy as np\n",
    "import matplotlib.pyplot as plt\n",
    "import matplotlib.animation as animation\n",
    "%matplotlib notebook\n",
    "from matplotlib.patches import Circle"
   ]
  },
  {
   "cell_type": "code",
   "execution_count": 2,
   "metadata": {},
   "outputs": [],
   "source": [
    "a = 3\n",
    "d = 20\n",
    "k = 0.1141\n",
    "w = 1.05\n",
    "L = 56\n",
    "delta = 10\n",
    "inte =100\n",
    "c = Circle((-10,20), radius = 0.5, color='red')\n",
    "\n",
    "clist = [0,0,0,0,0,0,0,0,0]\n",
    "Alist = []\n",
    "Blist = []\n",
    "xl = np.arange(0,L,1)\n",
    "\n",
    "for i in range(int(d/delta)+1):\n",
    "    y0 = - delta*i\n",
    "    A = a * (np.cosh(k*(d + y0)))/(np.sinh(k*d))\n",
    "    B = a * (np.sinh(k*(d + y0)))/(np.sinh(k*d))\n",
    "    Alist.append(A)\n",
    "    Blist.append(B)"
   ]
  },
  {
   "cell_type": "code",
   "execution_count": 3,
   "metadata": {
    "scrolled": true
   },
   "outputs": [
    {
     "data": {
      "text/plain": [
       "<matplotlib.animation.FuncAnimation at 0x1a70e8560b8>"
      ]
     },
     "execution_count": 3,
     "metadata": {},
     "output_type": "execute_result"
    },
    {
     "data": {
      "image/png": "[encoded data removed]",
      "text/plain": [
       "<Figure size 720x216 with 1 Axes>"
      ]
     },
     "metadata": {},
     "output_type": "display_data"
    }
   ],
   "source": [
    "def update_circle(i):\n",
    "    clist = []\n",
    "    t = i*inte/1000\n",
    "    yl = a * np.sin(w*t - k* xl)\n",
    "    line.set_data([xl], [yl])\n",
    "    plt.title(t)\n",
    "    for j in range(int(L/delta) + 1):\n",
    "        for h in range(int(d/delta)+1):\n",
    "            x0 = j * delta\n",
    "            y0 = h * delta\n",
    "            x = x0 - Alist[h] * np.cos(w*t - k * x0)\n",
    "            y = y0 + Blist[h] * np.sin(w*t - k * x0)\n",
    "            clist.append(c)\n",
    "    return clist\n",
    "\n",
    "fig = plt.figure(figsize=(10,3))\n",
    "ax = plt.subplot(121, aspect = 'equal', xlim= (0, L), ylim =(-d,a+1))\n",
    "#print(clist)\n",
    "\n",
    "line, = plt.plot([], [], 'b')\n",
    "\n",
    "animation.FuncAnimation(fig, update_circle, interval=inte)\n",
    "#print(len(clist))"
   ]
  },
  {
   "cell_type": "code",
   "execution_count": 4,
   "metadata": {},
   "outputs": [
    {
     "name": "stdout",
     "output_type": "stream",
     "text": [
      "18 [<matplotlib.patches.Circle object at 0x000001A70E7E5908>, <matplotlib.patches.Circle object at 0x000001A70E7E5908>, <matplotlib.patches.Circle object at 0x000001A70E7E5908>, <matplotlib.patches.Circle object at 0x000001A70E7E5908>, <matplotlib.patches.Circle object at 0x000001A70E7E5908>, <matplotlib.patches.Circle object at 0x000001A70E7E5908>, <matplotlib.patches.Circle object at 0x000001A70E7E5908>, <matplotlib.patches.Circle object at 0x000001A70E7E5908>, <matplotlib.patches.Circle object at 0x000001A70E7E5908>, <matplotlib.patches.Circle object at 0x000001A70E7E5908>, <matplotlib.patches.Circle object at 0x000001A70E7E5908>, <matplotlib.patches.Circle object at 0x000001A70E7E5908>, <matplotlib.patches.Circle object at 0x000001A70E7E5908>, <matplotlib.patches.Circle object at 0x000001A70E7E5908>, <matplotlib.patches.Circle object at 0x000001A70E7E5908>, <matplotlib.patches.Circle object at 0x000001A70E7E5908>, <matplotlib.patches.Circle object at 0x000001A70E7E5908>, <matplotlib.patches.Circle object at 0x000001A70E7E5908>]\n",
      "18 Circle(xy=(-10, 20), radius=0.5)\n",
      "18 Circle(xy=(-10, 20), radius=0.5)\n"
     ]
    },
    {
     "data": {
      "image/png": "[encoded data removed]",
      "text/plain": [
       "<Figure size 432x288 with 1 Axes>"
      ]
     },
     "metadata": {},
     "output_type": "display_data"
    }
   ],
   "source": [
    "poep = update_circle(0)\n",
    "print(len(poep),poep)\n",
    "poep = update_circle(1)\n",
    "print(len(poep),poep[4])\n",
    "poep = update_circle(2)\n",
    "print(len(poep),poep[4])"
   ]
  },
  {
   "cell_type": "code",
   "execution_count": 5,
   "metadata": {},
   "outputs": [
    {
     "name": "stdout",
     "output_type": "stream",
     "text": [
      "[0, 0, 0, 0, 0, 0, 0, 0, 0]\n"
     ]
    }
   ],
   "source": [
    "print(clist)"
   ]
  },
  {
   "cell_type": "code",
   "execution_count": null,
   "metadata": {},
   "outputs": [],
   "source": []
  }
 ],
 "metadata": {
  "kernelspec": {
   "display_name": "Python 3",
   "language": "python",
   "name": "python3"
  },
  "language_info": {
   "codemirror_mode": {
    "name": "ipython",
    "version": 3
   },
   "file_extension": ".py",
   "mimetype": "text/x-python",
   "name": "python",
   "nbconvert_exporter": "python",
   "pygments_lexer": "ipython3",
   "version": "3.6.5"
  }
 },
 "nbformat": 4,
 "nbformat_minor": 2
}
