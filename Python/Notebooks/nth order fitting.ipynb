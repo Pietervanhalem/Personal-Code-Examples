{
 "cells": [
  {
   "cell_type": "code",
   "execution_count": 1,
   "metadata": {},
   "outputs": [],
   "source": [
    "import numpy as np\n",
    "import matplotlib.pyplot as plt\n",
    "%matplotlib inline"
   ]
  },
  {
   "cell_type": "code",
   "execution_count": 95,
   "metadata": {},
   "outputs": [],
   "source": [
    "def fit(points,x):\n",
    "    N = len(points)\n",
    "    A = np.zeros([N,N])\n",
    "    for i in range(N):\n",
    "        A[:,i] = x **(N - 1 -i) \n",
    "    A_inv = np.linalg.inv(A)\n",
    "    BB = np.dot(A_inv,point)\n",
    "    \n",
    "    xx = np.arange(0, np.max(x)+5, 0.1)\n",
    "    yy = 0*xx\n",
    "    for i in range(N):\n",
    "        yy = yy + BB[i] * xx** (N - 1 -i)\n",
    "    plt.plot(xx,yy,'k',\n",
    "            x,points,'mx');\n",
    "    plt.ylim(-3,3)\n",
    "    \n",
    "    return BB"
   ]
  },
  {
   "cell_type": "code",
   "execution_count": 103,
   "metadata": {},
   "outputs": [
    {
     "data": {
      "image/png": "[encoded data removed]",
      "text/plain": [
       "<Figure size 432x288 with 1 Axes>"
      ]
     },
     "metadata": {},
     "output_type": "display_data"
    }
   ],
   "source": [
    "N  = 6\n",
    "x =  np.arange(N) **2\n",
    "point =  np.random.rand(N)\n",
    "BB = fit(point, x)"
   ]
  },
  {
   "cell_type": "code",
   "execution_count": null,
   "metadata": {},
   "outputs": [],
   "source": []
  },
  {
   "cell_type": "code",
   "execution_count": null,
   "metadata": {},
   "outputs": [],
   "source": []
  },
  {
   "cell_type": "code",
   "execution_count": null,
   "metadata": {},
   "outputs": [],
   "source": []
  }
 ],
 "metadata": {
  "kernelspec": {
   "display_name": "Python 3",
   "language": "python",
   "name": "python3"
  },
  "language_info": {
   "codemirror_mode": {
    "name": "ipython",
    "version": 3
   },
   "file_extension": ".py",
   "mimetype": "text/x-python",
   "name": "python",
   "nbconvert_exporter": "python",
   "pygments_lexer": "ipython3",
   "version": "3.6.5"
  }
 },
 "nbformat": 4,
 "nbformat_minor": 2
}
