{
 "cells": [
  {
   "cell_type": "code",
   "execution_count": 1,
   "metadata": {},
   "outputs": [],
   "source": [
    "import numpy as np\n",
    "from halem.particle_tracking import *"
   ]
  },
  {
   "cell_type": "code",
   "execution_count": 14,
   "metadata": {},
   "outputs": [],
   "source": [
    "def test_particletracking():\n",
    "    class flow():\n",
    "        def __init__(self, N = 100):\n",
    "            x = np.linspace(0,0.1,N)\n",
    "            y = np.linspace(0,0.1,N)\n",
    "            t = np.linspace(0,10, 1000)*362\n",
    "            yy,tt, xx = np.meshgrid(y,t, x)\n",
    "            y, x = np.meshgrid(y, x)\n",
    "\n",
    "            u = np.cos(np.pi*xx*100)\n",
    "            v = -np.cos(np.pi*yy*100)\n",
    "\n",
    "            self.x = x\n",
    "            self.y = y\n",
    "            self.t = t\n",
    "            self.u = u\n",
    "            self.v = v\n",
    "\n",
    "    f = flow()\n",
    "    x0 = 0.003\n",
    "    y0 = 0.003\n",
    "    T = f.t\n",
    "    pt = particle_tracking(f)\n",
    "    RK4 = pt.RK4(x0,y0,T)\n",
    "    T = np.linspace(0,10, 1000)*242\n",
    "    EF = pt.EF(x0,y0,T)\n",
    "    assert(EF[0][0] - EF[0][-1]) < EF[0][0] * 0.01\n",
    "    assert(RK4[0][0] - RK4[0][-1]) < RK4[0][0] * 0.01\n",
    "    \n",
    "    \n",
    "def test_time_out_of_range():\n",
    "    class flow():\n",
    "        def __init__(self, N = 100):\n",
    "            x = np.linspace(0,0.1,N)\n",
    "            y = np.linspace(0,0.1,N)\n",
    "            t = np.linspace(0,10, 1000)*362\n",
    "            yy,tt, xx = np.meshgrid(y,t, x)\n",
    "            y, x = np.meshgrid(y, x)\n",
    "\n",
    "            u = np.cos(np.pi*xx*100)\n",
    "            v = -np.cos(np.pi*yy*100)\n",
    "\n",
    "            self.x = x\n",
    "            self.y = y\n",
    "            self.t = t\n",
    "            self.u = u\n",
    "            self.v = v\n",
    "\n",
    "    f = flow()\n",
    "    x0 = 0.003\n",
    "    y0 = 0.003\n",
    "    T = f.t + 10000\n",
    "    pt = particle_tracking(f)\n",
    "    RK4 = pt.RK4(x0,y0,T)\n",
    "    EF = pt.EF(x0,y0,T)\n",
    "    assert len(EF[0]) == 1\n",
    "    assert len(RK4[0]) == 1\n",
    "    assert len(EF[1]) == 1\n",
    "    assert len(RK4[1]) == 1\n"
   ]
  },
  {
   "cell_type": "code",
   "execution_count": 15,
   "metadata": {},
   "outputs": [
    {
     "name": "stdout",
     "output_type": "stream",
     "text": [
      "time out of range of the hydrodynamic model\n",
      "time out of range of the hydrodynamic model\n",
      "passed all test\n"
     ]
    }
   ],
   "source": [
    "test_particletracking()\n",
    "test_time_out_of_range()\n",
    "print('passed all test')"
   ]
  }
 ],
 "metadata": {
  "kernelspec": {
   "display_name": "Python 3",
   "language": "python",
   "name": "python3"
  },
  "language_info": {
   "codemirror_mode": {
    "name": "ipython",
    "version": 3
   },
   "file_extension": ".py",
   "mimetype": "text/x-python",
   "name": "python",
   "nbconvert_exporter": "python",
   "pygments_lexer": "ipython3",
   "version": "3.6.5"
  }
 },
 "nbformat": 4,
 "nbformat_minor": 2
}
