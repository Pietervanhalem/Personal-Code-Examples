{
 "cells": [
  {
   "cell_type": "code",
   "execution_count": 1,
   "metadata": {},
   "outputs": [],
   "source": [
    "import numpy as np\n",
    "from pyproj import Proj, transform\n",
    "from scipy.interpolate import griddata\n",
    "p1 = Proj(\"+proj=sterea +lat_0=52.15616055555555 +lon_0=5.38763888888889 +k=0.9999079 +x_0=155000 +y_0=463000 +ellps=bessel +towgs84=565.237,50.0087,465.658,-0.406857,0.350733,-1.87035,4.0812 +units=m +no_defs\")\n",
    "p2 = Proj(proj='latlong',datum='WGS84')\n",
    "\n",
    "import matplotlib.pyplot as plt\n",
    "plt.style.use('ggplot')\n",
    "% matplotlib notebook\n",
    "import os\n",
    "from cartopy import config\n",
    "import cartopy.crs as ccrs\n",
    "import cartopy.feature as cfeature\n",
    "\n",
    "from netCDF4 import Dataset, num2date\n"
   ]
  },
  {
   "cell_type": "code",
   "execution_count": 2,
   "metadata": {},
   "outputs": [],
   "source": [
    "directory  = 'D:/Use_case_Schouwen/'\n",
    "name_baty  = 'suppletie 5_1.XYZ'\n",
    "name_baty2 = 'suppletie 5_2.XYZ'\n",
    "\n",
    "nodes = np.loadtxt('D:/Use_case_Schouwen/tidal_an/nodes.csv')"
   ]
  },
  {
   "cell_type": "code",
   "execution_count": 3,
   "metadata": {},
   "outputs": [],
   "source": [
    "coords_RD1 = np.loadtxt(directory + name_baty, dtype= float)\n",
    "coords_RD2 = np.loadtxt(directory + name_baty2, skiprows=1, dtype= float)\n",
    "coords_RD = np.concatenate((coords_RD1, coords_RD2))\n",
    "coords_RD[:,2] = coords_RD[:,2] / 100"
   ]
  },
  {
   "cell_type": "code",
   "execution_count": 4,
   "metadata": {},
   "outputs": [],
   "source": [
    "coords_WGS = []\n",
    "for C in coords_RD:\n",
    "    lon, lat, z = transform(p1, p2, C[0], C[1], C[2])\n",
    "    coords_WGS.append([lon, lat, z])\n",
    "    \n",
    "coords_WGS = np.array(coords_WGS)\n",
    "coords_WGS[:,2] = coords_RD[:,2]\n",
    "\n",
    "# nc = Dataset('D:/DCSMv6-ZUNOv4/E5_2018.dtm') # source https://maps.ngdc.noaa.gov/viewers/bathymetry/\n",
    "# A = 0\n",
    "# B = 300\n",
    "# C = -900\n",
    "# D = -600\n",
    "\n",
    "# lon = nc.variables['COLUMNS'][A:B]\n",
    "# lat = nc.variables['LINES'][C:D]\n",
    "# lon, lat = np.meshgrid(lon, lat)\n",
    "# bat = nc.variables['DEPTH_SMOOTH'][C:D,A:B]\n",
    "\n",
    "# lon2 = lon.reshape(lon.size)\n",
    "# lat2 = lat.reshape(lon.size)\n",
    "# bat2 = bat.reshape(lon.size)\n",
    "\n",
    "# extra_pnts  = np.zeros((lon2.shape[0],3))\n",
    "# extra_pnts[:,0] = lon2 \n",
    "# extra_pnts[:,1] = lat2 \n",
    "# extra_pnts[:,2] = bat2 \n",
    "\n",
    "# coords_WGS = np.concatenate((coords_WGS, extra_pnts))"
   ]
  },
  {
   "cell_type": "code",
   "execution_count": 5,
   "metadata": {},
   "outputs": [],
   "source": [
    "class LineBuilder: \n",
    "    def __init__(self, line):\n",
    "        self.line = line\n",
    "        self.xs = []\n",
    "        self.ys = []\n",
    "        self.cid = line.figure.canvas.mpl_connect('button_press_event', self)\n",
    "        self.nodes = []\n",
    "\n",
    "    def __call__(self, event):\n",
    "        print('click', event)\n",
    "        if event.inaxes!=self.line.axes: return\n",
    "        self.xs.append(event.xdata)\n",
    "        self.ys.append(event.ydata)\n",
    "        self.line.set_data(self.xs, self.ys)\n",
    "        self.line.figure.canvas.draw()\n",
    "        self.nodes.append((event.xdata, event.ydata))\n",
    "        \n",
    "        \n",
    "D_emp = 4.0\n",
    "D_full = 5.0\n",
    "ukc = 1.0\n",
    "tide = -1.5\n",
    "\n",
    "N = 300\n",
    "start = [3.676014309976414,51.71540093282213]\n",
    "stop = [3.522637481591586,51.76880095558772]\n",
    "\n",
    "x_r = np.arange(3.66,3.72, (-3.66+3.72)/N)\n",
    "y_r = np.arange(51.66,51.71, (-51.66+51.71)/N)\n",
    "y_r, x_r = np.meshgrid(y_r,x_r)\n",
    "\n",
    "WD_r = tide -  griddata(coords_WGS[:,:2], coords_WGS[:,2], (x_r, y_r), method= 'linear')"
   ]
  },
  {
   "cell_type": "markdown",
   "metadata": {},
   "source": [
    "% matplotlib notebook\n",
    "\n",
    "fig = plt.figure(figsize=(15, 30))\n",
    "ax = plt.subplot(projection=ccrs.PlateCarree())\n",
    "\n",
    "cval = [-1000,D_emp +ukc, D_full+ukc, 100]\n",
    "im = plt.contourf(x_r,y_r,WD_r,cval,transform=ccrs.PlateCarree(), colors = ('sandybrown', 'cornflowerblue', 'darkblue'))\n",
    "fig.colorbar(im, ax=ax, label = 'Waterdepth in meters')\n",
    "\n",
    "cval2 = [D_emp+ukc, D_full+ukc]\n",
    "plt.contour(x_r,y_r,WD_r,cval2,transform=ccrs.PlateCarree(), colors = 'black')\n",
    "\n",
    "ax.coastlines(resolution='10m', color='black', linewidth=3)\n",
    "ax.gridlines(color = 'grey', zorder = 3)\n",
    "\n",
    "# plt.plot(coords_WGS[:,0], coords_WGS[:,1], 'r.',markersize = 0.2,transform=ccrs.PlateCarree())\n",
    "plt.plot(nodes[:,1], nodes[:,0], 'r.',transform=ccrs.PlateCarree())\n",
    "plt.plot(start[0], start[1],'mo',transform=ccrs.PlateCarree())\n",
    "plt.plot(stop[0], stop[1], 'mo',transform=ccrs.PlateCarree() )\n",
    "plt.plot(3.67074012, 51.70969009,'ro', transform=ccrs.PlateCarree())\n",
    "ax.set_extent([3.66,3.72,51.66,51.71])\n",
    "\n",
    "\n",
    "line, = plt.plot([], [], 'b')\n",
    "points, = plt.plot([],[], 'ro')\n",
    "linebuilder = LineBuilder(line)\n",
    "pointbuilder = LineBuilder(points)\n",
    "\n",
    "\n",
    "plt.show()\n",
    "\n",
    "# add_nodes = linebuilder.nodes"
   ]
  },
  {
   "cell_type": "code",
   "execution_count": 13,
   "metadata": {},
   "outputs": [],
   "source": [
    "np.savetxt('additional_nodes.csv', add_nodes)"
   ]
  },
  {
   "cell_type": "code",
   "execution_count": null,
   "metadata": {},
   "outputs": [],
   "source": []
  }
 ],
 "metadata": {
  "kernelspec": {
   "display_name": "Python 3",
   "language": "python",
   "name": "python3"
  },
  "language_info": {
   "codemirror_mode": {
    "name": "ipython",
    "version": 3
   },
   "file_extension": ".py",
   "mimetype": "text/x-python",
   "name": "python",
   "nbconvert_exporter": "python",
   "pygments_lexer": "ipython3",
   "version": "3.6.5"
  }
 },
 "nbformat": 4,
 "nbformat_minor": 2
}
