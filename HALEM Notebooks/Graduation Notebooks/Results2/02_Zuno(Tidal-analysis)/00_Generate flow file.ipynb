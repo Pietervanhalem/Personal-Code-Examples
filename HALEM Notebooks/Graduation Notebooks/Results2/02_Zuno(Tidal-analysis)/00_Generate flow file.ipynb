{
 "cells": [
  {
   "cell_type": "code",
   "execution_count": 2,
   "metadata": {},
   "outputs": [],
   "source": [
    "from collections import defaultdict\n",
    "import math\n",
    "import numpy as np\n",
    "from numpy import ma\n",
    "import datetime, time\n",
    "from datetime import datetime\n",
    "import netCDF4\n",
    "from netCDF4 import Dataset, num2date\n",
    "from scipy.interpolate import griddata\n",
    "\n",
    "import matplotlib.pyplot as plt\n",
    "plt.style.use('ggplot')\n",
    "% matplotlib inline\n",
    "\n",
    "import pickle\n",
    "import halem\n",
    "import datetime, time\n",
    "import numpy as np\n",
    "timeQ = time\n",
    "\n",
    "\"disable functions below if cartopy is unavailable\"\n",
    "from cartopy import config\n",
    "import cartopy.crs as ccrs\n",
    "import cartopy.feature as cfeature\n",
    "\n",
    "import halem\n",
    "import halem.Mesh_maker as Mesh_maker\n",
    "import halem.Flow_class as Flow_class\n",
    "import flow_class\n",
    "import os\n",
    "from pandas import DataFrame\n",
    "\n",
    "from IPython.display import clear_output"
   ]
  },
  {
   "cell_type": "markdown",
   "metadata": {},
   "source": [
    "# Create list with names of the netCDF files in the directory"
   ]
  },
  {
   "cell_type": "code",
   "execution_count": 2,
   "metadata": {},
   "outputs": [],
   "source": [
    "number_downloads = 140\n",
    "directory = 'D:/Tidal_ananlysis_data/'\n",
    "source = 'dcsmv6_zunov4_zuno_kf_hirlam'\n",
    "\n",
    "t0 = '08/05/2018 06:00:00'\n",
    "t1 = '08/05/2018 00:00:00'\n",
    "t2 = '08/05/2018 05:50:00'\n",
    "\n",
    "t0 = datetime.datetime.strptime(t0, \"%d/%m/%Y %H:%M:%S\").timestamp()\n",
    "t1 = datetime.datetime.strptime(t1, \"%d/%m/%Y %H:%M:%S\").timestamp()\n",
    "t2 = datetime.datetime.strptime(t2, \"%d/%m/%Y %H:%M:%S\").timestamp()\n",
    "\n",
    "now = '201905140000'\n",
    "urls = []\n",
    "names = []\n",
    "\n",
    "for i in range(number_downloads):\n",
    "    ana = datetime.datetime.fromtimestamp(t0+i*60*60*6).strftime('%Y%m%d%H%M')\n",
    "    fro = datetime.datetime.fromtimestamp(t1+i*60*60*6).strftime('%Y%m%d%H%M')\n",
    "    to = datetime.datetime.fromtimestamp(t2+i*60*60*6).strftime('%Y%m%d%H%M')\n",
    "    \n",
    "    url = 'http://matroos.rws.nl:80//matroos/scripts/matroos.pl?source={}&anal={}&z=0&xmin=-4.300000&xmax=9.600000&ymin=49.200001&ymax=57.200001&coords=WGS84&xmin_abs=-4.3000001907349&xmax_abs=9.6000003814697&ymin_abs=49.200000762939&ymax_abs=57.200000762939&color=VELU,VELV,SEP&interpolate=&now={}&to={}2350&from={}&outputformat=nc&stridex=1&stridey=1&stridetime=1&xn=&yn=&celly=&cellx=&fieldoutput=VELU,VELV,SEP&format=nc'.format(source, ana, now, to, fro)\n",
    "    urls.append(url)\n",
    "    names.append(ana)\n",
    "    \n",
    "del names[95]\n",
    "del urls[95]"
   ]
  },
  {
   "cell_type": "markdown",
   "metadata": {},
   "source": [
    "# create function that extrcacts d,u,v from netCDF file"
   ]
  },
  {
   "cell_type": "code",
   "execution_count": 3,
   "metadata": {},
   "outputs": [],
   "source": [
    "def flow_func(name):\n",
    "    nc = Dataset(directory +name+'.nc')\n",
    "\n",
    "    x_domain = (300,-260)\n",
    "    y_domain = (-450,-370)\n",
    "\n",
    "    x = nc.variables['x'][:,:]\n",
    "    y = nc.variables['y'][:,:]\n",
    "    x = x[x_domain[0]:x_domain[1], y_domain[0]:y_domain[1]]\n",
    "    y = y[x_domain[0]:x_domain[1], y_domain[0]:y_domain[1]]\n",
    "\n",
    "    x_temp = ma.array(x.reshape(x.size))\n",
    "    y_temp = ma.array(y.reshape(x.size))\n",
    "\n",
    "    nodes = np.zeros((y_temp[y_temp.mask == False].size,2))\n",
    "    nodes[:,0] = y_temp[y_temp.mask == False]\n",
    "    nodes[:,1] = x_temp[y_temp.mask == False]\n",
    "\n",
    "    t = nc.variables['time'][:]\n",
    "    t = t *60 - 60*60*2\n",
    "\n",
    "    d = nc.variables['SEP'][:,:,:]\n",
    "    d = d[:,x_domain[0]:x_domain[1], y_domain[0]:y_domain[1]]\n",
    "\n",
    "    u = nc.variables['VELU'][:,:,:]\n",
    "    u = u[:,x_domain[0]:x_domain[1], y_domain[0]:y_domain[1]]\n",
    "\n",
    "    v = nc.variables['VELV'][:,:,:]\n",
    "    v = v[:,x_domain[0]:x_domain[1], y_domain[0]:y_domain[1]]\n",
    "\n",
    "\n",
    "    u_n = []\n",
    "    v_n = []\n",
    "    d_n = []\n",
    "\n",
    "    for node in nodes:\n",
    "        xloc = np.argwhere(x == node[1])[0,1]\n",
    "        yloc = np.argwhere(y == node[0])[0,0]\n",
    "        u_n.append(u[:,yloc,xloc])\n",
    "        v_n.append(v[:,yloc,xloc])\n",
    "        d_n.append(d[:,yloc,xloc])\n",
    "\n",
    "    d_n = np.array(d_n)\n",
    "    d_n[d_n < -600] = 0\n",
    "    v_n = np.array(v_n)\n",
    "    v_n[v_n < -600] = 0\n",
    "    u_n = np.array(u_n)\n",
    "    u_n[u_n < -600] = 0\n",
    "\n",
    "    d = np.transpose(d_n)\n",
    "    v = np.transpose(v_n)\n",
    "    u = np.transpose(u_n)\n",
    "    \n",
    "    return nodes, d, v, u, t"
   ]
  },
  {
   "cell_type": "markdown",
   "metadata": {},
   "source": [
    "# Load the flow for each file in the directory "
   ]
  },
  {
   "cell_type": "code",
   "execution_count": 4,
   "metadata": {},
   "outputs": [
    {
     "name": "stdout",
     "output_type": "stream",
     "text": [
      "100.0 %\n",
      "the computational time is: 1164.27 sec\n"
     ]
    }
   ],
   "source": [
    "start_time = time.time()\n",
    "\n",
    "nodes, d, u, v, t = flow_func(names[0])\n",
    "\n",
    "for i in range(1,len(names)):\n",
    "    _, d_temp, u_temp, v_temp, t_temp = flow_func(names[i])\n",
    "    d = np.concatenate((d, d_temp))\n",
    "    u = np.concatenate((u, u_temp))\n",
    "    v = np.concatenate((v, v_temp))\n",
    "    t = np.concatenate((t, t_temp))\n",
    "    \n",
    "    clear_output(wait = True)\n",
    "    print((i+1)/len(names) * 100, '%')\n",
    "    \n",
    "stop_time = time.time()\n",
    "computation_time = stop_time - start_time\n",
    "print(\"the computational time is:\", round(computation_time,2), \"sec\")"
   ]
  },
  {
   "cell_type": "code",
   "execution_count": 5,
   "metadata": {},
   "outputs": [],
   "source": [
    "np.savetxt('D:/Use_case_Schouwen/tidal_an/nodes.csv', nodes)\n",
    "np.savetxt('D:/Use_case_Schouwen/tidal_an/t.csv', t)\n",
    "np.savetxt('D:/Use_case_Schouwen/tidal_an/d.csv', d)\n",
    "np.savetxt('D:/Use_case_Schouwen/tidal_an/u.csv', u)\n",
    "np.savetxt('D:/Use_case_Schouwen/tidal_an/v.csv', v)"
   ]
  },
  {
   "cell_type": "code",
   "execution_count": 36,
   "metadata": {},
   "outputs": [],
   "source": [
    "name = names[0]\n",
    "nc = Dataset(directory +name+'.nc')\n",
    "\n",
    "x_domain = (300,-260)\n",
    "y_domain = (-450,-370)\n",
    "\n",
    "x = nc.variables['x'][:,:]\n",
    "y = nc.variables['y'][:,:]\n",
    "x = x[x_domain[0]:x_domain[1], y_domain[0]:y_domain[1]]\n",
    "y = y[x_domain[0]:x_domain[1], y_domain[0]:y_domain[1]]\n",
    "\n",
    "\n",
    "d = nc.variables['SEP'][:,:,:]\n",
    "d = d[:,x_domain[0]:x_domain[1], y_domain[0]:y_domain[1]]"
   ]
  },
  {
   "cell_type": "code",
   "execution_count": 37,
   "metadata": {},
   "outputs": [
    {
     "data": {
      "text/plain": [
       "(51.55, 52)"
      ]
     },
     "execution_count": 37,
     "metadata": {},
     "output_type": "execute_result"
    },
    {
     "data": {
      "image/png": "[encoded data removed]",
      "text/plain": [
       "<Figure size 432x288 with 1 Axes>"
      ]
     },
     "metadata": {},
     "output_type": "display_data"
    }
   ],
   "source": [
    "plt.contourf(x,y,d[0])\n",
    "start = [3.676014309976414,51.71540093282213]\n",
    "stop = [3.522637481591586,51.76880095558772]\n",
    "\n",
    "plt.plot(start[0], start[1],'mo')\n",
    "plt.plot(stop[0], stop[1], 'mo')\n",
    "\n",
    "plt.xlim(0,5)\n",
    "plt.ylim(50,55)\n",
    "\n",
    "plt.xlim(3.25,3.9)\n",
    "plt.ylim(51.55,52)"
   ]
  }
 ],
 "metadata": {
  "kernelspec": {
   "display_name": "Python 3",
   "language": "python",
   "name": "python3"
  },
  "language_info": {
   "codemirror_mode": {
    "name": "ipython",
    "version": 3
   },
   "file_extension": ".py",
   "mimetype": "text/x-python",
   "name": "python",
   "nbconvert_exporter": "python",
   "pygments_lexer": "ipython3",
   "version": "3.6.5"
  }
 },
 "nbformat": 4,
 "nbformat_minor": 2
}
