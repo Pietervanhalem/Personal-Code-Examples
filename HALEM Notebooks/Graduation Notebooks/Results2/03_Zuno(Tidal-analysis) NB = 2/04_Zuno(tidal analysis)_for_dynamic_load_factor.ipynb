{
 "cells": [
  {
   "cell_type": "markdown",
   "metadata": {},
   "source": [
    "# Use case Schouwen Westkop Noord"
   ]
  },
  {
   "cell_type": "markdown",
   "metadata": {},
   "source": [
    "## 1. Import functionality"
   ]
  },
  {
   "cell_type": "code",
   "execution_count": 1,
   "metadata": {},
   "outputs": [],
   "source": [
    "from functions import *"
   ]
  },
  {
   "cell_type": "markdown",
   "metadata": {},
   "source": [
    "## 3. User defined values"
   ]
  },
  {
   "cell_type": "code",
   "execution_count": 2,
   "metadata": {},
   "outputs": [
    {
     "data": {
      "text/plain": [
       "array([0. , 0.5, 0.6, 0.7, 0.8, 0.9, 1. ])"
      ]
     },
     "execution_count": 2,
     "metadata": {},
     "output_type": "execute_result"
    }
   ],
   "source": [
    "load_factor =np.array([0,0.5,0.6,0.7,0.8,0.9,1])      # Roadmap11\n",
    "\n",
    "start = [3.67670012, 51.70969009]                     # Location of the koppelpunt                             (lon, lat)\n",
    "stop = [3.522637481591586,51.76880095558772]          # Location of the dredging area                          (lon, lat)\n",
    "Volume = 200_000                                       # Total volume to be dregded                             (m^3)\n",
    "\n",
    "\n",
    "unloading_rate = 1.5\n",
    "loading_rate = 1.5\n",
    "ukc = 1.0                                             # Under Keel clearance                                   (m)\n",
    "WWL = 20                                              # Width on Water Line                                    (m)\n",
    "LWL = 80                                              # Length on Water Line                                   (m)\n",
    "hopper_capacity = 4000                                # Maximal capacity of the hopper                         (m^3)\n",
    "V_full = 10*0.514444444                               # Velocity in deep water when maximal loaded             (m/s)\n",
    "V_emp = 12*0.514444444                                # Maximal sailing velocity empty in deep water           (m/s)\n",
    "T_full = 6.5                                           # Draft when maximal Loaded                              (m)\n",
    "T_emp = 3.5                                            # Draft When empty                                       (m)\n",
    "WVPI_full = 10000                                     # Weight when maximal loaded                             (tf)\n",
    "WVPI_empt = 4000                                      # Weight empty (tf)\n",
    "\n",
    "Q_cost = compute_cost(700_000, 0.008)                 # Cost function for route optimizer                      ($)\n",
    "Q_co2 = compute_co2(1)                                # Cost function for route optimizer                      (g CO2)\n",
    "Q_velo = compute_v_provider(V_emp, V_full)            # Vessel velocity is dependent on load factor\n",
    "\n",
    "\n",
    "service_hours = 168                                   # hours per week\n",
    "delay_for_bunkering = 10                              # hours per week\n",
    "technical_delay = 10                                  # hours per week\n",
    "project_related_delay = 3                             # hours per week\n",
    "\n",
    "load_factor"
   ]
  },
  {
   "cell_type": "markdown",
   "metadata": {},
   "source": [
    "## 4. Digital-twin simulation"
   ]
  },
  {
   "cell_type": "code",
   "execution_count": 3,
   "metadata": {
    "scrolled": false
   },
   "outputs": [
    {
     "name": "stdout",
     "output_type": "stream",
     "text": [
      "42.86 %\n"
     ]
    },
    {
     "ename": "KeyboardInterrupt",
     "evalue": "",
     "output_type": "error",
     "traceback": [
      "\u001b[1;31m---------------------------------------------------------------------------\u001b[0m",
      "\u001b[1;31mKeyboardInterrupt\u001b[0m                         Traceback (most recent call last)",
      "\u001b[1;32m<ipython-input-3-3f39ae133e50>\u001b[0m in \u001b[0;36m<module>\u001b[1;34m()\u001b[0m\n\u001b[0;32m     29\u001b[0m                                         \u001b[0mrepeat\u001b[0m \u001b[1;33m=\u001b[0m \u001b[1;32mTrue\u001b[0m\u001b[1;33m,\u001b[0m\u001b[1;33m\u001b[0m\u001b[0m\n\u001b[0;32m     30\u001b[0m                                         \u001b[0mnodes_index\u001b[0m \u001b[1;33m=\u001b[0m \u001b[0mnp\u001b[0m\u001b[1;33m.\u001b[0m\u001b[0marange\u001b[0m\u001b[1;33m(\u001b[0m\u001b[1;36m5287\u001b[0m\u001b[1;33m)\u001b[0m\u001b[1;33m,\u001b[0m\u001b[1;33m\u001b[0m\u001b[0m\n\u001b[1;32m---> 31\u001b[1;33m                                         \u001b[0moptimization_type\u001b[0m\u001b[1;33m=\u001b[0m\u001b[1;33m[\u001b[0m\u001b[1;34m'time'\u001b[0m\u001b[1;33m]\u001b[0m\u001b[1;33m\u001b[0m\u001b[0m\n\u001b[0m\u001b[0;32m     32\u001b[0m                                        )\n\u001b[0;32m     33\u001b[0m \u001b[1;33m\u001b[0m\u001b[0m\n",
      "\u001b[1;32mc:\\users\\d4l\\onedrive - van oord\\documents\\route_optimization_in_dynamic_currents\\halem\\Mesh_maker.py\u001b[0m in \u001b[0;36m__init__\u001b[1;34m(self, name_textfile_flow, dx_min, blend, nl, number_of_neighbor_layers, vship, Load_flow, WD_min, WVPI, compute_cost, compute_co2, WWL, LWL, ukc, nodes_on_land, repeat, optimization_type, nodes_index)\u001b[0m\n\u001b[0;32m    126\u001b[0m                             \u001b[0mto_node\u001b[0m \u001b[1;33m=\u001b[0m \u001b[0medge\u001b[0m\u001b[1;33m[\u001b[0m\u001b[1;36m1\u001b[0m\u001b[1;33m]\u001b[0m\u001b[1;33m\u001b[0m\u001b[0m\n\u001b[0;32m    127\u001b[0m \u001b[1;33m\u001b[0m\u001b[0m\n\u001b[1;32m--> 128\u001b[1;33m                             \u001b[0mL\u001b[0m\u001b[1;33m,\u001b[0m \u001b[0mW\u001b[0m\u001b[1;33m,\u001b[0m \u001b[0meuros\u001b[0m\u001b[1;33m,\u001b[0m \u001b[0mco2\u001b[0m \u001b[1;33m=\u001b[0m \u001b[0mcalc_weights\u001b[0m\u001b[1;33m(\u001b[0m\u001b[0medge\u001b[0m\u001b[1;33m,\u001b[0m \u001b[0mi\u001b[0m\u001b[1;33m,\u001b[0m \u001b[0mj\u001b[0m\u001b[1;33m,\u001b[0m  \u001b[0mvship\u001b[0m\u001b[1;33m,\u001b[0m \u001b[0mWD_min\u001b[0m\u001b[1;33m,\u001b[0m \u001b[0mWVPI\u001b[0m\u001b[1;33m,\u001b[0m \u001b[0mself\u001b[0m\u001b[1;33m,\u001b[0m \u001b[0mcompute_cost\u001b[0m\u001b[1;33m,\u001b[0m \u001b[0mcompute_co2\u001b[0m\u001b[1;33m,\u001b[0m \u001b[0mnumber_of_neighbor_layers\u001b[0m\u001b[1;33m)\u001b[0m\u001b[1;33m\u001b[0m\u001b[0m\n\u001b[0m\u001b[0;32m    129\u001b[0m \u001b[1;33m\u001b[0m\u001b[0m\n\u001b[0;32m    130\u001b[0m                             \u001b[0mgraph_time\u001b[0m\u001b[1;33m.\u001b[0m\u001b[0madd_edge\u001b[0m\u001b[1;33m(\u001b[0m\u001b[1;33m(\u001b[0m\u001b[0mfrom_node\u001b[0m\u001b[1;33m,\u001b[0m \u001b[0mi\u001b[0m\u001b[1;33m)\u001b[0m\u001b[1;33m,\u001b[0m \u001b[1;33m(\u001b[0m\u001b[0mto_node\u001b[0m\u001b[1;33m,\u001b[0m \u001b[0mj\u001b[0m\u001b[1;33m)\u001b[0m\u001b[1;33m,\u001b[0m \u001b[0mW\u001b[0m\u001b[1;33m)\u001b[0m\u001b[1;33m\u001b[0m\u001b[0m\n",
      "\u001b[1;32mc:\\users\\d4l\\onedrive - van oord\\documents\\route_optimization_in_dynamic_currents\\halem\\Mesh_maker.py\u001b[0m in \u001b[0;36mcalc_weights_time\u001b[1;34m(edge, i, j, vship, WD_min, WVPI, self_f, compute_cost, compute_co2, number_of_neighbor_layers)\u001b[0m\n\u001b[0;32m    167\u001b[0m \u001b[1;32mdef\u001b[0m \u001b[0mcalc_weights_time\u001b[0m\u001b[1;33m(\u001b[0m\u001b[0medge\u001b[0m\u001b[1;33m,\u001b[0m \u001b[0mi\u001b[0m\u001b[1;33m,\u001b[0m \u001b[0mj\u001b[0m\u001b[1;33m,\u001b[0m  \u001b[0mvship\u001b[0m\u001b[1;33m,\u001b[0m \u001b[0mWD_min\u001b[0m\u001b[1;33m,\u001b[0m \u001b[0mWVPI\u001b[0m\u001b[1;33m,\u001b[0m \u001b[0mself_f\u001b[0m\u001b[1;33m,\u001b[0m \u001b[0mcompute_cost\u001b[0m\u001b[1;33m,\u001b[0m \u001b[0mcompute_co2\u001b[0m\u001b[1;33m,\u001b[0m \u001b[0mnumber_of_neighbor_layers\u001b[0m\u001b[1;33m)\u001b[0m\u001b[1;33m:\u001b[0m\u001b[1;33m\u001b[0m\u001b[0m\n\u001b[0;32m    168\u001b[0m     \u001b[0mfrom_node\u001b[0m \u001b[1;33m=\u001b[0m \u001b[0medge\u001b[0m\u001b[1;33m[\u001b[0m\u001b[1;36m0\u001b[0m\u001b[1;33m]\u001b[0m\u001b[1;33m\u001b[0m\u001b[0m\n\u001b[1;32m--> 169\u001b[1;33m     \u001b[0mW\u001b[0m \u001b[1;33m=\u001b[0m \u001b[0mFunctions\u001b[0m\u001b[1;33m.\u001b[0m\u001b[0mcostfunction_timeseries\u001b[0m\u001b[1;33m(\u001b[0m\u001b[0medge\u001b[0m\u001b[1;33m,\u001b[0m \u001b[0mvship\u001b[0m\u001b[1;33m[\u001b[0m\u001b[0mj\u001b[0m\u001b[1;33m]\u001b[0m\u001b[1;33m,\u001b[0m\u001b[0mWD_min\u001b[0m\u001b[1;33m,\u001b[0m \u001b[0mself_f\u001b[0m\u001b[1;33m,\u001b[0m \u001b[0mWVPI\u001b[0m\u001b[1;33m,\u001b[0m \u001b[0mnumber_of_neighbor_layers\u001b[0m\u001b[1;33m,\u001b[0m \u001b[0mself_f\u001b[0m\u001b[1;33m.\u001b[0m\u001b[0mtria\u001b[0m\u001b[1;33m)\u001b[0m \u001b[1;33m+\u001b[0m \u001b[0mself_f\u001b[0m\u001b[1;33m.\u001b[0m\u001b[0mt\u001b[0m\u001b[1;33m\u001b[0m\u001b[0m\n\u001b[0m\u001b[0;32m    170\u001b[0m     \u001b[0mW\u001b[0m \u001b[1;33m=\u001b[0m \u001b[0mFIFO_maker2\u001b[0m\u001b[1;33m(\u001b[0m\u001b[0mW\u001b[0m\u001b[1;33m,\u001b[0m \u001b[0mself_f\u001b[0m\u001b[1;33m.\u001b[0m\u001b[0mmask\u001b[0m\u001b[1;33m[\u001b[0m\u001b[0mfrom_node\u001b[0m\u001b[1;33m]\u001b[0m\u001b[1;33m)\u001b[0m \u001b[1;33m-\u001b[0m \u001b[0mself_f\u001b[0m\u001b[1;33m.\u001b[0m\u001b[0mt\u001b[0m\u001b[1;33m\u001b[0m\u001b[0m\n\u001b[0;32m    171\u001b[0m \u001b[1;33m\u001b[0m\u001b[0m\n",
      "\u001b[1;32mc:\\users\\d4l\\onedrive - van oord\\documents\\route_optimization_in_dynamic_currents\\halem\\Functions.py\u001b[0m in \u001b[0;36mcostfunction_timeseries\u001b[1;34m(edge, V_max, WD_min, flow, WVPI, L, tria)\u001b[0m\n\u001b[0;32m     86\u001b[0m     \u001b[0mxto\u001b[0m \u001b[1;33m=\u001b[0m \u001b[0mflow\u001b[0m\u001b[1;33m.\u001b[0m\u001b[0mnodes\u001b[0m\u001b[1;33m[\u001b[0m\u001b[0medge\u001b[0m\u001b[1;33m[\u001b[0m\u001b[1;36m1\u001b[0m\u001b[1;33m]\u001b[0m\u001b[1;33m]\u001b[0m\u001b[1;33m[\u001b[0m\u001b[1;36m1\u001b[0m\u001b[1;33m]\u001b[0m\u001b[1;33m\u001b[0m\u001b[0m\n\u001b[0;32m     87\u001b[0m     \u001b[0myto\u001b[0m \u001b[1;33m=\u001b[0m \u001b[0mflow\u001b[0m\u001b[1;33m.\u001b[0m\u001b[0mnodes\u001b[0m\u001b[1;33m[\u001b[0m\u001b[0medge\u001b[0m\u001b[1;33m[\u001b[0m\u001b[1;36m1\u001b[0m\u001b[1;33m]\u001b[0m\u001b[1;33m]\u001b[0m\u001b[1;33m[\u001b[0m\u001b[1;36m0\u001b[0m\u001b[1;33m]\u001b[0m\u001b[1;33m\u001b[0m\u001b[0m\n\u001b[1;32m---> 88\u001b[1;33m     \u001b[0mIB\u001b[0m \u001b[1;33m=\u001b[0m \u001b[0minbetweenpoints\u001b[0m\u001b[1;33m(\u001b[0m\u001b[0medge\u001b[0m\u001b[1;33m[\u001b[0m\u001b[1;36m0\u001b[0m\u001b[1;33m]\u001b[0m\u001b[1;33m,\u001b[0m \u001b[0medge\u001b[0m\u001b[1;33m[\u001b[0m\u001b[1;36m1\u001b[0m\u001b[1;33m]\u001b[0m\u001b[1;33m,\u001b[0m \u001b[0mL\u001b[0m\u001b[1;33m,\u001b[0m \u001b[0mtria\u001b[0m\u001b[1;33m)\u001b[0m\u001b[1;33m\u001b[0m\u001b[0m\n\u001b[0m\u001b[0;32m     89\u001b[0m     \u001b[0mv_w\u001b[0m \u001b[1;33m=\u001b[0m \u001b[0mflow\u001b[0m\u001b[1;33m.\u001b[0m\u001b[0mv\u001b[0m\u001b[1;33m[\u001b[0m\u001b[0mIB\u001b[0m\u001b[1;33m[\u001b[0m\u001b[1;36m0\u001b[0m\u001b[1;33m]\u001b[0m\u001b[1;33m]\u001b[0m\u001b[1;33m\u001b[0m\u001b[0m\n\u001b[0;32m     90\u001b[0m     \u001b[0mu_w\u001b[0m \u001b[1;33m=\u001b[0m \u001b[0mflow\u001b[0m\u001b[1;33m.\u001b[0m\u001b[0mu\u001b[0m\u001b[1;33m[\u001b[0m\u001b[0mIB\u001b[0m\u001b[1;33m[\u001b[0m\u001b[1;36m0\u001b[0m\u001b[1;33m]\u001b[0m\u001b[1;33m]\u001b[0m\u001b[1;33m\u001b[0m\u001b[0m\n",
      "\u001b[1;32mc:\\users\\d4l\\onedrive - van oord\\documents\\route_optimization_in_dynamic_currents\\halem\\Functions.py\u001b[0m in \u001b[0;36minbetweenpoints\u001b[1;34m(start, stop, LL, tria)\u001b[0m\n\u001b[0;32m     60\u001b[0m     \u001b[1;32mfor\u001b[0m \u001b[0mL\u001b[0m \u001b[1;32min\u001b[0m \u001b[0mrange\u001b[0m\u001b[1;33m(\u001b[0m\u001b[1;36m1\u001b[0m\u001b[1;33m,\u001b[0m\u001b[0mLL\u001b[0m\u001b[1;33m)\u001b[0m\u001b[1;33m:\u001b[0m\u001b[1;33m\u001b[0m\u001b[0m\n\u001b[0;32m     61\u001b[0m         \u001b[0mL\u001b[0m \u001b[1;33m=\u001b[0m \u001b[0mL\u001b[0m\u001b[1;33m+\u001b[0m\u001b[1;36m1\u001b[0m\u001b[1;33m\u001b[0m\u001b[0m\n\u001b[1;32m---> 62\u001b[1;33m         \u001b[0mNB\u001b[0m \u001b[1;33m=\u001b[0m \u001b[0mnp\u001b[0m\u001b[1;33m.\u001b[0m\u001b[0marray\u001b[0m\u001b[1;33m(\u001b[0m\u001b[0mfind_neighbors2\u001b[0m\u001b[1;33m(\u001b[0m\u001b[0mstart\u001b[0m\u001b[1;33m,\u001b[0m\u001b[0mtria\u001b[0m\u001b[1;33m,\u001b[0m\u001b[0mL\u001b[0m\u001b[1;33m-\u001b[0m\u001b[1;36m1\u001b[0m\u001b[1;33m)\u001b[0m\u001b[1;33m,\u001b[0m \u001b[0mdtype\u001b[0m\u001b[1;33m=\u001b[0m \u001b[0mint\u001b[0m\u001b[1;33m)\u001b[0m\u001b[1;33m\u001b[0m\u001b[0m\n\u001b[0m\u001b[0;32m     63\u001b[0m         \u001b[1;32mif\u001b[0m \u001b[0mstop\u001b[0m \u001b[1;32mnot\u001b[0m \u001b[1;32min\u001b[0m \u001b[0mNB\u001b[0m\u001b[1;33m:\u001b[0m\u001b[1;33m\u001b[0m\u001b[0m\n\u001b[0;32m     64\u001b[0m             \u001b[0madd_nodes\u001b[0m \u001b[1;33m=\u001b[0m \u001b[0mset\u001b[0m\u001b[1;33m(\u001b[0m\u001b[0mfind_neighbors2\u001b[0m\u001b[1;33m(\u001b[0m\u001b[0mstop\u001b[0m\u001b[1;33m,\u001b[0m \u001b[0mtria\u001b[0m\u001b[1;33m,\u001b[0m \u001b[0mL\u001b[0m\u001b[1;33m-\u001b[0m\u001b[1;36m1\u001b[0m\u001b[1;33m)\u001b[0m\u001b[1;33m)\u001b[0m \u001b[1;33m&\u001b[0m \u001b[0mset\u001b[0m\u001b[1;33m(\u001b[0m\u001b[0mfind_neighbors2\u001b[0m\u001b[1;33m(\u001b[0m\u001b[0mstart\u001b[0m\u001b[1;33m,\u001b[0m \u001b[0mtria\u001b[0m\u001b[1;33m,\u001b[0m \u001b[0mL\u001b[0m\u001b[1;33m-\u001b[0m\u001b[1;36m1\u001b[0m\u001b[1;33m)\u001b[0m\u001b[1;33m)\u001b[0m\u001b[1;33m\u001b[0m\u001b[0m\n",
      "\u001b[1;32mc:\\users\\d4l\\onedrive - van oord\\documents\\route_optimization_in_dynamic_currents\\halem\\Functions.py\u001b[0m in \u001b[0;36mfind_neighbors2\u001b[1;34m(index, triang, depth)\u001b[0m\n\u001b[0;32m     20\u001b[0m                     \u001b[0mburen_temp\u001b[0m \u001b[1;33m=\u001b[0m \u001b[0mnp\u001b[0m\u001b[1;33m.\u001b[0m\u001b[0mappend\u001b[0m\u001b[1;33m(\u001b[0m\u001b[0mburen_temp\u001b[0m\u001b[1;33m,\u001b[0m \u001b[0mint\u001b[0m\u001b[1;33m(\u001b[0m\u001b[0mj\u001b[0m\u001b[1;33m)\u001b[0m\u001b[1;33m)\u001b[0m\u001b[1;33m\u001b[0m\u001b[0m\n\u001b[0;32m     21\u001b[0m             \u001b[0mburen\u001b[0m \u001b[1;33m=\u001b[0m \u001b[0mnp\u001b[0m\u001b[1;33m.\u001b[0m\u001b[0mappend\u001b[0m\u001b[1;33m(\u001b[0m\u001b[0mburen\u001b[0m\u001b[1;33m,\u001b[0m \u001b[0mburen_temp\u001b[0m\u001b[1;33m)\u001b[0m\u001b[1;33m\u001b[0m\u001b[0m\n\u001b[1;32m---> 22\u001b[1;33m     \u001b[0mburen\u001b[0m \u001b[1;33m=\u001b[0m \u001b[0mnp\u001b[0m\u001b[1;33m.\u001b[0m\u001b[0mdelete\u001b[0m\u001b[1;33m(\u001b[0m\u001b[0mburen\u001b[0m\u001b[1;33m,\u001b[0m \u001b[1;36m0\u001b[0m\u001b[1;33m)\u001b[0m\u001b[1;33m\u001b[0m\u001b[0m\n\u001b[0m\u001b[0;32m     23\u001b[0m     \u001b[1;32mreturn\u001b[0m \u001b[0mburen\u001b[0m\u001b[1;33m\u001b[0m\u001b[0m\n\u001b[0;32m     24\u001b[0m \u001b[1;33m\u001b[0m\u001b[0m\n",
      "\u001b[1;32mC:\\ProgramData\\Anaconda3\\lib\\site-packages\\numpy\\lib\\function_base.py\u001b[0m in \u001b[0;36mdelete\u001b[1;34m(arr, obj, axis)\u001b[0m\n\u001b[0;32m   4866\u001b[0m         \u001b[0mslobj2\u001b[0m \u001b[1;33m=\u001b[0m \u001b[1;33m[\u001b[0m\u001b[0mslice\u001b[0m\u001b[1;33m(\u001b[0m\u001b[1;32mNone\u001b[0m\u001b[1;33m)\u001b[0m\u001b[1;33m]\u001b[0m\u001b[1;33m*\u001b[0m\u001b[0mndim\u001b[0m\u001b[1;33m\u001b[0m\u001b[0m\n\u001b[0;32m   4867\u001b[0m         \u001b[0mslobj2\u001b[0m\u001b[1;33m[\u001b[0m\u001b[0maxis\u001b[0m\u001b[1;33m]\u001b[0m \u001b[1;33m=\u001b[0m \u001b[0mslice\u001b[0m\u001b[1;33m(\u001b[0m\u001b[0mobj\u001b[0m\u001b[1;33m+\u001b[0m\u001b[1;36m1\u001b[0m\u001b[1;33m,\u001b[0m \u001b[1;32mNone\u001b[0m\u001b[1;33m)\u001b[0m\u001b[1;33m\u001b[0m\u001b[0m\n\u001b[1;32m-> 4868\u001b[1;33m         \u001b[0mnew\u001b[0m\u001b[1;33m[\u001b[0m\u001b[0mslobj\u001b[0m\u001b[1;33m]\u001b[0m \u001b[1;33m=\u001b[0m \u001b[0marr\u001b[0m\u001b[1;33m[\u001b[0m\u001b[0mslobj2\u001b[0m\u001b[1;33m]\u001b[0m\u001b[1;33m\u001b[0m\u001b[0m\n\u001b[0m\u001b[0;32m   4869\u001b[0m     \u001b[1;32melse\u001b[0m\u001b[1;33m:\u001b[0m\u001b[1;33m\u001b[0m\u001b[0m\n\u001b[0;32m   4870\u001b[0m         \u001b[1;32mif\u001b[0m \u001b[0mobj\u001b[0m\u001b[1;33m.\u001b[0m\u001b[0msize\u001b[0m \u001b[1;33m==\u001b[0m \u001b[1;36m0\u001b[0m \u001b[1;32mand\u001b[0m \u001b[1;32mnot\u001b[0m \u001b[0misinstance\u001b[0m\u001b[1;33m(\u001b[0m\u001b[0m_obj\u001b[0m\u001b[1;33m,\u001b[0m \u001b[0mnp\u001b[0m\u001b[1;33m.\u001b[0m\u001b[0mndarray\u001b[0m\u001b[1;33m)\u001b[0m\u001b[1;33m:\u001b[0m\u001b[1;33m\u001b[0m\u001b[0m\n",
      "\u001b[1;31mKeyboardInterrupt\u001b[0m: "
     ]
    }
   ],
   "source": [
    "nl = (0.5,1.5)\n",
    "dx_min = 0.02\n",
    "blend = 0.8\n",
    "number_of_neighbor_layers = 2\n",
    "\n",
    "vship =np.transpose([interpolate(load_factor, V_full, V_emp)])\n",
    "\n",
    "WD_min= interpolate(load_factor, T_full, T_emp)\n",
    "WVPI  = interpolate(load_factor, WVPI_full, WVPI_empt)\n",
    "\n",
    "Load_flow = flow_class.flow_tides\n",
    "name_textfile_flow = 'D:/Use_case_Schouwen/flow_Noos_Utides'\n",
    "\n",
    "start_time = time.time()\n",
    "\n",
    "Roadmap   = Mesh_maker.Graph_flow_model(name_textfile_flow, \n",
    "                                        dx_min, \n",
    "                                        blend, \n",
    "                                        nl, \n",
    "                                        number_of_neighbor_layers, \n",
    "                                        vship, \n",
    "                                        Load_flow, \n",
    "                                        WD_min,\n",
    "                                        WVPI,\n",
    "                                        WWL = WWL,\n",
    "                                        ukc = ukc,\n",
    "                                        compute_cost = Q_cost,\n",
    "                                        compute_co2 = Q_co2,\n",
    "                                        repeat = True,\n",
    "                                        nodes_index = np.arange(5287),\n",
    "                                        optimization_type=['time']\n",
    "                                       )\n",
    "\n",
    "stop_time = time.time()\n",
    "computation_time = stop_time - start_time\n",
    "print(\"the Total computational time is:\",int(computation_time/60),'minutes and', np.round(computation_time- int(computation_time/60)*60,2) , \"sec\")\n",
    "\n",
    "# halem.save_object(Roadmap, 'Roadmap11SIM')"
   ]
  },
  {
   "cell_type": "code",
   "execution_count": null,
   "metadata": {},
   "outputs": [],
   "source": [
    "# name_textfile_load = 'Roadmap11SIM'\n",
    "\n",
    "# with open(name_textfile_load, 'rb') as input:\n",
    "#     Roadmap = pickle.load(input)"
   ]
  },
  {
   "cell_type": "code",
   "execution_count": null,
   "metadata": {
    "scrolled": false
   },
   "outputs": [],
   "source": [
    "start_time_tot = time.time()\n",
    "\n",
    "\n",
    "t0 = '02/04/2019 01:00:00'                            # start of the simulation                                (string)\n",
    "d = datetime.datetime.strptime(t0, \"%d/%m/%Y %H:%M:%S\")\n",
    "t0 = d.timestamp()\n",
    "simulation_start = datetime.datetime.fromtimestamp(t0)\n",
    "my_env = simpy.Environment(initial_time = time.mktime(simulation_start.timetuple()))\n",
    "my_env.epoch = time.mktime(simulation_start.timetuple())\n",
    "\n",
    "TransportProcessingResource = type('TransportProcessingResource', \n",
    "                                   (core.Identifiable,              # Give it a name\n",
    "                                    core.Log,                       # Allow logging of all discrete events\n",
    "                                    core.ContainerDependentMovable, # A moving container, so capacity and location\n",
    "                                    core.Processor,                 # Allow for loading and unloading\n",
    "                                    core.HasResource,               # Add information on serving equipment\n",
    "                                    core.Routeable,                 # Route is optimized\n",
    "                                    core.LoadingFunction,           # Add a loading function\n",
    "                                    core.UnloadingFunction,         # Add an unloading function\n",
    "                                   ),\n",
    "                                   {})\n",
    "data_from_site = {\"env\": my_env,                  # The simpy environment defined in the first cel\n",
    "                  \"name\": \"Winlocatie\",           # The name of the site\n",
    "                  \"geometry\": [],                 # The coordinates of the project site\n",
    "                  \"capacity\": Volume,            # The capacity of the site\n",
    "                  \"level\": Volume}               # The actual volume of the site\n",
    "\n",
    "data_node = {\"env\": my_env,                      # The simpy environment defined in the first cel\n",
    "                 \"name\": \"Intermediate site\",     # The name of the site\n",
    "                 \"geometry\": []}                  # The coordinates of the project site\n",
    "\n",
    "data_to_site = {\"env\": my_env,                    # The simpy environment defined in the first cel\n",
    "                \"name\": \"Dumplocatie\",            # The name of the site\n",
    "                \"geometry\": [],                   # The coordinates of the project site\n",
    "                \"capacity\": Volume,              # The capacity of the site\n",
    "                \"level\": 0}                       # The actual volume of the site (empty of course)\n",
    "\n",
    "path = [start, stop]\n",
    "Nodes, Edges = connect_sites_with_path(data_from_site, data_to_site, data_node, path)\n",
    "positions = {}\n",
    "FG = nx.Graph()\n",
    "my_env.FG = FG\n",
    "\n",
    "for node in Nodes:\n",
    "    positions[node.name] = (node.geometry.x, node.geometry.y)\n",
    "    FG.add_node(node.name, geometry = node.geometry)\n",
    "for edge in Edges:\n",
    "    FG.add_edge(edge[0].name, edge[1].name, weight = 1)\n",
    "route = []\n",
    "data_hopper = {\"env\": my_env,                                       # The simpy environment \n",
    "               \"name\": \"Hopper 01\",                                 # Name\n",
    "               \"geometry\": Nodes[0].geometry,                       # It starts at the \"from site\"\n",
    "               \"loading_rate\": loading_rate,                                   # Loading rate\n",
    "               \"unloading_rate\": unloading_rate,                                 # Unloading rate\n",
    "               \"capacity\": hopper_capacity,                         # Capacity of the hopper - \"Beunvolume\"\n",
    "               \"compute_v\": Q_velo,                                 # Variable speed\n",
    "               \"route\": route,\n",
    "               \"optimize_route\": True,                              # Optimize the Route\n",
    "               \"optimization_type\": 'time',                          # Optimize for the fastest path\n",
    "               \"loadfactors\": load_factor\n",
    "\n",
    "              }\n",
    "\n",
    "hopper = TransportProcessingResource(**data_hopper)\n",
    "\n",
    "activity = model.Activity(env = my_env,             # The simpy environment defined in the first cel\n",
    "                          name = \"Soil movement\",   # We are moving soil\n",
    "                          origin = Nodes[0],        # We originate from the from_site\n",
    "                          destination = Nodes[-1],  # And therefore travel to the to_site\n",
    "                          loader = hopper,          # The benefit of a TSHD, all steps can be done\n",
    "                          mover = hopper,           # The benefit of a TSHD, all steps can be done\n",
    "                          unloader = hopper,        # The benefit of a TSHD, all steps can be done\n",
    "                          start_event = None,       # We can start right away\n",
    "                          stop_event = None)        # We stop once there is nothing more to move\n",
    "\n",
    "my_env.Roadmap = Roadmap\n",
    "my_env.print_progress = True\n",
    "\n",
    "my_env.run()\n",
    "stop_time_tot = time.time()\n",
    "computation_time_tot = stop_time_tot - start_time_tot\n",
    "print(\"the Total computational time is:\",int(computation_time_tot/60),'minutes and', np.round(computation_time_tot- int(computation_time_tot/60)*60,2) , \"sec\")"
   ]
  },
  {
   "cell_type": "markdown",
   "metadata": {},
   "source": [
    "## 7. Postprocessing"
   ]
  },
  {
   "cell_type": "code",
   "execution_count": null,
   "metadata": {},
   "outputs": [],
   "source": [
    "number_of_cycles = 0\n",
    "\n",
    "for M in hopper.log['Message']:\n",
    "    if M == 'loading start':\n",
    "        number_of_cycles += 1\n",
    "\n",
    "Operational_hours = service_hours - delay_for_bunkering - technical_delay - project_related_delay\n",
    "efficiency = Operational_hours / service_hours\n",
    "Total_production = Operational_hours/(((my_env.now - my_env.epoch)/ number_of_cycles/60) / 60) * (Volume / number_of_cycles)\n",
    "\n",
    "vessels = [hopper]\n",
    "\n",
    "activities = ['loading', 'unloading', 'sailing filled', 'sailing empty']\n",
    "colors = {0:'rgb(55,126,184)', 1:'rgb(255,150,0)', 2:'rgb(98, 192, 122)', 3:'rgb(98, 141, 122)'}"
   ]
  },
  {
   "cell_type": "code",
   "execution_count": null,
   "metadata": {
    "scrolled": true
   },
   "outputs": [],
   "source": [
    "print('Number of cycles', number_of_cycles)\n",
    "print(\"Project finished in {}\".format(datetime.timedelta(seconds=int(my_env.now - my_env.epoch))))\n",
    "print(\"m^3 per uur\",np.round(Volume/(my_env.now - my_env.epoch) * 60 * 60))\n",
    "print(\"m^3 per week\",np.round(Volume/(my_env.now - my_env.epoch) * 60 * 60 * 7 * 24))   \n",
    "print('Avaraged volume per cycle', np.round(Volume / number_of_cycles, 2))\n",
    "print('Avaraged minutes per cycle', np.round((my_env.now - my_env.epoch)/ number_of_cycles/60, 2)) \n",
    "print('Used load factors:',set(np.round(np.array(hopper.log['Value'])/ hopper_capacity, 2)))\n",
    "print()\n",
    "print('Production included downtime [m^3 / week]:',np.round(Total_production,2))\n",
    "print('Improvement over old method:', np.round((Total_production / 94407.14 - 1)*100 ,2), '%' )\n",
    "\n",
    "VV = [hopper.log['Value'][0]]\n",
    "for V in hopper.log['Value']:\n",
    "    if V != VV[-1]:\n",
    "        VV.append(V)\n",
    "        \n",
    "VV = np.array(VV)[np.array(VV) > 0]\n",
    "\n",
    "H = VV/ hopper_capacity\n",
    "np.savetxt('hist', H)\n",
    "\n",
    "plt.figure\n",
    "ax = plt.subplot()\n",
    "plt.hist(H, bins=11, density=True, color = 'navy' ) \n",
    "plt.ylabel('Probability')\n",
    "plt.title('Histogram of the load factors')\n",
    "plt.xlim(0, 1)\n",
    "plt.show()"
   ]
  },
  {
   "cell_type": "code",
   "execution_count": null,
   "metadata": {},
   "outputs": [],
   "source": [
    "VV = [hopper.log['Value'][0]]\n",
    "for V in hopper.log['Value']:\n",
    "    if V != VV[-1]:\n",
    "        VV.append(V)\n",
    "        \n",
    "VV = np.array(VV)[np.array(VV) > 0]\n",
    "\n",
    "plt.figure\n",
    "ax = plt.subplot()\n",
    "plt.hist(VV/ hopper_capacity, bins=11, density=True, color = 'navy' ) \n",
    "plt.ylabel('Probability')\n",
    "plt.title('Histogram of the load factors')\n",
    "plt.xlim(0, 1)\n",
    "plt.show()"
   ]
  },
  {
   "cell_type": "code",
   "execution_count": null,
   "metadata": {},
   "outputs": [],
   "source": [
    "plot.vessel_planning(vessels, activities, colors)"
   ]
  },
  {
   "cell_type": "code",
   "execution_count": null,
   "metadata": {},
   "outputs": [],
   "source": [
    "plot_route(hopper, Roadmap)"
   ]
  },
  {
   "cell_type": "code",
   "execution_count": null,
   "metadata": {},
   "outputs": [],
   "source": [
    "vessel = hopper\n",
    "testing=False\n",
    "\n",
    "activities = ['loading', 'unloading', 'sailing filled', 'sailing empty']\n",
    "activities_times = [0, 0, 0, 0]\n",
    "\n",
    "for i, activity in enumerate(activities):\n",
    "    starts = []\n",
    "    stops = []\n",
    "\n",
    "    for j, message in enumerate(vessel.log[\"Message\"]):\n",
    "        if message == activity + \" start\":\n",
    "            starts.append(vessel.log[\"Timestamp\"][j])\n",
    "        if message == activity + \" stop\":\n",
    "            stops.append(vessel.log[\"Timestamp\"][j])\n",
    "\n",
    "    for j, _ in enumerate(starts):\n",
    "        activities_times[i] += (stops[j] - starts[j]).total_seconds() / (3600 * 24)\n",
    "\n",
    "loading, unloading, sailing_full, sailing_empty = (\n",
    "    activities_times[0],\n",
    "    activities_times[1],\n",
    "    activities_times[2],\n",
    "    activities_times[3],\n",
    ")\n",
    "\n",
    "# For the total plot\n",
    "fig, ax1 = plt.subplots(figsize=[15, 10])\n",
    "\n",
    "# For the barchart\n",
    "height = [loading, unloading, sailing_full, sailing_empty]\n",
    "labels = [\"Loading\", \"Unloading\", \"Sailing full\", \"Sailing empty\"]\n",
    "colors = [\n",
    "    (55 / 255, 126 / 255, 184 / 255),\n",
    "    (255 / 255, 150 / 255, 0 / 255),\n",
    "    (98 / 255, 192 / 255, 122 / 255),\n",
    "    (98 / 255, 141 / 255, 122 / 255),\n",
    "]\n",
    "\n",
    "positions = np.arange(len(labels))\n",
    "ax1.bar(positions, height, color=colors)\n",
    "\n",
    "# For the cumulative percentages\n",
    "total = sum([loading, unloading, sailing_full, sailing_empty])\n",
    "\n",
    "unloading += loading\n",
    "sailing_full += unloading\n",
    "sailing_empty += sailing_full\n",
    "y = [loading, unloading, sailing_full, sailing_empty]\n",
    "n = [\n",
    "    loading / total,\n",
    "    unloading / total,\n",
    "    sailing_full / total,\n",
    "    sailing_empty / total,\n",
    "]\n",
    "\n",
    "ax1.plot(positions, y, \"ko\", markersize=10)\n",
    "ax1.plot(positions, y, \"k\")\n",
    "\n",
    "for i, txt in enumerate(n):\n",
    "    x_txt = positions[i] + 0.1\n",
    "    y_txt = y[i] * 0.95\n",
    "    ax1.annotate(\"{:02.1f}%\".format(txt * 100), (x_txt, y_txt), size=12)\n",
    "\n",
    "# Further markup\n",
    "plt.ylabel(\"Total time spend on activities [Days]\", size=12)\n",
    "ax1.set_xticks(positions)\n",
    "ax1.set_xticklabels(labels, size=12)\n",
    "plt.title(\"Distribution of spend time - {}\".format(vessel.name), size=15)\n",
    "\n",
    "if testing == False:\n",
    "    plt.show()\n",
    "    \n",
    "np.savetxt('n', n)"
   ]
  },
  {
   "cell_type": "code",
   "execution_count": null,
   "metadata": {},
   "outputs": [],
   "source": [
    "m3 = [0]\n",
    "t = [Nodes[0].log['Timestamp'][0].timestamp()]\n",
    "for i in range(len(Nodes[-1].log['Value'])):\n",
    "    m3.append(Nodes[-1].log['Value'][i] + m3[-1])\n",
    "    t.append(Nodes[-1].log['Timestamp'][i].timestamp())\n",
    "plt.plot(t, m3)\n",
    "\n",
    "np.savetxt('outputzuno.csv',(m3,t))"
   ]
  },
  {
   "cell_type": "code",
   "execution_count": null,
   "metadata": {},
   "outputs": [],
   "source": [
    "coord = []\n",
    "for i in range(len(Nodes[0].log['Value'])):\n",
    "    coord.append((hopper.log['Geometry'][i].x, hopper.log['Geometry'][i].y))\n",
    "dist = [0]\n",
    "t = [Nodes[0].log['Timestamp'][0].timestamp()]\n",
    "D = 0\n",
    "for i in range(1, len(coord)):\n",
    "    D += halem.Functions.haversine(coord[i-1], coord[i])\n",
    "    dist.append(D)\n",
    "    t.append(Nodes[0].log['Timestamp'][i].timestamp())\n",
    "plt.plot(t,dist)\n",
    "np.savetxt('outputzuno2.csv',(dist,t))"
   ]
  },
  {
   "cell_type": "code",
   "execution_count": null,
   "metadata": {},
   "outputs": [],
   "source": []
  },
  {
   "cell_type": "code",
   "execution_count": null,
   "metadata": {},
   "outputs": [],
   "source": []
  },
  {
   "cell_type": "code",
   "execution_count": null,
   "metadata": {},
   "outputs": [],
   "source": []
  }
 ],
 "metadata": {
  "kernelspec": {
   "display_name": "Python 3",
   "language": "python",
   "name": "python3"
  },
  "language_info": {
   "codemirror_mode": {
    "name": "ipython",
    "version": 3
   },
   "file_extension": ".py",
   "mimetype": "text/x-python",
   "name": "python",
   "nbconvert_exporter": "python",
   "pygments_lexer": "ipython3",
   "version": "3.6.5"
  }
 },
 "nbformat": 4,
 "nbformat_minor": 2
}
