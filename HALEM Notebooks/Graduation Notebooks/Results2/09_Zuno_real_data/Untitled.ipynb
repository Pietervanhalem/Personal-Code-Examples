{
 "cells": [
  {
   "cell_type": "code",
   "execution_count": 14,
   "metadata": {},
   "outputs": [],
   "source": [
    "import numpy as np\n",
    "import datetime, time\n",
    "from datetime import datetime\n",
    "import pickle\n",
    "import halem\n",
    "import datetime, time\n",
    "import numpy as np\n",
    "timeQ = time\n",
    "from pandas import DataFrame\n",
    "from scipy.spatial import Delaunay\n",
    "from IPython.display import clear_output\n",
    "from scipy.interpolate import griddata\n",
    "import utide\n",
    "from pandas import date_range\n",
    "\n",
    "\n",
    "from shapely.geometry import Point\n",
    "from shapely.geometry.polygon import Polygon"
   ]
  },
  {
   "cell_type": "code",
   "execution_count": 27,
   "metadata": {},
   "outputs": [
    {
     "name": "stdout",
     "output_type": "stream",
     "text": [
      "loading 100 %\n",
      "interpolating 1/3\n",
      "interpolating 1/3\n",
      "interpolating 1/3\n"
     ]
    },
    {
     "name": "stderr",
     "output_type": "stream",
     "text": [
      "C:\\ProgramData\\Anaconda3\\lib\\site-packages\\ipykernel_launcher.py:44: RuntimeWarning: invalid value encountered in less\n"
     ]
    }
   ],
   "source": [
    "nodes = np.loadtxt('D:/Use_case_Schouwen/Zuno_data/CSV/nodes.csv')\n",
    "print('Loading 20 %')\n",
    "t = np.loadtxt('D:/Use_case_Schouwen/Zuno_data/CSV/t.csv')\n",
    "clear_output(wait= True)\n",
    "print('Loading 40 %')\n",
    "WD = np.loadtxt('D:/Use_case_Schouwen/Zuno_data/CSV/d.csv')\n",
    "clear_output(wait= True)\n",
    "print('Loading 60 %')\n",
    "u = np.loadtxt('D:/Use_case_Schouwen/Zuno_data/CSV/u.csv')\n",
    "clear_output(wait= True)\n",
    "print('Loading 80 %')\n",
    "v = np.loadtxt('D:/Use_case_Schouwen/Zuno_data/CSV/v.csv')\n",
    "clear_output(wait= True)\n",
    "print('loading 100 %')\n",
    "\n",
    "add_nodes = np.loadtxt('additional_nodes.csv')[:,::-1]\n",
    "\n",
    "add_u = griddata(nodes, np.transpose(u), (add_nodes), method='linear')\n",
    "print('interpolating 1/3')\n",
    "add_v = griddata(nodes, np.transpose(v), (add_nodes), method='linear')\n",
    "print('interpolating 1/3')\n",
    "add_WD = griddata(nodes, np.transpose(WD), (add_nodes), method='linear')\n",
    "print('interpolating 1/3')\n",
    "\n",
    "add_u = np.transpose(add_u)\n",
    "add_v = np.transpose(add_v)\n",
    "add_WD = np.transpose(add_WD)\n",
    "\n",
    "u = np.concatenate((u, add_u), axis = 1)\n",
    "v = np.concatenate((v, add_v), axis = 1)\n",
    "WD = np.concatenate((WD, add_WD), axis = 1)\n",
    "nodes = np.concatenate((nodes, add_nodes))\n",
    "\n",
    "bat = np.loadtxt('D:/Use_case_Schouwen/baty_WGS.csv')[:,2]\n",
    "nodes_bat = np.loadtxt('D:/Use_case_Schouwen/baty_WGS.csv')[:,:2][:,::-1]\n",
    "\n",
    "bath = griddata(nodes_bat, bat, nodes, method= 'cubic')\n",
    "\n",
    "\n",
    "WD_new = np.zeros(WD.shape)\n",
    "for i in range(WD.shape[0]):\n",
    "    WD_new[i] = WD[i]-bath\n",
    "\n",
    "WD_new[WD_new < 0] = 0\n",
    "\n",
    "t = np.loadtxt('D:/Use_case_Schouwen/Zuno_data/CSV/t.csv')\n",
    "\n",
    "WD = WD_new[::6,:]\n",
    "u = u[::6,:]\n",
    "v = v[::6,:]\n",
    "t = t[::6]\n",
    "\n",
    "idx = []\n",
    "poly = Polygon(np.loadtxt('polygon.csv')[:,::-1])\n",
    "for i in range(len(nodes)):\n",
    "    if poly.contains(Point(nodes[i])):\n",
    "        idx.append(i)\n",
    "        \n",
    "len(idx)\n",
    "\n",
    "nodes = nodes[idx]\n",
    "WD = WD[:, idx]\n",
    "u = u[:, idx]\n",
    "v = v[:, idx]"
   ]
  },
  {
   "cell_type": "code",
   "execution_count": 28,
   "metadata": {},
   "outputs": [
    {
     "data": {
      "text/plain": [
       "((727,), (2911, 2), (727, 2911), (727, 2911))"
      ]
     },
     "execution_count": 28,
     "metadata": {},
     "output_type": "execute_result"
    }
   ],
   "source": [
    "t.shape, nodes.shape, WD.shape, u.shape"
   ]
  }
 ],
 "metadata": {
  "kernelspec": {
   "display_name": "Python 3",
   "language": "python",
   "name": "python3"
  },
  "language_info": {
   "codemirror_mode": {
    "name": "ipython",
    "version": 3
   },
   "file_extension": ".py",
   "mimetype": "text/x-python",
   "name": "python",
   "nbconvert_exporter": "python",
   "pygments_lexer": "ipython3",
   "version": "3.6.5"
  }
 },
 "nbformat": 4,
 "nbformat_minor": 2
}
