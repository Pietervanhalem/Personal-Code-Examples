{
 "cells": [
  {
   "cell_type": "code",
   "execution_count": 3,
   "metadata": {},
   "outputs": [],
   "source": [
    "import halem.Mesh_maker as Mesh_maker\n",
    "import halem.Functions as Functions\n",
    "import halem.Calc_path as Calc_path\n",
    "from scipy.spatial import Delaunay\n",
    "\n",
    "import pytest\n",
    "import numpy as np\n",
    "import geopy.distance\n",
    "\n",
    "\n",
    "def coord_a():\n",
    "    return (0, 0)\n",
    "\n",
    "\n",
    "def coord_b():\n",
    "    return (0, 1)\n",
    "\n",
    "\n",
    "def vship():\n",
    "    return 5\n",
    "\n",
    "\n",
    "def v(mag):\n",
    "    v = np.array([[0, 0, 1, -1]])\n",
    "    v = mag * np.concatenate((v, v), axis=0)\n",
    "    return v\n",
    "\n",
    "\n",
    "def u(mag):\n",
    "    u = np.array([[1, -1, 0, 0]])\n",
    "    u = mag * np.concatenate((u, u), axis=0)\n",
    "    return u\n",
    "\n",
    "\n",
    "class flow:\n",
    "    def __init__(self, mag, name=\"maaktnietuit\"):\n",
    "        self.t = np.arange(0, 100) + 1558077464\n",
    "        self.nodes = np.array([(0, 0), (0, 1), (1, 1), (0, 3)])\n",
    "\n",
    "        self.tria = Delaunay(self.nodes)\n",
    "        self.WD = np.ones((len(self.t), len(self.nodes))) * 1000\n",
    "        self.u = np.ones((len(self.t), len(self.nodes))) * mag\n",
    "        self.v = np.ones((len(self.t), len(self.nodes))) * 0\n",
    "        self.WWL = 1\n",
    "        self.LWL = 1\n",
    "        self.ukc = 1\n",
    "\n",
    "\n",
    "def test_haversine():\n",
    "    dist = Functions.haversine(coord_a(), coord_a())\n",
    "    dist1 = Functions.haversine(coord_a(), coord_b())\n",
    "    dist2 = geopy.distance.geodesic(coord_a(), coord_b()).m\n",
    "\n",
    "    assert dist == 0\n",
    "    assert abs(dist1 - dist2) < 0.01 * dist1\n",
    "\n",
    "\n",
    "def test_costfunction_time():\n",
    "    mag = 3\n",
    "    WD_min = 1\n",
    "    edge = (0, 1)\n",
    "    nodes = [coord_a(), coord_b(), (1, 0), (1, 1)]\n",
    "    mask = np.full((u(mag).shape), False)\n",
    "    WVPI = 1\n",
    "    L = Functions.costfunction_timeseries(\n",
    "        edge, vship(), WD_min, flow(3), WVPI, 1, flow(3).tria\n",
    "    )\n",
    "\n",
    "    VSHIP = Functions.Squat(\n",
    "        flow(3).WD[0], WD_min, vship(), flow(3).LWL, flow(3).WWL, flow(3).ukc, WVPI\n",
    "    )\n",
    "\n",
    "    VV = np.array([VSHIP[0] + mag, VSHIP[0] + mag, VSHIP[0] + mag, VSHIP[0] + mag])\n",
    "    dist1 = Functions.haversine(coord_a(), coord_b())\n",
    "    dist = dist1 / VV\n",
    "\n",
    "    np.testing.assert_array_equal(L, dist)\n",
    "\n",
    "\n",
    "def test_costfunction_space():\n",
    "    mag = 3\n",
    "    WD_min = 1\n",
    "    edge = (0, 1)\n",
    "    nodes = [coord_a(), coord_b(), (1, 0), (1, 1)]\n",
    "    mask = np.full((u(mag).shape), False)\n",
    "    WVPI = 1\n",
    "    L = Functions.costfunction_spaceseries(\n",
    "        edge, vship(), WD_min, flow(3), WVPI, 1, flow(3).tria\n",
    "    )\n",
    "    dist1 = Functions.haversine(coord_a(), coord_b())\n",
    "    dist = dist1\n",
    "\n",
    "    np.testing.assert_array_equal(L, dist)\n",
    "\n",
    "\n",
    "def test_find_neighbor():\n",
    "    nodes = [\n",
    "        (3, 3),\n",
    "        (2, 2),\n",
    "        (2, 4),\n",
    "        (4, 2),\n",
    "        (4, 4),\n",
    "        (1, 1),\n",
    "        (1, 3),\n",
    "        (1, 5),\n",
    "        (3, 1),\n",
    "        (3, 5),\n",
    "        (5, 1),\n",
    "        (5, 3),\n",
    "        (5, 5),\n",
    "        (0, 0),\n",
    "        (0, 2),\n",
    "        (0, 4),\n",
    "        (0, 6),\n",
    "        (2, 0),\n",
    "        (4, 0),\n",
    "        (2, 6),\n",
    "        (4, 6),\n",
    "        (6, 0),\n",
    "        (6, 2),\n",
    "        (6, 4),\n",
    "        (6, 6),\n",
    "    ]\n",
    "\n",
    "    tria = Delaunay(nodes)\n",
    "    nb = Functions.find_neighbors(0, tria)\n",
    "\n",
    "    assert len(nb) == 4\n",
    "    for i in range(1, 5):\n",
    "        assert i in nb\n",
    "\n",
    "\n",
    "def test_find_neighbor2():\n",
    "    nodes = [\n",
    "        (3, 3),\n",
    "        (2, 2),\n",
    "        (2, 4),\n",
    "        (4, 2),\n",
    "        (4, 4),\n",
    "        (1, 1),\n",
    "        (0.9, 3),\n",
    "        (1, 5),\n",
    "        (3, 1),\n",
    "        (3, 5.1),\n",
    "        (5, 1),\n",
    "        (5, 3),\n",
    "        (5, 5),\n",
    "        (0, 0),\n",
    "        (-0.1, 2),\n",
    "        (-0.1, 4),\n",
    "        (0, 6),\n",
    "        (2, 0),\n",
    "        (4, 0),\n",
    "        (2, 6.1),\n",
    "        (4, 6.1),\n",
    "        (6, 0),\n",
    "        (6, 2),\n",
    "        (6, 4.1),\n",
    "        (6, 6),\n",
    "    ]\n",
    "    tria = Delaunay(nodes)\n",
    "\n",
    "    nb = Functions.find_neighbors2(0, tria, 0)\n",
    "    assert len(nb) == 0\n",
    "\n",
    "    nb = Functions.find_neighbors2(0, tria, 1)\n",
    "    assert len(nb) == 4\n",
    "    for i in range(1, 5):\n",
    "        assert i in nb\n",
    "\n",
    "    nb = Functions.find_neighbors2(0, tria, 2)\n",
    "    assert len(nb) == 12\n",
    "    for i in range(1, 13):\n",
    "        assert i in nb\n",
    "\n",
    "    nb = Functions.find_neighbors2(0, tria, 3)\n",
    "    assert len(nb) == 24\n",
    "    for i in range(1, 25):\n",
    "        assert i in nb\n",
    "\n",
    "\n"
   ]
  },
  {
   "cell_type": "code",
   "execution_count": 16,
   "metadata": {},
   "outputs": [
    {
     "name": "stdout",
     "output_type": "stream",
     "text": [
      "passed all tests\n"
     ]
    }
   ],
   "source": [
    "import matplotlib.pyplot as plt\n",
    "%matplotlib inline\n",
    "\n",
    "test_costfunction_space()\n",
    "test_costfunction_time()\n",
    "test_haversine()\n",
    "print('passed all tests')"
   ]
  },
  {
   "cell_type": "code",
   "execution_count": 44,
   "metadata": {},
   "outputs": [
    {
     "ename": "SyntaxError",
     "evalue": "invalid syntax (<ipython-input-44-e43f086486f6>, line 1)",
     "output_type": "error",
     "traceback": [
      "\u001b[1;36m  File \u001b[1;32m\"<ipython-input-44-e43f086486f6>\"\u001b[1;36m, line \u001b[1;32m1\u001b[0m\n\u001b[1;33m    def test_inbetweenpoints()\u001b[0m\n\u001b[1;37m                                  ^\u001b[0m\n\u001b[1;31mSyntaxError\u001b[0m\u001b[1;31m:\u001b[0m invalid syntax\n"
     ]
    }
   ],
   "source": [
    "def test_inbetweenpoints():\n",
    "    x = range(0,5)\n",
    "    y = range(0,5)\n",
    "    x,y = np.meshgrid(x,y)\n",
    "\n",
    "    nodes = np.zeros((x.size,2))\n",
    "    nodes[:,1] = x.reshape(x.size)\n",
    "    nodes[:,0] = y.reshape(x.size)\n",
    "    tria = Delaunay(nodes)\n",
    "    IB = Functions.inbetweenpoints(5,18,3,tria)\n",
    "\n",
    "    np.testing.assert_array_equal(IB, np.array([ 5, 18,  7, 11, 12, 16, 17]))"
   ]
  },
  {
   "cell_type": "code",
   "execution_count": 42,
   "metadata": {},
   "outputs": [
    {
     "data": {
      "text/plain": [
       "[<matplotlib.lines.Line2D at 0x285b7789c50>]"
      ]
     },
     "execution_count": 42,
     "metadata": {},
     "output_type": "execute_result"
    },
    {
     "data": {
      "image/png": "[encoded data removed]",
      "text/plain": [
       "<Figure size 432x288 with 1 Axes>"
      ]
     },
     "metadata": {},
     "output_type": "display_data"
    }
   ],
   "source": [
    "plt.plot(nodes[:,1], nodes[:,0], 'o')\n",
    "plt.plot(nodes[:,1][IB], nodes[:,0][IB], 'o')\n",
    "plt.plot(nodes[:,1][[5,18]], nodes[:,0][[5,18]], 'o')\n"
   ]
  },
  {
   "cell_type": "code",
   "execution_count": 41,
   "metadata": {},
   "outputs": [
    {
     "data": {
      "text/plain": [
       "array([ 5, 18,  7, 11, 12, 16, 17])"
      ]
     },
     "execution_count": 41,
     "metadata": {},
     "output_type": "execute_result"
    }
   ],
   "source": [
    "IB = Functions.inbetweenpoints(5,18,3,tria)\n",
    "IB"
   ]
  },
  {
   "cell_type": "code",
   "execution_count": 27,
   "metadata": {},
   "outputs": [
    {
     "data": {
      "text/plain": [
       "array([ 1.,  0.,  6., 11., 10.,  7.,  2., 15., 16., 12., 17.,  3.,  8.,\n",
       "       13., 21., 20., 22., 23., 18.])"
      ]
     },
     "execution_count": 27,
     "metadata": {},
     "output_type": "execute_result"
    }
   ],
   "source": [
    "Functions.find_neighbors2(8,tria,3)"
   ]
  },
  {
   "cell_type": "code",
   "execution_count": 33,
   "metadata": {},
   "outputs": [
    {
     "data": {
      "text/plain": [
       "array([ 5, 18,  7, 11, 12, 16, 17])"
      ]
     },
     "execution_count": 33,
     "metadata": {},
     "output_type": "execute_result"
    }
   ],
   "source": [
    "IB"
   ]
  },
  {
   "cell_type": "code",
   "execution_count": 46,
   "metadata": {},
   "outputs": [
    {
     "name": "stdout",
     "output_type": "stream",
     "text": [
      "4/4\n",
      "1/4\n"
     ]
    },
    {
     "ename": "IndexError",
     "evalue": "index 4 is out of bounds for axis 0 with size 4",
     "output_type": "error",
     "traceback": [
      "\u001b[1;31m---------------------------------------------------------------------------\u001b[0m",
      "\u001b[1;31mIndexError\u001b[0m                                Traceback (most recent call last)",
      "\u001b[1;32m<ipython-input-46-9dc97c55616d>\u001b[0m in \u001b[0;36m<module>\u001b[1;34m()\u001b[0m\n\u001b[0;32m     75\u001b[0m     \u001b[0mLoad_flow\u001b[0m\u001b[1;33m,\u001b[0m\u001b[1;33m\u001b[0m\u001b[0m\n\u001b[0;32m     76\u001b[0m     \u001b[0mWD_min\u001b[0m\u001b[1;33m,\u001b[0m\u001b[1;33m\u001b[0m\u001b[0m\n\u001b[1;32m---> 77\u001b[1;33m     \u001b[0mWVPI\u001b[0m\u001b[1;33m,\u001b[0m\u001b[1;33m\u001b[0m\u001b[0m\n\u001b[0m\u001b[0;32m     78\u001b[0m )\n\u001b[0;32m     79\u001b[0m \u001b[1;33m\u001b[0m\u001b[0m\n",
      "\u001b[1;32mc:\\users\\d4l\\onedrive - van oord\\documents\\halem\\halem\\Mesh_maker.py\u001b[0m in \u001b[0;36m__init__\u001b[1;34m(self, name_textfile_flow, dx_min, blend, nl, number_of_neighbor_layers, vship, Load_flow, WD_min, WVPI, compute_cost, compute_co2, WWL, LWL, ukc, nodes_on_land, repeat, optimization_type, nodes_index)\u001b[0m\n\u001b[0;32m    116\u001b[0m         \u001b[1;31m# 'Calculate nodes and flow conditions in nodes'\u001b[0m\u001b[1;33m\u001b[0m\u001b[1;33m\u001b[0m\u001b[0m\n\u001b[0;32m    117\u001b[0m         \u001b[1;32mif\u001b[0m \u001b[0mnodes_index\u001b[0m\u001b[1;33m.\u001b[0m\u001b[0mall\u001b[0m\u001b[1;33m(\u001b[0m\u001b[1;33m)\u001b[0m \u001b[1;33m==\u001b[0m \u001b[1;32mNone\u001b[0m\u001b[1;33m:\u001b[0m\u001b[1;33m\u001b[0m\u001b[0m\n\u001b[1;32m--> 118\u001b[1;33m             \u001b[0mreduces_nodes\u001b[0m \u001b[1;33m=\u001b[0m \u001b[0mnode_reduction\u001b[0m\u001b[1;33m(\u001b[0m\u001b[0mflow\u001b[0m\u001b[1;33m,\u001b[0m \u001b[0mnl\u001b[0m\u001b[1;33m,\u001b[0m \u001b[0mdx_min\u001b[0m\u001b[1;33m,\u001b[0m \u001b[0mblend\u001b[0m\u001b[1;33m)\u001b[0m\u001b[1;33m\u001b[0m\u001b[0m\n\u001b[0m\u001b[0;32m    119\u001b[0m             \u001b[0mself\u001b[0m\u001b[1;33m.\u001b[0m\u001b[0mnodes_index\u001b[0m \u001b[1;33m=\u001b[0m \u001b[0mreduces_nodes\u001b[0m\u001b[1;33m.\u001b[0m\u001b[0mnew_nodes\u001b[0m\u001b[1;33m\u001b[0m\u001b[0m\n\u001b[0;32m    120\u001b[0m             \u001b[0mself\u001b[0m\u001b[1;33m.\u001b[0m\u001b[0mLS\u001b[0m \u001b[1;33m=\u001b[0m \u001b[0mreduces_nodes\u001b[0m\u001b[1;33m.\u001b[0m\u001b[0mLS\u001b[0m\u001b[1;33m\u001b[0m\u001b[0m\n",
      "\u001b[1;32mc:\\users\\d4l\\onedrive - van oord\\documents\\halem\\halem\\Mesh_maker.py\u001b[0m in \u001b[0;36m__init__\u001b[1;34m(self, flow, nl, dx_min, blend)\u001b[0m\n\u001b[0;32m    295\u001b[0m \u001b[1;32mclass\u001b[0m \u001b[0mnode_reduction\u001b[0m\u001b[1;33m:\u001b[0m\u001b[1;33m\u001b[0m\u001b[0m\n\u001b[0;32m    296\u001b[0m     \u001b[1;32mdef\u001b[0m \u001b[0m__init__\u001b[0m\u001b[1;33m(\u001b[0m\u001b[0mself\u001b[0m\u001b[1;33m,\u001b[0m \u001b[0mflow\u001b[0m\u001b[1;33m,\u001b[0m \u001b[0mnl\u001b[0m\u001b[1;33m,\u001b[0m \u001b[0mdx_min\u001b[0m\u001b[1;33m,\u001b[0m \u001b[0mblend\u001b[0m\u001b[1;33m)\u001b[0m\u001b[1;33m:\u001b[0m\u001b[1;33m\u001b[0m\u001b[0m\n\u001b[1;32m--> 297\u001b[1;33m         \u001b[0mself\u001b[0m\u001b[1;33m.\u001b[0m\u001b[0mnew_nodes\u001b[0m\u001b[1;33m,\u001b[0m \u001b[0mself\u001b[0m\u001b[1;33m.\u001b[0m\u001b[0mLS\u001b[0m \u001b[1;33m=\u001b[0m \u001b[0mself\u001b[0m\u001b[1;33m.\u001b[0m\u001b[0mGet_nodes\u001b[0m\u001b[1;33m(\u001b[0m\u001b[0mflow\u001b[0m\u001b[1;33m,\u001b[0m \u001b[0mnl\u001b[0m\u001b[1;33m,\u001b[0m \u001b[0mdx_min\u001b[0m\u001b[1;33m,\u001b[0m \u001b[0mblend\u001b[0m\u001b[1;33m)\u001b[0m\u001b[1;33m\u001b[0m\u001b[0m\n\u001b[0m\u001b[0;32m    298\u001b[0m \u001b[1;33m\u001b[0m\u001b[0m\n\u001b[0;32m    299\u001b[0m     \u001b[1;32mdef\u001b[0m \u001b[0mGet_nodes\u001b[0m\u001b[1;33m(\u001b[0m\u001b[0mself\u001b[0m\u001b[1;33m,\u001b[0m\u001b[0mflow\u001b[0m\u001b[1;33m,\u001b[0m \u001b[0mnl\u001b[0m\u001b[1;33m,\u001b[0m \u001b[0mdx_min\u001b[0m\u001b[1;33m,\u001b[0m \u001b[0mblend\u001b[0m\u001b[1;33m)\u001b[0m\u001b[1;33m:\u001b[0m\u001b[1;33m\u001b[0m\u001b[0m\n",
      "\u001b[1;32mc:\\users\\d4l\\onedrive - van oord\\documents\\halem\\halem\\Mesh_maker.py\u001b[0m in \u001b[0;36mGet_nodes\u001b[1;34m(self, flow, nl, dx_min, blend)\u001b[0m\n\u001b[0;32m    310\u001b[0m                 \u001b[0mq\u001b[0m \u001b[1;33m=\u001b[0m \u001b[0mint\u001b[0m\u001b[1;33m(\u001b[0m\u001b[1;36m0\u001b[0m\u001b[1;33m)\u001b[0m\u001b[1;33m\u001b[0m\u001b[0m\n\u001b[0;32m    311\u001b[0m                 \u001b[0mqq\u001b[0m \u001b[1;33m+=\u001b[0m \u001b[1;36m1\u001b[0m\u001b[1;33m\u001b[0m\u001b[0m\n\u001b[1;32m--> 312\u001b[1;33m             \u001b[0mLS_node\u001b[0m \u001b[1;33m=\u001b[0m \u001b[0mself\u001b[0m\u001b[1;33m.\u001b[0m\u001b[0mLength_scale\u001b[0m\u001b[1;33m(\u001b[0m\u001b[0mi\u001b[0m\u001b[1;33m,\u001b[0m \u001b[0mflow\u001b[0m\u001b[1;33m,\u001b[0m \u001b[0mblend\u001b[0m\u001b[1;33m,\u001b[0m \u001b[0mnl\u001b[0m\u001b[1;33m)\u001b[0m\u001b[1;33m\u001b[0m\u001b[0m\n\u001b[0m\u001b[0;32m    313\u001b[0m             \u001b[0mLS\u001b[0m\u001b[1;33m.\u001b[0m\u001b[0mappend\u001b[0m\u001b[1;33m(\u001b[0m\u001b[0mLS_node\u001b[0m\u001b[1;33m)\u001b[0m\u001b[1;33m\u001b[0m\u001b[0m\n\u001b[0;32m    314\u001b[0m             \u001b[0mclosest_nod\u001b[0m \u001b[1;33m=\u001b[0m \u001b[0mself\u001b[0m\u001b[1;33m.\u001b[0m\u001b[0mclosest_node\u001b[0m\u001b[1;33m(\u001b[0m\u001b[0mi\u001b[0m\u001b[1;33m,\u001b[0m \u001b[0mnew_nodes\u001b[0m\u001b[1;33m,\u001b[0m \u001b[0mnodes\u001b[0m\u001b[1;33m)\u001b[0m\u001b[1;33m\u001b[0m\u001b[0m\n",
      "\u001b[1;32mc:\\users\\d4l\\onedrive - van oord\\documents\\halem\\halem\\Mesh_maker.py\u001b[0m in \u001b[0;36mLength_scale\u001b[1;34m(self, node, flow, blend, nl)\u001b[0m\n\u001b[0;32m    329\u001b[0m \u001b[1;33m\u001b[0m\u001b[0m\n\u001b[0;32m    330\u001b[0m     \u001b[1;32mdef\u001b[0m \u001b[0mLength_scale\u001b[0m\u001b[1;33m(\u001b[0m\u001b[0mself\u001b[0m\u001b[1;33m,\u001b[0m \u001b[0mnode\u001b[0m\u001b[1;33m,\u001b[0m \u001b[0mflow\u001b[0m\u001b[1;33m,\u001b[0m \u001b[0mblend\u001b[0m\u001b[1;33m,\u001b[0m \u001b[0mnl\u001b[0m\u001b[1;33m)\u001b[0m\u001b[1;33m:\u001b[0m\u001b[1;33m\u001b[0m\u001b[0m\n\u001b[1;32m--> 331\u001b[1;33m         \u001b[0mnb\u001b[0m \u001b[1;33m=\u001b[0m \u001b[0mFunctions\u001b[0m\u001b[1;33m.\u001b[0m\u001b[0mfind_neighbors\u001b[0m\u001b[1;33m(\u001b[0m\u001b[0mnode\u001b[0m\u001b[1;33m,\u001b[0m \u001b[0mflow\u001b[0m\u001b[1;33m.\u001b[0m\u001b[0mtria\u001b[0m\u001b[1;33m)\u001b[0m\u001b[1;33m\u001b[0m\u001b[0m\n\u001b[0m\u001b[0;32m    332\u001b[0m         \u001b[0mmag\u001b[0m \u001b[1;33m=\u001b[0m \u001b[1;33m(\u001b[0m\u001b[0mflow\u001b[0m\u001b[1;33m.\u001b[0m\u001b[0mu\u001b[0m\u001b[1;33m[\u001b[0m\u001b[1;33m:\u001b[0m\u001b[1;33m,\u001b[0m \u001b[0mnode\u001b[0m\u001b[1;33m]\u001b[0m \u001b[1;33m**\u001b[0m \u001b[1;36m2\u001b[0m \u001b[1;33m+\u001b[0m \u001b[0mflow\u001b[0m\u001b[1;33m.\u001b[0m\u001b[0mv\u001b[0m\u001b[1;33m[\u001b[0m\u001b[1;33m:\u001b[0m\u001b[1;33m,\u001b[0m \u001b[0mnode\u001b[0m\u001b[1;33m]\u001b[0m \u001b[1;33m**\u001b[0m \u001b[1;36m2\u001b[0m\u001b[1;33m)\u001b[0m \u001b[1;33m**\u001b[0m \u001b[1;36m0.5\u001b[0m\u001b[1;33m\u001b[0m\u001b[0m\n\u001b[0;32m    333\u001b[0m         \u001b[0mmag\u001b[0m \u001b[1;33m=\u001b[0m \u001b[0mmag\u001b[0m\u001b[1;33m.\u001b[0m\u001b[0mmax\u001b[0m\u001b[1;33m(\u001b[0m\u001b[1;33m)\u001b[0m\u001b[1;33m\u001b[0m\u001b[0m\n",
      "\u001b[1;32mc:\\users\\d4l\\onedrive - van oord\\documents\\halem\\halem\\Functions.py\u001b[0m in \u001b[0;36mfind_neighbors\u001b[1;34m(pindex, triang)\u001b[0m\n\u001b[0;32m      7\u001b[0m     return triang.vertex_neighbor_vertices[1][\n\u001b[0;32m      8\u001b[0m         triang.vertex_neighbor_vertices[0][pindex] : triang.vertex_neighbor_vertices[0][\n\u001b[1;32m----> 9\u001b[1;33m             \u001b[0mpindex\u001b[0m \u001b[1;33m+\u001b[0m \u001b[1;36m1\u001b[0m\u001b[1;33m\u001b[0m\u001b[0m\n\u001b[0m\u001b[0;32m     10\u001b[0m         ]\n\u001b[0;32m     11\u001b[0m     ]\n",
      "\u001b[1;31mIndexError\u001b[0m: index 4 is out of bounds for axis 0 with size 4"
     ]
    }
   ],
   "source": [
    "import halem.Base_functions as halem\n",
    "import halem.Mesh_maker as Mesh_maker\n",
    "import halem.Functions as Functions\n",
    "import halem.Calc_path as Calc_path\n",
    "\n",
    "import pytest\n",
    "import numpy as np\n",
    "from scipy.spatial import Delaunay\n",
    "from IPython.display import clear_output\n",
    "import os\n",
    "import pickle\n",
    "\n",
    "\n",
    "class flow_class:\n",
    "    def __init__(self, name=\"maaktnietuit\"):\n",
    "        self.t = np.arange(0, 100) + 1558077464\n",
    "        self.nodes = np.array([(0, 0), (0, 0.001), (0.001, 0.001), (0, 0.003)])\n",
    "\n",
    "        self.tria = Delaunay(self.nodes)\n",
    "\n",
    "        self.WD = np.ones((len(self.t), len(self.nodes))) * 100\n",
    "        self.u = np.ones((len(self.t), len(self.nodes))) * 0\n",
    "        self.v = np.ones((len(self.t), len(self.nodes))) * 0\n",
    "        self.u[:, 2] = 10\n",
    "\n",
    "\n",
    "class flow_class2:\n",
    "    def __init__(self, name=\"maaktnietuit\"):\n",
    "        self.t = np.arange(0, 100) + 1558077464\n",
    "        self.nodes = np.array([(0, 0), (0, 0.001), (0.001, 0.001)])\n",
    "        self.tria = Delaunay(self.nodes)\n",
    "        self.nodes = np.array([(0, 0), (0, 0.001), (0.001, 0.001), (1,1)])\n",
    "\n",
    "        self.WD = np.ones((len(self.t), len(self.nodes))) * 100\n",
    "        self.u = np.ones((len(self.t), len(self.nodes))) * 0\n",
    "        self.v = np.ones((len(self.t), len(self.nodes))) * 0\n",
    "        self.u[:, 2] = 10\n",
    "\n",
    "\n",
    "name_textfile_flow = \"maaktnietuit\"\n",
    "Load_flow = flow_class\n",
    "blend = 0\n",
    "nl = (1, 1)\n",
    "dx_min = 0.0000001\n",
    "vship = np.array([[3, 4], [4, 5]])\n",
    "WD_min = np.array([1, 1])\n",
    "WVPI = np.array([5000, 7000])\n",
    "ukc = 0\n",
    "\n",
    "\n",
    "nodes_on_land = Functions.nodes_on_land_None\n",
    "number_of_neighbor_layers = 1\n",
    "\n",
    "Roadmap = Mesh_maker.Graph_flow_model(\n",
    "    name_textfile_flow,\n",
    "    dx_min,\n",
    "    blend,\n",
    "    nl,\n",
    "    number_of_neighbor_layers,\n",
    "    vship,\n",
    "    Load_flow,\n",
    "    WD_min,\n",
    "    WVPI,\n",
    ")\n",
    "\n",
    "Load_flow = flow_class2\n",
    "\n",
    "Roadmap2 = Mesh_maker.Graph_flow_model(\n",
    "    name_textfile_flow,\n",
    "    dx_min,\n",
    "    blend,\n",
    "    nl,\n",
    "    number_of_neighbor_layers,\n",
    "    vship,\n",
    "    Load_flow,\n",
    "    WD_min,\n",
    "    WVPI,\n",
    ")\n",
    "\n",
    "clear_output()\n",
    "\"\n"
   ]
  },
  {
   "cell_type": "code",
   "execution_count": 100,
   "metadata": {},
   "outputs": [],
   "source": [
    "def test_percentageprinter():\n",
    "    class flow_class:\n",
    "        def __init__(self):\n",
    "            x = np.arange(0,1100)\n",
    "            y = 0 * np.arange(0,1100)\n",
    "            y[::2] = 5 \n",
    "\n",
    "            nodes = np.zeros((x.size,2))\n",
    "            nodes[:,1] = x.reshape(x.size)\n",
    "            nodes[:,0] = y.reshape(x.size)\n",
    "            tria = Delaunay(nodes)\n",
    "            self.t = np.arange(3)\n",
    "            self.nodes = nodes\n",
    "            blank = np.zeros((len(self.t), len(nodes)))\n",
    "            self.tria = tria\n",
    "            self.u = blank\n",
    "            self.v = blank\n",
    "            self.WD = blank\n",
    "\n",
    "    f = flow_class()\n",
    "    Q = Mesh_maker.node_reduction(f, (0,0),1,0)"
   ]
  },
  {
   "cell_type": "code",
   "execution_count": 126,
   "metadata": {},
   "outputs": [],
   "source": [
    "class flow_class:\n",
    "    def __init__(self):\n",
    "        x = np.arange(0,3)\n",
    "        y = 0 * np.arange(0,3)\n",
    "        y[::2] = 5 \n",
    "\n",
    "        nodes = np.zeros((len(x),2))\n",
    "        nodes[:,1] = x\n",
    "        nodes[:,0] = y\n",
    "        tria = Delaunay(nodes)\n",
    "        self.t = np.arange(3)\n",
    "        self.nodes = nodes\n",
    "        blank = np.zeros((len(self.t), len(nodes)))\n",
    "        self.tria = tria\n",
    "        self.u = blank\n",
    "        self.v = blank\n",
    "        self.WD = blank\n",
    "\n",
    "f = flow_class()\n",
    "NR = Mesh_maker.node_reduction(f,(0.01,0.001),1,0)\n",
    "np.testing.assert_array_equal(NR.LS.data, np.ones(3))"
   ]
  },
  {
   "cell_type": "code",
   "execution_count": 129,
   "metadata": {},
   "outputs": [
    {
     "data": {
      "text/plain": [
       "2"
      ]
     },
     "execution_count": 129,
     "metadata": {},
     "output_type": "execute_result"
    }
   ],
   "source": [
    "len(Functions.find_neighbors(0, f.tria))"
   ]
  },
  {
   "cell_type": "code",
   "execution_count": null,
   "metadata": {},
   "outputs": [],
   "source": []
  },
  {
   "cell_type": "code",
   "execution_count": null,
   "metadata": {},
   "outputs": [],
   "source": []
  },
  {
   "cell_type": "code",
   "execution_count": null,
   "metadata": {},
   "outputs": [],
   "source": []
  }
 ],
 "metadata": {
  "kernelspec": {
   "display_name": "Python 3",
   "language": "python",
   "name": "python3"
  },
  "language_info": {
   "codemirror_mode": {
    "name": "ipython",
    "version": 3
   },
   "file_extension": ".py",
   "mimetype": "text/x-python",
   "name": "python",
   "nbconvert_exporter": "python",
   "pygments_lexer": "ipython3",
   "version": "3.6.5"
  }
 },
 "nbformat": 4,
 "nbformat_minor": 2
}
